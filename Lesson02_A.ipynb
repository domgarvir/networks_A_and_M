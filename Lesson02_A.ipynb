{
 "cells": [
  {
   "cell_type": "code",
   "execution_count": null,
   "id": "83520a5c-a152-4e67-9694-0fd3380816f2",
   "metadata": {},
   "outputs": [],
   "source": [
    "import pandas as pd #module to work with dataframes\n",
    "import networkx as nx #module to work with networks\n",
    "import numpy as np\n",
    "import scipy as scpy\n",
    "import matplotlib.pyplot as plt\n",
    "from networkx.algorithms import bipartite #we load the bipartite algorithms to facilitate writing the code\n",
    "from Functions import *\n",
    "#%matplotlib inline"
   ]
  },
  {
   "cell_type": "markdown",
   "id": "ebb42d0c-7106-4145-aaf2-4491a80c70eb",
   "metadata": {},
   "source": [
    "# Network Structure I: Centrality metrics (node-escale)"
   ]
  },
  {
   "cell_type": "markdown",
   "id": "5aa0d2cb-c854-4fdd-a942-f0daa29f7c6a",
   "metadata": {},
   "source": [
    "## Paths \n",
    "\n",
    "A *path* in a network is a sequence of edges connecting two nodes. Let's start with a very simple, undirected network."
   ]
  },
  {
   "cell_type": "code",
   "execution_count": null,
   "id": "f337aa72-7118-4d6e-8315-7e7a8ddf7435",
   "metadata": {},
   "outputs": [],
   "source": [
    "G = nx.Graph()\n",
    "G.add_nodes_from([1,2,3,4])\n",
    "G.add_edges_from([(1,2),(2,3),(1,3),(1,4)])\n",
    "nx.draw(G, with_labels=True)"
   ]
  },
  {
   "cell_type": "markdown",
   "id": "11fad55c-38cc-452b-92b6-760ca4c00671",
   "metadata": {},
   "source": [
    "In this simple example, we can easily see that there is indeed at least one path that connects nodes 3 and 4. We can verify this with the NetworkX function `nx.has_path(G, start node, end node)`"
   ]
  },
  {
   "cell_type": "code",
   "execution_count": null,
   "id": "3423f889-f705-45da-91ad-c04e0bae5ec1",
   "metadata": {},
   "outputs": [],
   "source": [
    "nx.has_path(G, 3, 4)"
   ]
  },
  {
   "cell_type": "markdown",
   "id": "754b6b34-b9b0-43bf-8c5f-2c96f4ef2a8d",
   "metadata": {},
   "source": [
    "There can be more than one path between two nodes. Again considering nodes 3 and 4, there are two such \"simple\" paths:"
   ]
  },
  {
   "cell_type": "code",
   "execution_count": null,
   "id": "b9ca7749-9d69-4515-a319-6d280e06e145",
   "metadata": {},
   "outputs": [],
   "source": [
    "list(nx.all_simple_paths(G, 3, 4))"
   ]
  },
  {
   "cell_type": "markdown",
   "id": "4159bf60-0dc2-42a6-a24b-0c66f45d496d",
   "metadata": {},
   "source": [
    "We are often most interested in **shortest paths**. In an unweighted network, the shortest path is the one with the fewest edges. We can see that of the two simple paths between nodes 3 and 4, one is shorter than the other. We can get this shortest path with a single NetworkX function `nx.shortest_path(G, start node, end node)`"
   ]
  },
  {
   "cell_type": "code",
   "execution_count": null,
   "id": "09ddd2f3-5cc0-4944-b098-d3a6260c95ce",
   "metadata": {},
   "outputs": [],
   "source": [
    "nx.shortest_path(G, 3, 4)"
   ]
  },
  {
   "cell_type": "markdown",
   "id": "1f392b2d-c64a-408f-9fc5-db10244bb2a5",
   "metadata": {},
   "source": [
    "If you only care about the path length, there's a function for that too: `nx.shortest_path_length(G, start node, end node)`"
   ]
  },
  {
   "cell_type": "code",
   "execution_count": null,
   "id": "6d6927e6-e2ba-4426-806d-6b97586120df",
   "metadata": {},
   "outputs": [],
   "source": [
    "nx.shortest_path_length(G, 3, 4)"
   ]
  },
  {
   "cell_type": "markdown",
   "id": "ef63f227-5e62-4594-b5e7-59815581cde2",
   "metadata": {},
   "source": [
    "> Note that a path length is defined here by the number of *edges* in the path, not the number of nodes, which implies that for nodes $u$ and $v$.\n",
    ">\n",
    ">    `nx.shortest_path_length(G, u, v) == len(nx.shortest_path(G, u, v)) - 1`\n",
    "   \n"
   ]
  },
  {
   "cell_type": "markdown",
   "id": "43836c34-fda5-4d47-8bd5-2117334adb0f",
   "metadata": {},
   "source": [
    "<div class=\"alert alert-block alert-success\"><b>Up to you: </b>\n",
    "<h4> Exercise 9</h4>\n",
    "Let's work with the network of US air travel routes. The nodes in this graph are airports, represented by their IATA codes.\n",
    "\n",
    "![title](./images/figure6.png)\n",
    "    \n",
    "Two nodes are connected with an edge if there is a scheduled flight directly connecting these two airports. We'll assume this graph to be undirected since a flight in one direction usually means there is a return flight.\n",
    "Thus this graph has edges\n",
    "\n",
    "[('HOM', 'ANC'), ('BGM', 'PHL'), ('BGM', 'IAD'), ...]\n",
    "\n",
    "where ANC is Anchorage, IAD is Washington Dulles, etc.\n",
    "    \n",
    "Create the network of USA flights and analyze it to answer these questions:\n",
    "    \n",
    "- 1) Is there a direct flight between Indianapolis (IND) and Fairbanks, Alaska (FAI)? A direct flight is one with no intermediate stops.\n",
    "- 2) If I wanted to fly from Indianapolis to Fairbanks, Alaska what would be an itinerary with the fewest number of flights?\n",
    "</div>"
   ]
  },
  {
   "cell_type": "code",
   "execution_count": null,
   "id": "35414369-53ed-4e1d-9614-82d90e5f4f13",
   "metadata": {},
   "outputs": [],
   "source": [
    "#write your code here. The network is already loaded\n",
    "G = nx.read_graphml('./data/openflights_usa.graphml.gz')"
   ]
  },
  {
   "cell_type": "code",
   "execution_count": null,
   "id": "954682b9-71ff-430f-984d-f59e4cd3435f",
   "metadata": {},
   "outputs": [],
   "source": [
    "#SOLUTION: uncomment line below to load the solution\n",
    "# %load ./snippets/ex9.py"
   ]
  },
  {
   "cell_type": "markdown",
   "id": "4c946b86-8f79-4864-a342-1b51d3570430",
   "metadata": {},
   "source": [
    "Let's extend these ideas about paths to directed graphs.\n",
    "### Directed paths\n",
    "\n",
    "We know that in a directed graph, an edge from an arbitrary node $u$ to an arbitrary node $v$ does not imply that an edge exists from $v$ to $u$. Since paths must follow edge direction in directed graphs, the same asymmetry applies for paths. Observe that this graph has a path from 1 to 4, but not in the reverse direction."
   ]
  },
  {
   "cell_type": "code",
   "execution_count": null,
   "id": "7aa73020-99c9-48fa-b7de-649b5413b597",
   "metadata": {},
   "outputs": [],
   "source": [
    "D = nx.DiGraph()\n",
    "D.add_edges_from([\n",
    "    (1,2),\n",
    "    (2,3),\n",
    "    (3,2), (3,4), (3,5),\n",
    "    (4,2), (4,5), (4,6),\n",
    "    (5,6),\n",
    "    (6,4),\n",
    "])\n",
    "nx.draw(D, with_labels=True)"
   ]
  },
  {
   "cell_type": "code",
   "execution_count": null,
   "id": "c1162aae-38b5-4c3d-a733-0e296511be9d",
   "metadata": {},
   "outputs": [],
   "source": [
    "nx.has_path(D, 1, 4)"
   ]
  },
  {
   "cell_type": "code",
   "execution_count": null,
   "id": "791ba037-2f2b-42e6-9b0d-c9d06146a83b",
   "metadata": {},
   "outputs": [],
   "source": [
    "nx.has_path(D, 4, 1)"
   ]
  },
  {
   "cell_type": "markdown",
   "id": "2b3c83ad-4730-4d4c-ab66-06564fbc13c8",
   "metadata": {},
   "source": [
    "The other NetworkX functions dealing with paths take this asymmetry into account as well:"
   ]
  },
  {
   "cell_type": "code",
   "execution_count": null,
   "id": "d2752c89-e486-42d5-9a5b-14eec7de8a2a",
   "metadata": {},
   "outputs": [],
   "source": [
    "nx.shortest_path(D, 2, 5)"
   ]
  },
  {
   "cell_type": "code",
   "execution_count": null,
   "id": "e4f69ee3-9138-41a4-bf4d-73640989806e",
   "metadata": {},
   "outputs": [],
   "source": [
    "nx.shortest_path(D, 5, 2)"
   ]
  },
  {
   "cell_type": "markdown",
   "id": "81ac9a99-cd73-4256-ad0c-06832f1c6f3a",
   "metadata": {},
   "source": [
    "> Note: Since there is no edge from 5 to 3, the shortest path from 5 to 2 cannot simply backtrack the shortest path from 2 to 5 -- it has to go a longer route through nodes 6 and 4."
   ]
  },
  {
   "cell_type": "markdown",
   "id": "44935f22-4ff6-45bc-8e09-2d168694e5fb",
   "metadata": {},
   "source": [
    "<div class=\"alert alert-block alert-success\"><b>Up to you: </b>\n",
    "<h4> Exercise 10</h4>\n",
    "Imagine that after an accident, the 'Suspension-feeding molluscs' have been contaminated with lead. Taking into cosideration the structure of the trophic interactions in the St Marks estudary, aswer the following questions:\n",
    "    \n",
    "- 1 Should we be worried about the well fare of the 'Tonguefish'? \n",
    "- 2 and what about the 'Spider crabs'?\n",
    "- 3 Should we expect more accumulation of lead in 'Red drum' or in 'Tonguefish', according to their diets?\n",
    "</div>"
   ]
  },
  {
   "cell_type": "code",
   "execution_count": null,
   "id": "6da2aae7-350c-4b65-9b8a-8ebe2c2e33ca",
   "metadata": {},
   "outputs": [],
   "source": [
    "# Start by loading the network as we did before, and continue with your code\n",
    "filename=\"./data/WoL_StMarks/st_marks_Ilist.csv\"\n",
    "Ilist=pd.read_csv(filename, header=None, index_col=None)\n",
    "Ilist.columns=[\"source\",\"target\",\"w\"]\n",
    "FW=nx.from_pandas_edgelist(Ilist, edge_attr=\"w\", create_using=nx.DiGraph)\n",
    "species=list(FW.nodes())\n",
    "#your code here"
   ]
  },
  {
   "cell_type": "code",
   "execution_count": null,
   "id": "11d5bafb-363b-4b89-bdc3-58f3066be8d0",
   "metadata": {},
   "outputs": [],
   "source": []
  },
  {
   "cell_type": "markdown",
   "id": "0dc7d452-3217-4622-b697-6b5d65242de2",
   "metadata": {},
   "source": [
    "## Centrality metrics\n",
    "\n",
    "Often when looking at a network, we want to find the most \"important\" nodes, for some definition of important. The most basic measure of centrality is the *degree*, or number of links attached to a node. Let's take a look at the network we have loaded."
   ]
  },
  {
   "cell_type": "code",
   "execution_count": null,
   "id": "a82ce872-02ac-44e7-8bd8-e2c7941e06e5",
   "metadata": {},
   "outputs": [],
   "source": [
    "pos = nx.kamada_kawai_layout(G)\n",
    "nx.draw(G,pos,node_size=50)"
   ]
  },
  {
   "cell_type": "markdown",
   "id": "d5c657c0-8cca-4fb2-9e09-88e6b5c560a3",
   "metadata": {},
   "source": [
    "### Degree centraility\n",
    "\n",
    "Do all airports seem equally easy to access? The degree centrality tell us the **number of neighbours of each node**. In this case, it can be understood as a proxy of how well connected is a given airport. As we saw in lesson 1, we can obtain the **degree centrality** of the nodes in the network using the method `G.degree(node)`.\n",
    "Usually the degree of node $i$ is represented with by $k_i$. We will say that a node has a higher degree centrality if it has a higher degree (i.e. if it has many neighbours). The rationale is **the more connections** a node has -> **the more important** hte node is"
   ]
  },
  {
   "cell_type": "code",
   "execution_count": null,
   "id": "818017e6-9303-427c-b8f1-f46088f8bbe8",
   "metadata": {},
   "outputs": [],
   "source": [
    "K=pd.Series(dict(G.degree())).sort_values(ascending=False) #let's store the degrees of the nodes in a series, so we can easily access later\n",
    "print(K.head(5))"
   ]
  },
  {
   "cell_type": "markdown",
   "id": "42f7fa68-5613-4bc1-b80a-3391b4e80dfc",
   "metadata": {},
   "source": [
    "We can now find which is the best connected airport in the US"
   ]
  },
  {
   "cell_type": "code",
   "execution_count": null,
   "id": "00e30d98-bfe5-4355-956e-62bf1b8c8a41",
   "metadata": {},
   "outputs": [],
   "source": [
    "airport=K.idxmax()\n",
    "print(\"The most connected airport is the %s with %s direct flights to other destinations\" % (G.nodes[airport][\"name\"],K[airport]))"
   ]
  },
  {
   "cell_type": "markdown",
   "id": "372d5ff8-5b72-45dd-94d1-ffac7bf5d708",
   "metadata": {},
   "source": [
    "#### Degree distributions\n",
    "What is the bigger difference between these two networks?\n",
    "\n",
    "![title](./images/figure7.png)"
   ]
  },
  {
   "cell_type": "markdown",
   "id": "b3d93b5e-5e7a-4698-9328-205dc9aec7df",
   "metadata": {},
   "source": [
    "The most basic structural properties of a network are the number of nodes (**N**) and the number of links (**L**). However, how these links are distributed among the nodes (**$K_i$**) has deep implications for other network properties (it is not the same to have all nodes with similar degree, or having a very heterogeneous dostribution). The degree distribution will play a very important role determining other structural metrics in the networks.\n",
    "We can see the **degree distribution** of a network by doing a histogram of the degree series. This will tell us how many nodes with a given number of neighbours are in the network.\n"
   ]
  },
  {
   "cell_type": "code",
   "execution_count": null,
   "id": "eaf0c3d4-4096-4b06-ad25-1e95767b50d8",
   "metadata": {},
   "outputs": [],
   "source": [
    "#do histogram of degree. Fixed bin width to 1.\n",
    "bins = np.arange(K.min(), K.max() + 2, 1)#fix width of bin to 1\n",
    "hist, bin_edges = np.histogram(K, bins=bins)"
   ]
  },
  {
   "cell_type": "code",
   "execution_count": null,
   "id": "92aeecc1-f8ec-41e8-abf5-faf0d273adf1",
   "metadata": {},
   "outputs": [],
   "source": [
    "#let's plot the histogram to see ho is K distributed\n",
    "plt.plot(bin_edges[:-1],hist, 'o',color=\"k\",alpha=0.3)\n",
    "#plt.yscale('log')\n",
    "#plt.xscale('log')\n",
    "plt.xlabel(\"Degree of node (K)\")\n",
    "plt.ylabel(\"Number of nodes with degree K\")\n",
    "plt.show()"
   ]
  },
  {
   "cell_type": "markdown",
   "id": "081ec522-41da-41e2-8e55-b6802c720912",
   "metadata": {},
   "source": [
    "And we can also obtain simple statistics from it, like the mean degree, and its standard deviation"
   ]
  },
  {
   "cell_type": "code",
   "execution_count": null,
   "id": "2bf4d14c-8c16-459b-98d1-8d771a95c1fd",
   "metadata": {},
   "outputs": [],
   "source": [
    "K_mean=K.mean()\n",
    "K_std=K.std()\n",
    "\n",
    "print(\"The average number of direct flights from an US airport is %.2f +- %.2f\"  % (K_mean,K_std))"
   ]
  },
  {
   "cell_type": "markdown",
   "id": "00371bba-1d9a-4ef2-a4bd-7579c98000cc",
   "metadata": {},
   "source": [
    "> Note: In these **long tailed distributions** the verage value is not representative of anything, as the standard distribution is larger than the mean!!"
   ]
  },
  {
   "cell_type": "markdown",
   "id": "cdf12a56-3e06-45e2-946b-cf325b14b371",
   "metadata": {},
   "source": [
    "There has been a lot of debate regarding the form of the degree distribution ($P(K)$) in real networks. The best practice to determine which function fits better the $P(K)$) is to use the **cumulative degree distribution** (i.e. how many nodes with degree $K$ or below are in the network) because it is less noisi. Let's see how we can do this. "
   ]
  },
  {
   "cell_type": "code",
   "execution_count": null,
   "id": "e9888793-7b8a-4d90-8408-de3127b56d09",
   "metadata": {},
   "outputs": [],
   "source": [
    "#Compute the cumulative sum, but in reverse order to count values greater than or equal\n",
    "cumulative_hist = np.cumsum(hist[::-1])[::-1]\n",
    "#plot\n",
    "plt.plot(bin_edges[:-1], cumulative_hist, 'o',color=\"k\",alpha=0.3)\n",
    "plt.xscale('log')\n",
    "plt.yscale('log')\n",
    "plt.xlabel(\"Degree of node (K)\")\n",
    "plt.ylabel(\"Number of nodes with degree K or more\") #\n",
    "plt.show()"
   ]
  },
  {
   "cell_type": "markdown",
   "id": "89e81426-5d86-4f1f-bf5c-fb0b229f4f64",
   "metadata": {},
   "source": [
    "#### Generalizing \"neighbors\" to arbitrarily-sized graphs\n",
    "\n",
    "The concept of neighbors is simple and appealing,\n",
    "but it leaves us with a slight point of dissatisfaction:\n",
    "it is difficult to compare graphs of different sizes.\n",
    "Is a node more important solely because it has more neighbors?\n",
    "What if it were situated in an extremely large graph?\n",
    "Would we not expect it to have more neighbors?\n",
    "\n",
    "As such, we need a normalization factor.\n",
    "One reasonable one, in fact, is\n",
    "_the number of nodes that a given node could **possibly** be connected to._\n",
    "By taking the ratio of the number of neighbors a node has\n",
    "to the number of neighbors it could possibly have,\n",
    "we get the **degree centrality** metric.\n",
    "\n",
    "Formally defined, the degree centrality of a node (let's call it $d$)\n",
    "is the number of neighbors that a node has (let's call it $k$, its degree)\n",
    "divided by the number of neighbors it could _possibly_ have (let's call it $N$, all nodes):\n",
    "\n",
    "$$d = \\frac{k}{N}$$\n",
    "\n",
    "NetworkX provides a function for us to calculate **degree centrality** conveniently:"
   ]
  },
  {
   "cell_type": "code",
   "execution_count": null,
   "id": "ad5d0943-0963-4ee3-ab22-985708892567",
   "metadata": {},
   "outputs": [],
   "source": [
    "d = pd.Series(nx.degree_centrality(G)).sort_values(ascending=False)\n",
    "print(d.head())\n",
    "d.hist()\n",
    "plt.show()"
   ]
  },
  {
   "cell_type": "markdown",
   "id": "578f7901-4df7-4e60-befc-d206111993aa",
   "metadata": {},
   "source": [
    "### Betweenness centrality\n",
    "\n",
    "In some cases you can be more interested in knowing the extent to which a node lies on paths between other nodes. For example, the airport that is most used as an intermediate stop between other destinations. \n",
    "To claculate the betweeness centrality we do:"
   ]
  },
  {
   "cell_type": "code",
   "execution_count": null,
   "id": "5f767bcf-74b2-4a72-a632-5ff96eec6bb2",
   "metadata": {},
   "outputs": [],
   "source": [
    "betweenness = pd.Series(nx.centrality.betweenness_centrality(G)).sort_values(ascending=False)"
   ]
  },
  {
   "cell_type": "code",
   "execution_count": null,
   "id": "ecc5f711-7dff-43e0-8341-c552fbfbcc46",
   "metadata": {},
   "outputs": [],
   "source": [
    "print(C)"
   ]
  },
  {
   "cell_type": "markdown",
   "id": "4c47ec4a-e6fc-4761-a49b-b43b8f6dfde5",
   "metadata": {},
   "source": [
    "### Closeness centrality\n",
    "\n",
    "Closeness centrality indicates how close a node is to all other nodes in the network. It is calculated as the average of the shortest path length from the node to every other node in the network. In the airport network it means the airport that is best connected to the rest of the airports (in fewer jumps)."
   ]
  },
  {
   "cell_type": "code",
   "execution_count": null,
   "id": "7786616b-ea7b-41c7-a924-5335cb6d4b68",
   "metadata": {},
   "outputs": [],
   "source": [
    "closenness = pd.Series(nx.centrality.closeness_centrality(G)).sort_values(ascending=False)\n",
    "print(closenness)"
   ]
  },
  {
   "cell_type": "markdown",
   "id": "fe3d8fc8-fb1f-4f90-80e0-0140072b7dfb",
   "metadata": {},
   "source": [
    "You probably realized that the centrality metrics of nodes do **NOT** neccesarily coincide, that is, one can have many direct lfights to other destinations, but not be an airport where people change flights, or not be very close to all other airports. Let's see it in our Airports network:"
   ]
  },
  {
   "cell_type": "code",
   "execution_count": null,
   "id": "722a4561-e107-47de-8239-835dfbf6349b",
   "metadata": {},
   "outputs": [],
   "source": [
    "Airports=list(G.nodes) # we need to keep the same order as in the graph\n",
    "nx.draw(G,pos,node_color=c[Airports],node_size=50)"
   ]
  },
  {
   "cell_type": "code",
   "execution_count": null,
   "id": "3ac95be2-f61b-4ef8-9ea8-90a2b42e5627",
   "metadata": {},
   "outputs": [],
   "source": [
    "nx.draw(G,pos,node_color=betweenness[Airports],node_size=50)"
   ]
  },
  {
   "cell_type": "code",
   "execution_count": null,
   "id": "67dec69e-aefd-4279-b829-c21bcd124501",
   "metadata": {},
   "outputs": [],
   "source": [
    "nx.draw(G,pos,node_color=closenness[Airports],node_size=50)"
   ]
  },
  {
   "cell_type": "markdown",
   "id": "1dde7a60-b230-4285-ab59-cd2bc4b1ef93",
   "metadata": {},
   "source": [
    "### Page Rank\n",
    "\n",
    "PageRank computes a ranking of the nodes in the graph G based on the structure of the incoming links. It was originally designed as an algorithm to rank web pages.\n",
    "However, it can also be used to identify the species that \"move\" more biomass trough a network, or in general, the node that is most used when trasnporting information trough the graph. Since this is only interesting in **directed graphs** let's use one of our directed networks. It has been used, for example, to find what are the nodes that are pointing to the more \"important\" nodes, in order to find the species that can cause more harm when they disapear from the network."
   ]
  },
  {
   "cell_type": "code",
   "execution_count": null,
   "id": "eea77630-dd36-42a3-abf1-b436da2bf5a9",
   "metadata": {},
   "outputs": [],
   "source": [
    "# Start by loading the network as we did before\n",
    "filename=\"./data/WoL_StMarks/st_marks_Ilist.csv\"\n",
    "Ilist=pd.read_csv(filename, header=None, index_col=None)\n",
    "Ilist.columns=[\"source\",\"target\",\"w\"]\n",
    "FW=nx.from_pandas_edgelist(Ilist, edge_attr=\"w\", create_using=nx.DiGraph)\n",
    "TL=nx.centrality.trophic_levels(FW)\n"
   ]
  },
  {
   "cell_type": "markdown",
   "id": "118aaa62-6cec-419a-aa8d-f59950865a2d",
   "metadata": {},
   "source": [
    "Now let's compute the Page rank:"
   ]
  },
  {
   "cell_type": "code",
   "execution_count": null,
   "id": "e1bdb349-f5be-4e3a-9103-5b1ba5bf60f0",
   "metadata": {},
   "outputs": [],
   "source": [
    "PR = pd.Series(nx.pagerank(FW.reverse(), alpha=0.9)) #alpha is damping parameter for PageRank, default=0.85.\n",
    "PR"
   ]
  },
  {
   "cell_type": "code",
   "execution_count": null,
   "id": "6d3d8b62-f421-42b1-b9fd-0e11c6c5bc3e",
   "metadata": {},
   "outputs": [],
   "source": [
    "#FW.remove_node(base_node)\n",
    "species=list(FW.nodes)\n",
    "pos= nx.shell_layout(FW)\n",
    "TL=nx.centrality.trophic_levels(FW)\n",
    "# Modify the y-coordinate based on the trophic level\n",
    "for node in pos:\n",
    "    pos[node] = (pos[node][0], TL[node])  # Set the y-position as the trophic level\n",
    "\n",
    "nx.draw(FW, pos, node_color=PR[species], with_labels=True)\n",
    "plt.show()"
   ]
  },
  {
   "cell_type": "markdown",
   "id": "10e79ee5-6e1b-4c01-9562-de40e1ffc6bc",
   "metadata": {},
   "source": [
    "## Centrality metrics in Bipartite networks\n",
    "\n",
    "When we are working with bipartite networks, we should use the algorithms included in `nx.bipartite` and not those of the unipartite networks! \n",
    "\n",
    "Lets see some examples"
   ]
  },
  {
   "cell_type": "markdown",
   "id": "6144cb13-6953-45d8-82f7-6662761a87ce",
   "metadata": {},
   "source": [
    "### Degree centraility in bipartite networks\n",
    "\n",
    "In the bipartite case, the maximum possible degree of a node in a bipartite node set is the number of nodes in the opposite node set. The degree centrality for a node $u$ in the bipartite set $U$ with $n$ nodes that is connected to nodes in the bipartite set $V$ with $m$ nodes is\n",
    "$$d_u=\\frac{k_u}{m}$$, for $u\\in U$, and for a node $v$ nodes in set $V$ is $$d_v=\\frac{k_v}{n}$$, for $v\\in V$,\n",
    "\n",
    "where $k_v$ is the degree of node v."
   ]
  },
  {
   "cell_type": "code",
   "execution_count": null,
   "id": "1d6fea06-5077-408b-a756-5aa54cadaf3f",
   "metadata": {},
   "outputs": [],
   "source": [
    "#Genate a Bipartie network\n",
    "Bnet=bipartite.random_graph(4, 5, 0.4, seed=None, directed=False)"
   ]
  },
  {
   "cell_type": "markdown",
   "id": "1bdd6aaf-0d4b-4a93-916f-ffc105b483f8",
   "metadata": {},
   "source": [
    "### Non-linear maps (fitness-complexity)"
   ]
  },
  {
   "cell_type": "markdown",
   "id": "4138d6ba-c691-410f-abc6-7f2db92c7326",
   "metadata": {},
   "source": [
    "## Consecuences of the structure"
   ]
  },
  {
   "cell_type": "markdown",
   "id": "9518eddf-7ee2-492c-869f-f914f132d4cb",
   "metadata": {},
   "source": [
    "### Random failure vs targetted attack (nodes)"
   ]
  },
  {
   "cell_type": "markdown",
   "id": "74753484-4411-48b8-8fa2-89d98af90698",
   "metadata": {},
   "source": [
    "### Attacking edges"
   ]
  },
  {
   "cell_type": "markdown",
   "id": "3e661229-0a5e-4d9b-a0fb-e6a04270cc4b",
   "metadata": {},
   "source": []
  }
 ],
 "metadata": {
  "kernelspec": {
   "display_name": "net-course",
   "language": "python",
   "name": "net-course"
  },
  "language_info": {
   "codemirror_mode": {
    "name": "ipython",
    "version": 3
   },
   "file_extension": ".py",
   "mimetype": "text/x-python",
   "name": "python",
   "nbconvert_exporter": "python",
   "pygments_lexer": "ipython3",
   "version": "3.12.4"
  }
 },
 "nbformat": 4,
 "nbformat_minor": 5
}
