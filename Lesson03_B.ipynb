{
 "cells": [
  {
   "cell_type": "markdown",
   "id": "0cfee672-2763-4b1e-acf0-16e492af648a",
   "metadata": {},
   "source": [
    "# Checking for statistical relevance"
   ]
  },
  {
   "cell_type": "markdown",
   "id": "89324578-e385-4e0b-8dd8-393ae252519e",
   "metadata": {},
   "source": [
    "## Null models ensembles"
   ]
  },
  {
   "cell_type": "markdown",
   "id": "b5e181ef-bb30-4cb5-832b-932bdc9970b9",
   "metadata": {},
   "source": [
    "### Z-Scores and P-values"
   ]
  },
  {
   "cell_type": "code",
   "execution_count": null,
   "id": "9b89005f-e1b8-429f-8b04-231f4a68faf8",
   "metadata": {},
   "outputs": [],
   "source": []
  }
 ],
 "metadata": {
  "kernelspec": {
   "display_name": "Python 3 (ipykernel)",
   "language": "python",
   "name": "python3"
  },
  "language_info": {
   "codemirror_mode": {
    "name": "ipython",
    "version": 3
   },
   "file_extension": ".py",
   "mimetype": "text/x-python",
   "name": "python",
   "nbconvert_exporter": "python",
   "pygments_lexer": "ipython3",
   "version": "3.9.13"
  }
 },
 "nbformat": 4,
 "nbformat_minor": 5
}
