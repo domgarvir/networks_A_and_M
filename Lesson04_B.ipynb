{
 "cells": [
  {
   "cell_type": "code",
   "execution_count": null,
   "id": "4029f1d9-c1ae-4e61-ba9a-5e924b2b3c0a",
   "metadata": {},
   "outputs": [],
   "source": [
    "import pandas as pd #module to work with dataframes\n",
    "import networkx as nx #module to work with networks\n",
    "import numpy as np\n",
    "import matplotlib.pyplot as plt\n",
    "import random\n",
    "from networkx.algorithms import bipartite #we load the bipartite algorithms to facilitate writing the code\n",
    "\n",
    "from Functions import *"
   ]
  },
  {
   "cell_type": "markdown",
   "id": "024688bc-7983-45af-a9d7-f1b30abae9f6",
   "metadata": {},
   "source": [
    "# Dynamics ON networks"
   ]
  },
  {
   "cell_type": "markdown",
   "id": "5532ec62-db59-4b98-9558-3165d5f7d8be",
   "metadata": {},
   "source": [
    "## Generalized Lotka-Volterra (steady state)\n",
    "\n",
    "It is easy to obtain the steady state of a generalized Lotka-Volterra, as it is only solving a system of equations! \n",
    "\n",
    "Let's see how we can do it using as an example the mutualistic network of pollination from Argentina."
   ]
  },
  {
   "cell_type": "code",
   "execution_count": null,
   "id": "d09264da-5442-42a8-90a6-1827b65b181f",
   "metadata": {},
   "outputs": [],
   "source": [
    "filename=\"./data/pollination/Medan_Rio_Blanco.csv\"\n",
    "#1. Read the file and sotre in dataframe\n",
    "Idf=pd.read_csv(filename, header=0, index_col=0)\n",
    "#print(Idf.head())\n",
    "\n",
    "#2. Create bipartite network\n",
    "# Initialize an empty bipartite graph\n",
    "B = nx.Graph()\n",
    "# Add producers (rows) and consumers (columns) as nodes\n",
    "plants = Idf.index\n",
    "animals = Idf.columns\n",
    "\n",
    "# Add nodes with a bipartite identifier\n",
    "B.add_nodes_from(plants, bipartite=\"plant\")  # Set for producers\n",
    "B.add_nodes_from(animals, bipartite=\"animal\")  # Set for consumers\n",
    "# Add edges for non-zero interactions, we can also use the matrix directly\n",
    "for plant in plants:\n",
    "    for animal in animals:\n",
    "        if Idf.loc[plant, animal] != 0:\n",
    "            B.add_edge(plant, animal)\n",
    "            "
   ]
  },
  {
   "cell_type": "code",
   "execution_count": null,
   "id": "2df1dd8c-9f6f-46e5-bd06-3fe3f82b0ff9",
   "metadata": {},
   "outputs": [],
   "source": [
    "#convert to incidence matrix to build from there the matrix of the model\n",
    "Imat=nx.to_pandas_adjacency(B).loc[animals, plants]\n",
    "#create the matrix of the model\n",
    "matrices=interaction_matrix(Imat)\n",
    "A=matrices[\"alpha\"]#this is the matrix of itneractions among all species, we use that with all species (A)\n",
    "r=simplex_sampling(1,len(A)) #sample reproductive rates randomly in the unit sphere\n",
    "N_sol = np.linalg.inv(A) @ r[0].reshape(-1, 1) #solve the system of equations\n",
    "N_sol[0:5]"
   ]
  },
  {
   "cell_type": "markdown",
   "id": "d3cebcd2-f930-4294-bcc6-2820a5be9fc0",
   "metadata": {},
   "source": [
    "In gneral, we will be interested in knowing for example how frequantly a given species is present in the community, or on the \\% of surviving species as a function of the itneraction entwork, so we will to solve the system many times"
   ]
  },
  {
   "cell_type": "code",
   "execution_count": null,
   "id": "288b15c0-da12-454e-b175-a1c10d8b1559",
   "metadata": {},
   "outputs": [],
   "source": [
    "#model dynamical parameters\n",
    "N_sim=500\n",
    "rho=0.005\n",
    "delta=0.0\n",
    "gamma_avg=0.1\n",
    "\n",
    "Surv_df=pd.DataFrame(index=np.arange(N_sim),  columns=list(A)) #to store results\n",
    "\n",
    "#create the model matrices\n",
    "Imat=nx.to_pandas_adjacency(B).loc[animals, plants]\n",
    "matrices=interaction_matrix(Imat,gamma_avg = gamma_avg, rho = rho, delta = delta)\n",
    "A=matrices[\"alpha\"]#this is the matrix of itneractions among all species\n",
    "r=simplex_sampling(N_sim,len(A)) #we sample the rs beforehand\n",
    "\n",
    "#run the simulation N_sim times\n",
    "for sim in range(N_sim):\n",
    "    ri=r[sim]\n",
    "    N_sol = np.linalg.inv(A) @ r[sim].reshape(-1, 1) #solve the system of equations\n",
    "    psurvivors=[0 if i<0 else 1 for i in N_sol] #we want to know if the species is present\n",
    "    Surv_df.iloc[sim]=psurvivors"
   ]
  },
  {
   "cell_type": "code",
   "execution_count": null,
   "id": "62089ff2-2583-4b29-868c-0c56b5e17a5d",
   "metadata": {},
   "outputs": [],
   "source": [
    "((Surv_df.sum()/N_sim)).hist() #histogram of the number of species that is present from 0 to 1 of the simulations\n",
    "plt.xlabel(\"Presence\")\n",
    "plt.ylabel(\"P(presence)\")\n",
    "plt.show()"
   ]
  },
  {
   "cell_type": "code",
   "execution_count": null,
   "id": "d026e40b-1655-4d83-9dce-83d2fe18b21d",
   "metadata": {},
   "outputs": [],
   "source": [
    "np.mean(Surv_df.sum(axis=1)/len(A)) #average persistence across simulations (%of species present)"
   ]
  },
  {
   "cell_type": "markdown",
   "id": "106369ad-54e1-4239-bab0-b766c1a5c448",
   "metadata": {},
   "source": [
    "<div class=\"alert alert-block alert-success\"><b>Up to you: </b>\n",
    "<h4> Exercise 26</h4>\n",
    "    \n",
    "Create a randomized version of the network using the gnmk model (keeping constant $Np$,$Na$ and $L$$) and run the simulation on it. \n",
    "    \n",
    "- 1. Do you think there will be a difference in species persistence?\n",
    "- 2. Run the simulation and plot the histogram of persistence of the random community togheter with the original community. What do you see?\n",
    "    \n",
    "    \n",
    "</div>\n"
   ]
  },
  {
   "cell_type": "code",
   "execution_count": null,
   "id": "3a4cd6ca-b725-4464-a94a-7ed2c07a58eb",
   "metadata": {},
   "outputs": [],
   "source": [
    "## your code here\n",
    "# 1. create the randomized version of the bipartite networks as in lesson3A\n",
    "# 2. repeat the simulation procedure using the randomized matrix. \n",
    "# 3. store the results in a new dataframe, similarly as above\n",
    "# 4. plot the two histogrmas of presence togheter, una after the other."
   ]
  },
  {
   "cell_type": "code",
   "execution_count": null,
   "id": "43d9593a-0baf-44ab-8506-90703046ab7c",
   "metadata": {},
   "outputs": [],
   "source": [
    "# %load ./snippets/ex26.py\n"
   ]
  },
  {
   "cell_type": "code",
   "execution_count": null,
   "id": "5a340185-6d0d-410e-a3d7-41ed31358b57",
   "metadata": {},
   "outputs": [],
   "source": [
    "#O, OP_eff, OA_eff= calc_Omegas_py(Imat)\n",
    "#O"
   ]
  },
  {
   "cell_type": "markdown",
   "id": "20312cd1-d19b-43ff-a131-41d0f2ec7362",
   "metadata": {},
   "source": [
    "## Simulating processes\n",
    "Now we will see how to use the included Simulation class to simulate node dynamics by specifying a graph, the initial state of the nodes, and node state transitions.\n",
    "\n",
    "## The Simulation class\n",
    "\n",
    "Included in the folder is a `simulation.py` file that contains a `Simulation` class. This class will allow us to skip the details of writing a simulation, allowing us to concentrate on the interesting parts.\n",
    "\n",
    "## Creating a simulation\n",
    "\n",
    "A simulation is made up of three main parts:\n",
    "\n",
    "1. The graph on which to simulate node dynamics\n",
    "2. The initial state of each node\n",
    "3. The state transition function\n",
    "\n",
    "Lets see it with an example of a very simple dynamic"
   ]
  },
  {
   "cell_type": "markdown",
   "id": "e67276b9-ccda-460b-9554-6413788e7312",
   "metadata": {
    "tags": []
   },
   "source": [
    "## 1. Sleep-Awake"
   ]
  },
  {
   "cell_type": "markdown",
   "id": "50b0fe79-fd0b-4c72-8e19-62601591f24c",
   "metadata": {},
   "source": [
    "## 1.1 Create the simulation\n",
    "\n",
    "### 1.1.1 The graph\n",
    "\n",
    "This one is easy, we just need a NetworkX Graph instance. For this example we'll use a random graph. You can run the following cell multiple times if you wish, until you get a graph that looks good:"
   ]
  },
  {
   "cell_type": "code",
   "execution_count": null,
   "id": "a4ae6c64-baf0-427d-9068-b582e47d8797",
   "metadata": {},
   "outputs": [],
   "source": [
    "G = nx.gnm_random_graph(20, 50)\n",
    "nx.draw(G)"
   ]
  },
  {
   "cell_type": "markdown",
   "id": "dc7ec428-9d24-4d04-a8d5-a5849d172620",
   "metadata": {},
   "source": [
    "### 1.1.2 The initial state\n",
    "\n",
    "In these simulations, state is represented as a dictionary where the keys are node names and the values are the state of the node. We can specify the initial state either directly as one of these dictionaries, or we can specify a function that generates such a state dictionary.\n",
    "\n",
    "The function version is cleaner; let's use it to generate a very simple initial state where every node has the same state: 'asleep'."
   ]
  },
  {
   "cell_type": "code",
   "execution_count": null,
   "id": "ead2e775-ed96-46e5-aba0-a02323594de5",
   "metadata": {},
   "outputs": [],
   "source": [
    "# An initial_state function takes one argument, the graph instance.\n",
    "\n",
    "def initial_state(G):\n",
    "    state = {}\n",
    "    for node in G.nodes:\n",
    "        state[node] = 'asleep'\n",
    "    return state"
   ]
  },
  {
   "cell_type": "code",
   "execution_count": null,
   "id": "564142be-d4c7-4aec-8b00-d196ab0670df",
   "metadata": {},
   "outputs": [],
   "source": [
    "initial_state(G)"
   ]
  },
  {
   "cell_type": "markdown",
   "id": "5f540e74-43bd-4828-8074-f482cc06ae13",
   "metadata": {
    "tags": []
   },
   "source": [
    "This looks good.\n",
    "\n",
    "### 1.1.3. The state transition function\n",
    "\n",
    "The crux of the simulation is the state transition function: this is where we specify the *dynamics*. This function takes two arguments, the graph and the current node states provided as a dictionary, and should return a dictionary of the updated states.\n",
    "\n",
    "In this simple example, at each simulation step, each node with the `'asleep'` state will have a fixed probability to transition to the `'awake'` state. We'll specify this probability as `P_AWAKEN`, the probability an asleep node will awaken at each step.\n",
    "\n",
    "Generically, in order to do a thing with some probability, we generate a random number between 0 and 1 with the `random.random()` function and compare to our probability threshold: if the random number is below our probability threshold, then we do the thing."
   ]
  },
  {
   "cell_type": "code",
   "execution_count": null,
   "id": "23af533b-be2d-4ba9-a53c-1a8ab59c22e7",
   "metadata": {},
   "outputs": [],
   "source": [
    "P_AWAKEN = 0.2\n",
    "def state_transition(G, current_state):\n",
    "    next_state = {}\n",
    "    for node in G.nodes:\n",
    "        if current_state[node] == 'asleep':\n",
    "            if random.random() < P_AWAKEN:\n",
    "                next_state[node] = 'awake'\n",
    "    return next_state"
   ]
  },
  {
   "cell_type": "markdown",
   "id": "f2e1680d-edd0-4e03-b201-65339cec243d",
   "metadata": {
    "tags": []
   },
   "source": [
    "Note that this function only has to provide the states that *change* during this step, although no harm would be done by specifying the state for every node, changed or not.\n",
    "\n",
    "We can do a dry run if we want, just to make sure our transition function works:"
   ]
  },
  {
   "cell_type": "code",
   "execution_count": null,
   "id": "3530774c-ce52-4d72-abdb-83093dc677c7",
   "metadata": {},
   "outputs": [],
   "source": [
    "test_state = initial_state(G)\n",
    "state_transition(G, test_state)"
   ]
  },
  {
   "cell_type": "markdown",
   "id": "0ea13b93-4828-472a-b726-4acb511d9d56",
   "metadata": {
    "tags": []
   },
   "source": [
    "We should see some nodes transition to the `'awake'` state in this test run, which is good.\n",
    "\n",
    "### 1.1.4 Putting together the pieces\n",
    "\n",
    "We now have our three pieces: the graph, the initial state, and the state transition function. Let's put them together along with a name for our simulation to create a Simulation object:"
   ]
  },
  {
   "cell_type": "code",
   "execution_count": null,
   "id": "01baea35-147f-4b53-b215-acd8f923c9d3",
   "metadata": {},
   "outputs": [],
   "source": [
    "from simulation import Simulation\n",
    "\n",
    "sim = Simulation(G, initial_state, state_transition, name='Simple Sim')"
   ]
  },
  {
   "cell_type": "markdown",
   "id": "bab12f26-2b0e-4f19-ba3d-7334fe063bff",
   "metadata": {
    "tags": []
   },
   "source": [
    "The `name` provided here is optional, it just for us to keep track of the images we'll generate later.\n",
    "\n",
    "This Simulation object has several useful methods. The first of these is the `.state()` method, which returns a dictionary for the current state of the simulation:"
   ]
  },
  {
   "cell_type": "code",
   "execution_count": null,
   "id": "15ebf525-12de-4fcb-a457-6f609e3f35f3",
   "metadata": {},
   "outputs": [],
   "source": [
    "sim.state()"
   ]
  },
  {
   "cell_type": "markdown",
   "id": "4b133109-b3e0-4e15-9fb6-31eab40e98dd",
   "metadata": {
    "tags": []
   },
   "source": [
    "We haven't done any steps in the simulation yet, so the state should be exactly our initial condition.\n",
    "\n",
    "We can also draw the network with its nodes colored by their state values with the `.draw()` method:"
   ]
  },
  {
   "cell_type": "code",
   "execution_count": null,
   "id": "6457569d-8b29-45c5-88d1-788a69324e26",
   "metadata": {},
   "outputs": [],
   "source": [
    "sim.draw()"
   ]
  },
  {
   "cell_type": "markdown",
   "id": "cea8ed03-d1a1-4842-b39f-b315d1c84126",
   "metadata": {
    "tags": []
   },
   "source": [
    "Our initial condition has all nodes `'asleep'`, so this checks out.\n",
    "\n",
    "## 1.2 Running the simulation\n",
    "\n",
    "With our initial condition checked out, let's run the simulation! The simulation will advance in discrete *steps*: each step is one run of the state transition function.\n",
    "\n",
    "The `.run()` method without any arguments will run the simulation one step:"
   ]
  },
  {
   "cell_type": "code",
   "execution_count": null,
   "id": "e95b3f94-7fa7-4b6f-980e-8e12a8c7a77d",
   "metadata": {},
   "outputs": [],
   "source": [
    "sim.run()"
   ]
  },
  {
   "cell_type": "markdown",
   "id": "0647e9d6-27bc-4094-b214-ec5740ea8095",
   "metadata": {},
   "source": [
    "We can confirm the simulation advanced a step by checking out the `.steps` property, which tells us how many times the state transition function has been run:"
   ]
  },
  {
   "cell_type": "code",
   "execution_count": null,
   "id": "ffa1c0d8-da85-4047-b0ef-5f9057836bc0",
   "metadata": {
    "tags": []
   },
   "outputs": [],
   "source": [
    "sim.steps"
   ]
  },
  {
   "cell_type": "code",
   "execution_count": null,
   "id": "908bae55-8c73-4332-923b-741115fce6d8",
   "metadata": {},
   "outputs": [],
   "source": [
    "sim.draw(with_labels=True)"
   ]
  },
  {
   "cell_type": "code",
   "execution_count": null,
   "id": "cb8a169e-6c07-4920-898e-2c902a3a0be3",
   "metadata": {
    "tags": []
   },
   "outputs": [],
   "source": [
    "sim.state()"
   ]
  },
  {
   "cell_type": "markdown",
   "id": "41a994f1-4c5f-4b64-b859-0a17934744cf",
   "metadata": {},
   "source": [
    "If we give the `.run()` method a number, we can run the simulation several steps at once:"
   ]
  },
  {
   "cell_type": "code",
   "execution_count": null,
   "id": "1febe8d2-8983-43ca-b7e5-63fe7f674a3e",
   "metadata": {},
   "outputs": [],
   "source": [
    "sim.run(10)"
   ]
  },
  {
   "cell_type": "code",
   "execution_count": null,
   "id": "1ad52d0e-f993-46f7-bf31-7aa3824b940d",
   "metadata": {},
   "outputs": [],
   "source": [
    "sim.steps"
   ]
  },
  {
   "cell_type": "markdown",
   "id": "8abe08ca-4be1-48cc-915d-d505e9a9a26d",
   "metadata": {
    "tags": []
   },
   "source": [
    "The `.steps` method confirms that our simulation went through several simulation steps. Let's check up on the current state:"
   ]
  },
  {
   "cell_type": "code",
   "execution_count": null,
   "id": "1bb59d3c-2342-455a-919b-019b98d320bd",
   "metadata": {},
   "outputs": [],
   "source": [
    "sim.draw(with_labels=True)"
   ]
  },
  {
   "cell_type": "markdown",
   "id": "96ab142e-3006-4930-a519-c4f2e30f599b",
   "metadata": {
    "tags": []
   },
   "source": [
    "## 1.3 Visualizing the results\n",
    "\n",
    "By this point, all or most of the nodes should be awake, but how did that transition occur? Was it gradual or all at once? With the `.plot()` method, we can plot the proportion of nodes in each state at each step of the simulation:"
   ]
  },
  {
   "cell_type": "code",
   "execution_count": null,
   "id": "1a8dbbbf-83d9-47ab-be01-ec1b44cd4739",
   "metadata": {},
   "outputs": [],
   "source": [
    "sim.plot()"
   ]
  },
  {
   "cell_type": "markdown",
   "id": "b7286729-3ade-4c2a-aade-6d6d98b5e7a0",
   "metadata": {
    "tags": []
   },
   "source": [
    "If we want to visualize the state of the graph at a specific step, we can specify the desired step in the `.draw()` function."
   ]
  },
  {
   "cell_type": "code",
   "execution_count": null,
   "id": "84743b54-5859-4a8b-b061-a422c88b1833",
   "metadata": {},
   "outputs": [],
   "source": [
    "sim.draw(4, with_labels=True)"
   ]
  },
  {
   "cell_type": "markdown",
   "id": "3f69a18f-e651-4517-af7e-0d4e3d9c9b9b",
   "metadata": {
    "tags": []
   },
   "source": [
    "The same is true for the `.state()` method:"
   ]
  },
  {
   "cell_type": "code",
   "execution_count": null,
   "id": "a5bea27f-39bb-426e-afe5-6cc47308eb3d",
   "metadata": {},
   "outputs": [],
   "source": [
    "sim.state(4)"
   ]
  },
  {
   "cell_type": "markdown",
   "id": "0601d9ad-59ba-4bc4-9e5f-56564168d7f3",
   "metadata": {
    "tags": []
   },
   "source": [
    "If we only want to plot a subset of the steps, we can do that too by passing the min and/or max steps we want to plot. Do note that the bounds passed to the `.plot()` method are half-open, like Python's `range()` function and list slices, so that `.plot(2, 8)` plots states from 2 and up to but *not* including 8."
   ]
  },
  {
   "cell_type": "code",
   "execution_count": null,
   "id": "e7699271-a12b-4b76-b814-e518f9ca0f5d",
   "metadata": {},
   "outputs": [],
   "source": [
    "sim.plot(min_step=2, max_step=8)"
   ]
  },
  {
   "cell_type": "markdown",
   "id": "c1461b9b-2235-4927-a433-3c47ab7a6185",
   "metadata": {
    "tags": []
   },
   "source": [
    "## 2. Voter model\n",
    "\n",
    "\n",
    "In our trivial awake/asleep model above we ignored the underlying graph structure and each node's dynamics was independent of its neighbors. In interesting network models, we make use of the graph connectivity in some way.\n",
    "\n",
    "The voter model is a simple model of network opinion dynamics capable of producing interesting output. W're going to implement it here.\n",
    "\n",
    "## 2.1 Create the simulation\n",
    "\n",
    "### 2.1.1 The Graph\n",
    "\n",
    "We're going to use another random graph here, same as before."
   ]
  },
  {
   "cell_type": "code",
   "execution_count": null,
   "id": "0d74f4f2-9208-497a-80cc-f1738e088fc4",
   "metadata": {
    "tags": []
   },
   "outputs": [],
   "source": [
    "G = nx.gnm_random_graph(20, 50)\n",
    "nx.draw(G)"
   ]
  },
  {
   "cell_type": "markdown",
   "id": "6c4bc3b9-2299-4700-8d47-f0020c41d47d",
   "metadata": {},
   "source": [
    "### 2.1.2 Initial state\n",
    "\n",
    "For the initial state, we will randomly assign each node a state by randomly selecting a letter A to D -- we're not limited to two states here!\n",
    "\n",
    "We'll make use of `random.choice()` in both the initial state and state transition functions. This function is used to randomly choose one item from a given collection."
   ]
  },
  {
   "cell_type": "code",
   "execution_count": null,
   "id": "476f943c-cb3e-46a8-bb03-d2fd5657d055",
   "metadata": {
    "tags": []
   },
   "outputs": [],
   "source": [
    "import random\n",
    "import string\n",
    "\n",
    "def initial_state(G):\n",
    "    state = {}\n",
    "    for node in G.nodes:\n",
    "        state[node] = random.choice('ABCD')\n",
    "    return state"
   ]
  },
  {
   "cell_type": "markdown",
   "id": "24b3300f-13fa-4d7c-974a-af1a145e6d2a",
   "metadata": {},
   "source": [
    "Let's make sure this works:"
   ]
  },
  {
   "cell_type": "code",
   "execution_count": null,
   "id": "1d4c5c6e-d8e6-4215-9658-42284059f46b",
   "metadata": {
    "tags": []
   },
   "outputs": [],
   "source": [
    "initial_state(G)"
   ]
  },
  {
   "cell_type": "markdown",
   "id": "ff440fde-e955-4b2a-a32b-15e4caf3e3fa",
   "metadata": {},
   "source": [
    "### 2.1.3 State transition\n",
    "\n",
    "The algorithm at the heart of the voter model works like this: for each node in the graph, choose a neighbor at random and copy their \"opinion\", *i.e.* set this node's state to the same value as that of the neighbor.\n",
    "\n",
    "* For each node in the graph\n",
    "  * Choose a neighbor at random\n",
    "  * Set this node state equal to the neighbor state "
   ]
  },
  {
   "cell_type": "code",
   "execution_count": null,
   "id": "9014b6a7-d9ea-46fc-abf1-88670e661422",
   "metadata": {
    "tags": []
   },
   "outputs": [],
   "source": [
    "def state_transition(G, current_state):\n",
    "    next_state = {}\n",
    "    for node in G.nodes:\n",
    "        # Caveat: what if the node has no neighbors?\n",
    "        if G.degree(node) > 0:\n",
    "            neighbor = random.choice(list(G.neighbors(node)))\n",
    "            next_state[node] = current_state[neighbor]\n",
    "    return next_state"
   ]
  },
  {
   "cell_type": "markdown",
   "id": "81966b6c-e40c-442e-8177-f38f617fcf22",
   "metadata": {},
   "source": [
    "Let's test this out before moving forward:"
   ]
  },
  {
   "cell_type": "code",
   "execution_count": null,
   "id": "d58fb95a-eb82-4801-8d57-912c3ef2ab0f",
   "metadata": {
    "tags": []
   },
   "outputs": [],
   "source": [
    "test_state = initial_state(G)\n",
    "state_transition(G, test_state)"
   ]
  },
  {
   "cell_type": "markdown",
   "id": "3cab34a2-58fa-4364-a419-4507f56f3746",
   "metadata": {},
   "source": [
    "###  2.1.4 The Simulation instance\n",
    "\n",
    "Looks good. Now let's create the simulation and visualize the initial state:"
   ]
  },
  {
   "cell_type": "code",
   "execution_count": null,
   "id": "8dd0fab5-9c15-45fb-a6ab-d8803285bef5",
   "metadata": {
    "tags": []
   },
   "outputs": [],
   "source": [
    "sim = Simulation(G, initial_state, state_transition, name='Voter Model')"
   ]
  },
  {
   "cell_type": "code",
   "execution_count": null,
   "id": "d5eb7a8e-8976-4b53-97fc-7b7233563dab",
   "metadata": {
    "tags": []
   },
   "outputs": [],
   "source": [
    "sim.draw()\n",
    "\n",
    "# if you care about the order of the labels in the legend,\n",
    "# you can specify labels='ABCD' as a keyword argument for .draw()"
   ]
  },
  {
   "cell_type": "markdown",
   "id": "303c75c9-634c-4478-8c58-45ae471723af",
   "metadata": {},
   "source": [
    "## 2.2 Run the simulation\n",
    "\n",
    "Let's run this simulation several steps and see where we end up:"
   ]
  },
  {
   "cell_type": "code",
   "execution_count": null,
   "id": "c08450ab-8296-437a-884e-e78255ecc002",
   "metadata": {},
   "outputs": [],
   "source": [
    "sim.run(40)"
   ]
  },
  {
   "cell_type": "code",
   "execution_count": null,
   "id": "f8dcb1f4-e570-4f5f-bead-8408938e64fb",
   "metadata": {},
   "outputs": [],
   "source": [
    "sim.draw()"
   ]
  },
  {
   "cell_type": "markdown",
   "id": "38c3a09f-0f4a-45e3-85ae-e1eabb9621e0",
   "metadata": {},
   "source": [
    "## 2.3 Visualize the results\n",
    "\n",
    "It's probably different from where we started; let's see how we got here:"
   ]
  },
  {
   "cell_type": "code",
   "execution_count": null,
   "id": "16de014b-47a6-4e44-a042-f069e37eed1d",
   "metadata": {},
   "outputs": [],
   "source": [
    "sim.plot()"
   ]
  },
  {
   "cell_type": "markdown",
   "id": "413804e1-6cb0-4f23-8d30-3e25e9b4256c",
   "metadata": {},
   "source": [
    "Go ahead and execute the previous few cells again, running the simulation forward and examining the state, until it reaches the long-term steady state: all of the nodes should eventually end up with the same state."
   ]
  },
  {
   "cell_type": "markdown",
   "id": "f15b9d4c-dce1-400b-83c0-1da07ecdb5c1",
   "metadata": {},
   "source": [
    "## 2.4 Synchronous vs. asynchronous updates\n",
    "\n",
    "As written, this `state_transition` function performs a **synchronous** update, *i.e.* all of the nodes' states are updated at the same time, after the function returns the new state:"
   ]
  },
  {
   "cell_type": "code",
   "execution_count": null,
   "id": "1cdbcd85-4f8e-4044-972d-5bf34958a566",
   "metadata": {},
   "outputs": [],
   "source": [
    "# This is the same as in 2.1.3\n",
    "import random\n",
    "\n",
    "def state_transition(G, current_state):\n",
    "    next_state = {}\n",
    "    for node in G.nodes:\n",
    "        if G.degree(node) > 0:\n",
    "            neighbor = random.choice(list(G.neighbors(node)))\n",
    "            next_state[node] = current_state[neighbor]\n",
    "    return next_state"
   ]
  },
  {
   "cell_type": "markdown",
   "id": "5898e22f-df9d-4ef4-84aa-f61e13262336",
   "metadata": {},
   "source": [
    "Note how this function never changes the values of `current_state` so that each node's update is based on the same information. Since each node \"sees\" the same state, the order in which we update the nodes doesn't matter. This is equivalent to updating all of the node states simultaneously. \n",
    "\n",
    "One can instead perform an **asynchronous** update, where each node sees the state changes that have taken place this step, by making in-place changes to `current_state`:"
   ]
  },
  {
   "cell_type": "code",
   "execution_count": null,
   "id": "d71f11ca-6927-4e86-a1a8-af0205205cac",
   "metadata": {},
   "outputs": [],
   "source": [
    "# This example is potentially biased, don't use it\n",
    "def state_transition_async(G, current_state):\n",
    "    for node in G.nodes:\n",
    "        if G.degree(node) > 0:\n",
    "            neighbor = random.choice(list(G.neighbors(node)))\n",
    "            current_state[node] = current_state[neighbor]\n",
    "    return current_state"
   ]
  },
  {
   "cell_type": "markdown",
   "id": "25ec8fed-35e4-458d-83ad-4d914f89f2fc",
   "metadata": {},
   "source": [
    "In this example, each node's view of `current_state` reflects the changes made in this step by previous node updates.\n",
    "\n",
    "There is a potential problem here, however: `G.nodes` is likely to always return the nodes in the same order, thus performing the updates in the same order and potentially introducing bias. We should instead loop over the nodes in a random order each time:"
   ]
  },
  {
   "cell_type": "code",
   "execution_count": null,
   "id": "b072b5a0-ba55-475d-8aa3-4e6a8682e123",
   "metadata": {},
   "outputs": [],
   "source": [
    "def state_transition_async(G, current_state):\n",
    "    # Randomizing the update order prevents bias\n",
    "    nodes_to_update = list(G.nodes)\n",
    "    random.shuffle(nodes_to_update)\n",
    "    for node in nodes_to_update:\n",
    "        if G.degree(node) > 0:\n",
    "            neighbor = random.choice(list(G.neighbors(node)))\n",
    "            current_state[node] = current_state[neighbor]\n",
    "    return current_state"
   ]
  },
  {
   "cell_type": "markdown",
   "id": "c81b7127-e0f2-440f-bf13-2c4acc926cc9",
   "metadata": {},
   "source": [
    "We can make use of this new state transition function by passing it to the `Simulation` class, then run it and compare to the synchronous version above."
   ]
  },
  {
   "cell_type": "code",
   "execution_count": null,
   "id": "b466c187-fb97-48f2-bdaf-bb5eb2b50e25",
   "metadata": {},
   "outputs": [],
   "source": [
    "sim = Simulation(G, initial_state, state_transition_async, name='Async Voter Model')\n",
    "sim.run(40)\n",
    "sim.plot()"
   ]
  },
  {
   "cell_type": "markdown",
   "id": "bf86a83f-ef4e-4b18-9059-6704f881ba7d",
   "metadata": {},
   "source": [
    "Asynchronous updates may or may not produce a different result depending on the particular dynamics of your simulation. Synchronous updates are slightly simpler in terms of their assumptions which is an advantage, but certain update mechanisms can fail to converge to the steady state without asynchronous updates.\n",
    "\n",
    "## 2.5 Stop condition\n",
    "\n",
    "In some situations we may want to specify a condition which, when true, causes the simulation to end early. In this Voter model example, we observe that the system state can't change once all of the nodes have the same state. In order to avoid running the simulation longer than necessary, we can specify a stop condition to stop the simulation if all nodes have the same state.\n",
    "\n",
    "This function takes the graph and current state as arguments, same as the state transition function, and returns `True` if the model should stop."
   ]
  },
  {
   "cell_type": "code",
   "execution_count": null,
   "id": "e104f129-2b38-4af8-a446-a110e12f7fed",
   "metadata": {},
   "outputs": [],
   "source": [
    "def stop_condition(G, current_state):\n",
    "    unique_state_values = set(current_state.values())\n",
    "    is_stopped = len(unique_state_values) <= 1\n",
    "    return is_stopped"
   ]
  },
  {
   "cell_type": "markdown",
   "id": "35d14988-3711-48e3-bbdf-019117d631eb",
   "metadata": {},
   "source": [
    "Let's create another instance of the voter model, specifying a stop condition, and run it for more steps than we think we'll need. We still need to specify a maximum number of steps in case there is a bug in our stop condition and it never returns True."
   ]
  },
  {
   "cell_type": "code",
   "execution_count": null,
   "id": "143135b9-0d5f-4fbb-bf2f-9b4a1b41f1a7",
   "metadata": {
    "tags": []
   },
   "outputs": [],
   "source": [
    "sim = Simulation(G, initial_state, state_transition, stop_condition, name='Voter model')\n",
    "sim.run(100)"
   ]
  },
  {
   "cell_type": "code",
   "execution_count": null,
   "id": "9a1dfc23-6b62-41e5-a648-3eed921e8099",
   "metadata": {
    "tags": []
   },
   "outputs": [],
   "source": [
    "sim.steps"
   ]
  },
  {
   "cell_type": "code",
   "execution_count": null,
   "id": "e6b0a05c-ed32-4716-be34-183a73c2c995",
   "metadata": {
    "tags": []
   },
   "outputs": [],
   "source": [
    "sim.plot()"
   ]
  },
  {
   "cell_type": "markdown",
   "id": "f14b3780-90d8-4c21-9053-3f9d9344d605",
   "metadata": {
    "tags": []
   },
   "source": [
    "## 2.6 Rewiring the graph\n",
    "\n",
    "Since we have access to the Graph instance in our transition function, we can add or remove links in the graph if our system calls for it. Let's add an extension to the voter model such that a node may also \"unfriend\" another node by removing the edge between them if their state differs."
   ]
  },
  {
   "cell_type": "code",
   "execution_count": null,
   "id": "62718754-6cfa-44df-8a9b-23d993fbc5b5",
   "metadata": {
    "tags": []
   },
   "outputs": [],
   "source": [
    "def state_transition_async_rewiring(G, current_state):\n",
    "    # Randomizing the update order prevents bias\n",
    "    nodes_to_update = list(G.nodes)\n",
    "    random.shuffle(nodes_to_update)\n",
    "    for node in nodes_to_update:\n",
    "        if G.degree(node) > 0:\n",
    "            # This is the same as before\n",
    "            neighbor = random.choice(list(G.neighbors(node)))\n",
    "            current_state[node] = current_state[neighbor]\n",
    "            # This is the new part\n",
    "            neighbor = random.choice(list(G.neighbors(node)))\n",
    "            if current_state[node] != current_state[neighbor]:\n",
    "                G.remove_edge(node, neighbor)\n",
    "            \n",
    "    return current_state"
   ]
  },
  {
   "cell_type": "code",
   "execution_count": null,
   "id": "1970f785-5b5d-4a8f-a620-18635b2768d1",
   "metadata": {
    "tags": []
   },
   "outputs": [],
   "source": [
    "sim = Simulation(G, initial_state, state_transition_async_rewiring, stop_condition,\n",
    "                 name='Voter Model with rewiring')\n",
    "sim.draw()"
   ]
  },
  {
   "cell_type": "code",
   "execution_count": null,
   "id": "8c0cd65e-f8fb-467a-97ba-ef7a693f334e",
   "metadata": {
    "tags": []
   },
   "outputs": [],
   "source": [
    "sim.run(40)\n",
    "sim.draw()"
   ]
  },
  {
   "cell_type": "code",
   "execution_count": null,
   "id": "47135b3c-e2a4-4c3d-bf52-cc12c039b70b",
   "metadata": {
    "tags": []
   },
   "outputs": [],
   "source": [
    "sim.plot()"
   ]
  },
  {
   "cell_type": "markdown",
   "id": "8ddbb2fd-67c1-411e-b759-c9c0e27a88ed",
   "metadata": {
    "tags": []
   },
   "source": [
    "The long-term behavior of this modified simulation is different than the previous model: it often ends up in a configuration with disconnected components, each containg nodes all of the same state. As such, the stop conditon as written doesn't trigger. Creating a proper `stop_condition` function for this state transition function is left as an exercise to the reader."
   ]
  },
  {
   "cell_type": "markdown",
   "id": "4c4bc53d-d552-4de2-a755-d841980102ec",
   "metadata": {
    "tags": []
   },
   "source": [
    "<div class=\"alert alert-block alert-success\"><b>Up to you: </b>\n",
    "<h3> Exercise 27</h3>\n",
    "    \n",
    "Create different networks and explore how network topolgy affects consensus time.\n",
    "    \n",
    " -1. Lattice model\n",
    "    \n",
    " -2. Small world Network\n",
    "    \n",
    " -3. Scale-free network\n",
    "    \n",
    " -4. Stochastic Block model\n",
    "    \n",
    " - Which one do you expect to have a longer consensus time? and the shorter?\n",
    "    \n",
    "</div>"
   ]
  },
  {
   "cell_type": "code",
   "execution_count": null,
   "id": "273a6baf-8df8-4c49-93be-6b60f87058f3",
   "metadata": {
    "tags": []
   },
   "outputs": [],
   "source": [
    "# Common parameters for the graphs\n",
    "N=100\n",
    "k=4\n",
    "L=k*N\n",
    "p=0.1\n",
    "m=L//(N-1)\n",
    "# Set size of each community\n",
    "community_sizes = [25, 25, 25,25]\n",
    "community_probs =  np.array([[0.5, 0.01, 0.02,0.0], \n",
    "                   [0.01, 0.6, 0.05,0.0], \n",
    "                   [0.02, 0.05, 0.5,0.05],\n",
    "                   [0.0 , 0.0 , 0.05, 0.5]])"
   ]
  },
  {
   "cell_type": "code",
   "execution_count": null,
   "id": "352a908e-d2e5-459e-9104-722914f2108d",
   "metadata": {
    "tags": []
   },
   "outputs": [],
   "source": [
    "# %load ./snippets/ex27-1.py\n",
    "#"
   ]
  },
  {
   "cell_type": "markdown",
   "id": "314df80f-fa1a-43ca-9f41-3a2c89365023",
   "metadata": {
    "tags": []
   },
   "source": [
    "<div class=\"alert alert-block alert-success\"><b>Up to you: </b>\n",
    "<h3> Exercise 28</h3>\n",
    "    \n",
    "Now run the simulation in the SBM netowrk, but initialize with a polarized state, where the nodes in each group have the same opinion.\n",
    "    \n",
    "- Does it take longer to reach consesus?\n",
    "    \n",
    "</div>"
   ]
  },
  {
   "cell_type": "code",
   "execution_count": null,
   "id": "1a7319df-f5a3-4376-a3a9-d4dc32757b55",
   "metadata": {
    "tags": []
   },
   "outputs": [],
   "source": [
    "## code here"
   ]
  },
  {
   "cell_type": "code",
   "execution_count": null,
   "id": "660d2a17-9b0a-48c7-8ab2-ec6c5632da6b",
   "metadata": {
    "tags": []
   },
   "outputs": [],
   "source": [
    "# %load ./snippets/ex28a.py\n"
   ]
  },
  {
   "cell_type": "code",
   "execution_count": null,
   "id": "8717a8d8-3ea6-497a-9884-65c674d4ffcb",
   "metadata": {
    "tags": []
   },
   "outputs": [],
   "source": [
    "# %load ./snippets/ex28b.py\n"
   ]
  },
  {
   "cell_type": "markdown",
   "id": "f3889365-e28c-403e-a9ba-4f2260e9d00b",
   "metadata": {
    "tags": []
   },
   "source": [
    "## 3. SIS and SIR model\n",
    "\n",
    "This is one of the fundamental models of spreading dynamics on networks, examined in detail in the text. We will implement this spreading model using our simulation framework.\n",
    "\n",
    "## 3.1 Create the Simulation\n",
    "\n",
    "### 3.1.1 The Graph"
   ]
  },
  {
   "cell_type": "code",
   "execution_count": null,
   "id": "33625e09-3850-44cc-8b1a-fc6c3c336c00",
   "metadata": {},
   "outputs": [],
   "source": [
    "G = nx.gnm_random_graph(20, 50)\n",
    "nx.draw(G)"
   ]
  },
  {
   "cell_type": "markdown",
   "id": "18448324-899a-46b4-80bb-c7926fa0b93e",
   "metadata": {},
   "source": [
    "### 3.1.2 Initial state\n",
    "\n",
    "We will initially assign every node to the 'S' state and then randomly choose one node to infect by setting it to the 'I' state. You should experiment with different choices of the \"patient zero\" node to infect and see how it affects the spreading dynamics, *e.g.* by selecting a high- or low-degree node."
   ]
  },
  {
   "cell_type": "code",
   "execution_count": null,
   "id": "ef52d82f-ffec-45dc-9ac2-02920b4833db",
   "metadata": {},
   "outputs": [],
   "source": [
    "import random\n",
    "\n",
    "def initial_state(G):\n",
    "    state = {}\n",
    "    for node in G.nodes:\n",
    "        state[node] = 'S'\n",
    "    \n",
    "    patient_zero = random.choice(list(G.nodes))\n",
    "    state[patient_zero] = 'I'\n",
    "    return state"
   ]
  },
  {
   "cell_type": "markdown",
   "id": "9a63429a-d8eb-4917-836e-fc15be4f81e6",
   "metadata": {},
   "source": [
    "Let's make sure this works:"
   ]
  },
  {
   "cell_type": "code",
   "execution_count": null,
   "id": "e8960436-018b-4120-b4da-45b1f1a88eed",
   "metadata": {},
   "outputs": [],
   "source": [
    "initial_state(G)"
   ]
  },
  {
   "cell_type": "markdown",
   "id": "3e8718bd-12ce-4788-86d4-db08874350dc",
   "metadata": {},
   "source": [
    "### 3.1.3 State transition\n",
    "\n",
    "The SIS model involves two parameters, $\\beta$ is the probability to transition from S to I given an infected neighbor, and $\\mu$, the probability of transitioning from I to S.\n",
    "\n",
    "In pseudocode, the algorithm looks like this:\n",
    "\n",
    "* For each node in the graph\n",
    "  * If node has state I\n",
    "    * The node transitions to state S with probability $\\mu$\n",
    "  * Else node has state S\n",
    "    * For each neighbor of the node\n",
    "      * If neighbor has state I\n",
    "        * The node transitions to state I with probability $\\beta$\n",
    "\n",
    "The logic gets a little deep with the indentations, but the code looks very much like this pseudocode."
   ]
  },
  {
   "cell_type": "code",
   "execution_count": null,
   "id": "ac9c6b84-803f-4bf3-bdc3-f73efcc37887",
   "metadata": {},
   "outputs": [],
   "source": [
    "MU = 0.1\n",
    "BETA = 0.1\n",
    "\n",
    "def state_transition(G, current_state):\n",
    "    next_state = {}\n",
    "    for node in G.nodes:\n",
    "        if current_state[node] == 'I':\n",
    "            if random.random() < MU:\n",
    "                next_state[node] = 'S'\n",
    "        else: # current_state[node] == 'S'\n",
    "            for neighbor in G.neighbors(node):\n",
    "                if current_state[neighbor] == 'I':\n",
    "                    if random.random() < BETA:\n",
    "                        next_state[node] = 'I'\n",
    "\n",
    "    return next_state"
   ]
  },
  {
   "cell_type": "markdown",
   "id": "bc49846b-c3a0-4015-981b-87d846eb90a3",
   "metadata": {},
   "source": [
    "Let's test this out before moving forward:"
   ]
  },
  {
   "cell_type": "code",
   "execution_count": null,
   "id": "ff6cb336-c39d-4018-8899-e8ed4e0c432d",
   "metadata": {},
   "outputs": [],
   "source": [
    "test_state = initial_state(G)\n",
    "state_transition(G, test_state)"
   ]
  },
  {
   "cell_type": "markdown",
   "id": "2d893bd9-a27b-4c5f-8a21-9530d0a9821b",
   "metadata": {},
   "source": [
    "It's possible, depending on your parameter values, that the first transition results in no state changes. This is okay, even expected. It might take a few tries before any states are updated and a nonempty dict is produced. It's also okay to skip this, as we're just checking our code accuracy, but it is easier to debug here than in the simulation proper."
   ]
  },
  {
   "cell_type": "markdown",
   "id": "4dc85d9a-8a0f-451a-851a-605585520b0c",
   "metadata": {},
   "source": [
    "### 3.1.4 Simulation\n",
    "\n",
    "Now let's create the simulation and visualize the initial state:"
   ]
  },
  {
   "cell_type": "code",
   "execution_count": null,
   "id": "f44e397a-bda9-4777-ba5a-72f5e78ab49d",
   "metadata": {},
   "outputs": [],
   "source": [
    "MU = 0.1\n",
    "BETA = 0.1"
   ]
  },
  {
   "cell_type": "code",
   "execution_count": null,
   "id": "bad75f66-6b16-41a2-ab7c-fba009ffd4c9",
   "metadata": {},
   "outputs": [],
   "source": [
    "sim = Simulation(G, initial_state, state_transition, name='SIS model')"
   ]
  },
  {
   "cell_type": "code",
   "execution_count": null,
   "id": "2be848bf-faea-4a83-9941-3aa983908db3",
   "metadata": {},
   "outputs": [],
   "source": [
    "sim.draw()"
   ]
  },
  {
   "cell_type": "markdown",
   "id": "0c71fdb1-beeb-46ff-92fb-bdb0998e8e55",
   "metadata": {},
   "source": [
    "## 3.2 Run the simulation\n",
    "\n",
    "Let's run this simulation several steps and see where we end up:"
   ]
  },
  {
   "cell_type": "code",
   "execution_count": null,
   "id": "c3f8f204-5a64-41cf-9a44-d5dda211545b",
   "metadata": {},
   "outputs": [],
   "source": [
    "sim.run(25)"
   ]
  },
  {
   "cell_type": "code",
   "execution_count": null,
   "id": "a900a8d3-ba12-4b24-8c9c-e605cdab9abc",
   "metadata": {},
   "outputs": [],
   "source": [
    "sim.draw()"
   ]
  },
  {
   "cell_type": "code",
   "execution_count": null,
   "id": "06fcd42e-59ea-4977-a047-84532ca291d3",
   "metadata": {},
   "outputs": [],
   "source": [
    "sim.plot()"
   ]
  },
  {
   "cell_type": "markdown",
   "id": "0a05aa92-2ffc-4777-b084-fe0db6bc6620",
   "metadata": {},
   "source": [
    "Go ahead and execute the previous few cells again, running the simulation forward and examining the state, until it reaches the long-term steady state: eventually the proportion curves will flatten out as the proportion of each node state will fluctuate around some average value.\n",
    "\n",
    "Now go back, adjust the `BETA` and `MU` parameter values, and see how the steady state changes!"
   ]
  },
  {
   "cell_type": "markdown",
   "id": "817a731d-70ea-4303-abfe-b0d1d1b72216",
   "metadata": {},
   "source": [
    "## 3.3 Let's do a SIR model"
   ]
  },
  {
   "cell_type": "code",
   "execution_count": null,
   "id": "fbaed275-6ccf-440b-92a1-e23460683183",
   "metadata": {},
   "outputs": [],
   "source": [
    "def initial_state(G):\n",
    "    state = {}\n",
    "    for node in G.nodes:\n",
    "        state[node] = 'S'\n",
    "    \n",
    "    patient_zero = random.choice(list(G.nodes))\n",
    "    state[patient_zero] = 'I'\n",
    "    return state"
   ]
  },
  {
   "cell_type": "code",
   "execution_count": null,
   "id": "f52c92e3-aeeb-48be-bf77-34ad2b00fa90",
   "metadata": {},
   "outputs": [],
   "source": [
    "MU = 0.1\n",
    "BETA = 0.1\n",
    "\n",
    "def state_transition(G, current_state):\n",
    "    next_state = {}\n",
    "    for node in G.nodes:\n",
    "        if current_state[node] == 'I':\n",
    "            if random.random() < MU:\n",
    "                next_state[node] = 'R' #recovered\n",
    "        elif current_state[node] == 'S': # susceptible\n",
    "            for neighbor in G.neighbors(node):\n",
    "                if current_state[neighbor] == 'I':\n",
    "                    if random.random() < BETA:\n",
    "                        next_state[node] = 'I'\n",
    "\n",
    "    return next_state"
   ]
  },
  {
   "cell_type": "code",
   "execution_count": null,
   "id": "62861ce0-da49-47d0-897e-d1516eb84b2f",
   "metadata": {},
   "outputs": [],
   "source": [
    "def stop_condition_SI(G, current_state):\n",
    "    has_infected = 'I' in current_state.values()\n",
    "    if (has_infected):\n",
    "        is_stopped=False\n",
    "    else:\n",
    "        is_stopped = True\n",
    "    return is_stopped"
   ]
  },
  {
   "cell_type": "code",
   "execution_count": null,
   "id": "39ccf558-b4ef-40cc-b24d-0653ea1beb6e",
   "metadata": {},
   "outputs": [],
   "source": [
    "test_state = initial_state(G)\n",
    "state_transition(G, test_state)"
   ]
  },
  {
   "cell_type": "code",
   "execution_count": null,
   "id": "f0a0506d-fd09-42a4-a54e-d20e78a1c578",
   "metadata": {},
   "outputs": [],
   "source": [
    "sim = Simulation(G, initial_state, state_transition, stop_condition, name='SIR model')"
   ]
  },
  {
   "cell_type": "code",
   "execution_count": null,
   "id": "8f7b297b-c536-4c4c-a3e5-6feac7f6b334",
   "metadata": {},
   "outputs": [],
   "source": [
    "sim.draw()"
   ]
  },
  {
   "cell_type": "code",
   "execution_count": null,
   "id": "e1f535c6-0b4d-4bee-bf06-fbde9db824c0",
   "metadata": {},
   "outputs": [],
   "source": [
    "sim.run(100)"
   ]
  },
  {
   "cell_type": "code",
   "execution_count": null,
   "id": "3fd4cb23-b0bc-4262-b08d-83593c9bd1e8",
   "metadata": {},
   "outputs": [],
   "source": [
    "sim.steps"
   ]
  },
  {
   "cell_type": "code",
   "execution_count": null,
   "id": "ba5ce582-6876-4759-bf48-dde7485e1332",
   "metadata": {},
   "outputs": [],
   "source": [
    "sim.plot()"
   ]
  },
  {
   "cell_type": "code",
   "execution_count": null,
   "id": "82232351-6ab1-4fa7-8c84-893dc3153ed3",
   "metadata": {},
   "outputs": [],
   "source": [
    "sim.draw()"
   ]
  },
  {
   "cell_type": "code",
   "execution_count": null,
   "id": "8212696c-d133-4d80-9481-c06b28535c31",
   "metadata": {},
   "outputs": [],
   "source": [
    "sim.state(25)\n"
   ]
  },
  {
   "cell_type": "markdown",
   "id": "6e9979d9-7992-47ec-b62c-8846cac9f342",
   "metadata": {},
   "source": [
    "<div class=\"alert alert-block alert-success\"><b>Up to you: </b>\n",
    "<h3> Exercise 29</h3>\n",
    "    \n",
    "Now try with a scalee free network. \n",
    "    \n",
    " - Does the infection spreads faster or slower? \n",
    " - Are the number of affected the same?\n",
    "    \n",
    "</div>"
   ]
  },
  {
   "cell_type": "code",
   "execution_count": null,
   "id": "3cf7a768-2ab1-47e0-9cf0-e3ae0e00dbe4",
   "metadata": {},
   "outputs": [],
   "source": [
    "# %load ./snippets/ex29.py\n"
   ]
  },
  {
   "cell_type": "code",
   "execution_count": null,
   "id": "65d8e4aa-ab5d-4209-b7e4-d762e3c90b38",
   "metadata": {},
   "outputs": [],
   "source": [
    "sim.plot()"
   ]
  },
  {
   "cell_type": "markdown",
   "id": "98a1792e-7376-40f5-b2c3-0b60afef36ad",
   "metadata": {},
   "source": [
    "We could introduce the effect of vaccination by introducin some nodes with the state R (they cannot get infected)."
   ]
  },
  {
   "cell_type": "code",
   "execution_count": null,
   "id": "3c6be0c8-ad51-4458-b648-7fbd3fae136e",
   "metadata": {},
   "outputs": [],
   "source": [
    "G=net3\n",
    "def initial_state_Wvaccine(G):\n",
    "    state = {}\n",
    "    for node in G.nodes:\n",
    "        state[node] = 'S'\n",
    "    \n",
    "    patient_zero = random.choice(list(G.nodes))\n",
    "    state[patient_zero] = 'I'\n",
    "    betwenness=pd.Series(dict(nx.betweenness_centrality(G)))\n",
    "    target=betwenness.idxmax()\n",
    "    state[target]=\"R\"\n",
    "    return state"
   ]
  },
  {
   "cell_type": "code",
   "execution_count": null,
   "id": "c4c19c94-ae95-46ea-bd62-dca697c153b4",
   "metadata": {},
   "outputs": [],
   "source": [
    "test_state_Wv = initial_state_Wvaccine(G)"
   ]
  },
  {
   "cell_type": "code",
   "execution_count": null,
   "id": "602a7dcf-7c13-411d-b27e-ba2b483965fc",
   "metadata": {},
   "outputs": [],
   "source": [
    "sim = Simulation(G, test_state_Wv, state_transition, stop_condition_SI, name='SIR model')"
   ]
  },
  {
   "cell_type": "code",
   "execution_count": null,
   "id": "eda2eabe-e99d-47ca-a20e-286c5567a044",
   "metadata": {},
   "outputs": [],
   "source": [
    "sim.draw()"
   ]
  },
  {
   "cell_type": "code",
   "execution_count": null,
   "id": "d43f1f8d-b7a2-46c2-9ea3-5fa3058d14ce",
   "metadata": {},
   "outputs": [],
   "source": [
    "sim.run(200)"
   ]
  },
  {
   "cell_type": "code",
   "execution_count": null,
   "id": "ca971a08-7ead-4e23-a297-9c75e6d88ad5",
   "metadata": {},
   "outputs": [],
   "source": [
    "sim.plot()"
   ]
  },
  {
   "cell_type": "markdown",
   "id": "4a8d0a4f-29c2-402c-abdd-317051c5cbdc",
   "metadata": {},
   "source": [
    "<div class=\"alert alert-block alert-success\"><b>Up to you: </b>\n",
    "<h3> Exercise 30</h3>\n",
    "    \n",
    "Imagine you have 5 vaccines to distribute in this population. Who would you target? Do you expect much improvement with respect to treating 5 people randomly?\n",
    "    \n",
    "</div>"
   ]
  },
  {
   "cell_type": "code",
   "execution_count": null,
   "id": "53a9c745-46a4-438c-b58d-798cffcc3d1c",
   "metadata": {},
   "outputs": [],
   "source": [
    "# %load ./snippets/ex30.py\n"
   ]
  },
  {
   "cell_type": "code",
   "execution_count": null,
   "id": "f220f467-6771-4ac9-8e7f-2f6c30268e40",
   "metadata": {},
   "outputs": [],
   "source": [
    "sim.plot()"
   ]
  },
  {
   "cell_type": "code",
   "execution_count": null,
   "id": "5de1b766-1e1a-4bc2-95d3-326635c07454",
   "metadata": {},
   "outputs": [],
   "source": [
    "G=net4"
   ]
  },
  {
   "cell_type": "code",
   "execution_count": null,
   "id": "2fc8c93a-fde1-407a-b790-62d31b932e10",
   "metadata": {},
   "outputs": [],
   "source": [
    "#######\n",
    "### Simulation\n",
    "Nrep=100\n",
    "repetitions = range(Nrep) \n",
    "\n",
    "# Create the MultiIndex for the dataframe of storage\n",
    "initial=[\"V\",\"Control\"]\n",
    "multi_index = pd.MultiIndex.from_product([initial,repetitions], names=[\"Treatment\",\"Repetition\"])\n",
    "#create dataframe\n",
    "Infection_df=pd.DataFrame(index=multi_index, columns=[\"T_infec\",\"N_infec\"])\n",
    "\n",
    "#run simulation for each model Nrep times and record consensus time\n",
    "for start in initial:\n",
    "    print(start)\n",
    "    for nrep in range(Nrep):\n",
    "        if (start==\"Control\"):\n",
    "            test_state = initial_state_Rvaccine(G)\n",
    "            sim = Simulation(G, test_state, state_transition, stop_condition_SI, name='SIR model')\n",
    "            sim.run(200)\n",
    "            T=sim.steps\n",
    "            Infection_df.loc[(start,nrep),\"T_infec\"]=T\n",
    "            value_counts = Counter(sim.state().values())\n",
    "            Infection_df.loc[(start,nrep),\"N_infec\"]=value_counts[\"R\"]\n",
    "\n",
    "        else:\n",
    "            test_state=initial_state_Tvaccine(G)\n",
    "            sim = Simulation(G, test_state, state_transition, stop_condition_SI, name='SIR model')\n",
    "            #sim.draw()\n",
    "            sim.run(200)\n",
    "            T=sim.steps\n",
    "            Infection_df.loc[(start,nrep),\"T_infec\"]=T\n",
    "            value_counts = Counter(sim.state().values())\n",
    "            Infection_df.loc[(start,nrep),\"N_infec\"]=value_counts[\"R\"]\n",
    "\n",
    "            \n",
    "        \n",
    "        \n",
    "Infection_df.groupby(\"Treatment\").mean()"
   ]
  },
  {
   "cell_type": "code",
   "execution_count": null,
   "id": "ab0c926e-a2fd-4757-9522-50b9bef7e574",
   "metadata": {},
   "outputs": [],
   "source": [
    "test_state = initial_state_Rvaccine(G)\n",
    "sim = Simulation(G, test_state, state_transition, stop_condition_SI, name='SIR model')\n",
    "sim.draw()"
   ]
  },
  {
   "cell_type": "code",
   "execution_count": null,
   "id": "177aa4b2-de63-4d2a-a21e-06e023f42aa6",
   "metadata": {},
   "outputs": [],
   "source": [
    "sim.run(200)"
   ]
  },
  {
   "cell_type": "code",
   "execution_count": null,
   "id": "86af7825-7196-41fe-88c9-3e955f1bbd85",
   "metadata": {},
   "outputs": [],
   "source": [
    "sim.plot()"
   ]
  },
  {
   "cell_type": "code",
   "execution_count": null,
   "id": "762acf87-796f-456f-85ea-74ef9c101509",
   "metadata": {},
   "outputs": [],
   "source": [
    "sim.draw()"
   ]
  },
  {
   "cell_type": "code",
   "execution_count": null,
   "id": "947ee6b7-0bda-4062-acee-7de3ce055d54",
   "metadata": {},
   "outputs": [],
   "source": []
  },
  {
   "cell_type": "code",
   "execution_count": null,
   "id": "15916fc7-e1de-4acf-bd95-7af403874104",
   "metadata": {},
   "outputs": [],
   "source": []
  }
 ],
 "metadata": {
  "kernelspec": {
   "display_name": "net-course",
   "language": "python",
   "name": "net-course"
  },
  "language_info": {
   "codemirror_mode": {
    "name": "ipython",
    "version": 3
   },
   "file_extension": ".py",
   "mimetype": "text/x-python",
   "name": "python",
   "nbconvert_exporter": "python",
   "pygments_lexer": "ipython3",
   "version": "3.12.5"
  }
 },
 "nbformat": 4,
 "nbformat_minor": 5
}
