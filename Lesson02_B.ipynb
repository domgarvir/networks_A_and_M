{
 "cells": [
  {
   "cell_type": "code",
   "execution_count": null,
   "id": "7f9454d2-89a9-454a-944c-069b1a5a4a91",
   "metadata": {},
   "outputs": [],
   "source": [
    "import pandas as pd #module to work with dataframes\n",
    "import networkx as nx #module to work with networks\n",
    "import numpy as np\n",
    "import scipy as scpy\n",
    "from Functions import *\n",
    "import random as rnd\n",
    "import matplotlib.pyplot as plt\n",
    "import seaborn as sns\n",
    "#%matplotlib inline"
   ]
  },
  {
   "cell_type": "markdown",
   "id": "2f78a1f5-645a-491c-91a0-bafbbb1aadf7",
   "metadata": {},
   "source": [
    "# Network Structure II: Community structure and mixing patterns (community-scale)"
   ]
  },
  {
   "cell_type": "markdown",
   "id": "2e02d4d6-3c76-4ad8-a02d-3af883406854",
   "metadata": {
    "tags": [],
    "toc-hr-collapsed": true
   },
   "source": [
    "## Connected components\n",
    "\n",
    "In the simple network we saw at the start of the previous notebook we saw that for **every** pair of nodes, we can find a path connecting them. This is the definition of a **connected graph**. We can check this property for a given graph:"
   ]
  },
  {
   "cell_type": "code",
   "execution_count": null,
   "id": "2c701f7b-6211-4384-af98-379fb2a46171",
   "metadata": {},
   "outputs": [],
   "source": [
    "G = nx.Graph()\n",
    "nx.add_cycle(G, (1,2,3))\n",
    "G.add_edge(4,5)\n",
    "nx.draw(G, with_labels=True)"
   ]
  },
  {
   "cell_type": "code",
   "execution_count": null,
   "id": "243f2726-e160-46e5-a328-4c71183e75ae",
   "metadata": {},
   "outputs": [],
   "source": [
    "nx.is_connected(G)"
   ]
  },
  {
   "cell_type": "markdown",
   "id": "e8ce00c3-06f0-43f0-89c3-6f3f7471b9c8",
   "metadata": {},
   "source": [
    "In graph theory, a **connected component** (or just component) of an undirected graph is a subgraph in which any two vertices are connected to each other by paths.  \n",
    "While visually, we can identify two connected components in that graph, it is not always so simple, and we need a way to verify this. \n",
    "NetworkX provides a function to let us find all of the connected components:`nx.number_connected_components(G)`.\n"
   ]
  },
  {
   "cell_type": "code",
   "execution_count": null,
   "id": "dde734ea-9b47-4a71-b062-6f28bf27fd70",
   "metadata": {},
   "outputs": [],
   "source": [
    "nx.number_connected_components(G)"
   ]
  },
  {
   "cell_type": "markdown",
   "id": "199c254b-4971-4c27-a01e-8a4162d76303",
   "metadata": {},
   "source": [
    "The `nx.connected_components(G)` function takes a graph and returns a list of sets of node names, one such set for each connected component. Verify that the two sets in the following list correspond to the two connected components in the drawing of the graph above:"
   ]
  },
  {
   "cell_type": "code",
   "execution_count": null,
   "id": "78d8244a-e347-43fd-be32-3ead8a7e0712",
   "metadata": {},
   "outputs": [],
   "source": [
    "list(nx.connected_components(G)) # see that they match the components in the graph figure"
   ]
  },
  {
   "cell_type": "markdown",
   "id": "834a3caf-3d28-4681-82a9-23c68b2343c3",
   "metadata": {},
   "source": [
    "> In case you're not familiar with Python sets: they are **unordered** collections of items **without duplicates**. These are useful for collecting node names because node names should be unique. We can get the number of items in a set with the `len` function:"
   ]
  },
  {
   "cell_type": "code",
   "execution_count": null,
   "id": "c0125d71-0042-4276-b841-e1eb80d3d1b6",
   "metadata": {},
   "outputs": [],
   "source": [
    "components = list(nx.connected_components(G)) #get number of nodes in the first component\n",
    "len(components[0])"
   ]
  },
  {
   "cell_type": "markdown",
   "id": "43d73e2f-a5c0-44f6-ae3e-3b229979dd1d",
   "metadata": {},
   "source": [
    "We often care about the **largest connected component**, which is sometimes referred to as the **core** of the network. We can make use of Python's builtin `max` function in order to obtain the largest connected component. By default, Python's `max` function sorts things in lexicographic (i.e. alphabetical) order, which is not helpful here. We want the maximum connected component when sorted in order of their sizes, so we pass `len` as a key function:"
   ]
  },
  {
   "cell_type": "code",
   "execution_count": null,
   "id": "3ee41962-5158-4a0e-a321-1880977fbfaf",
   "metadata": {},
   "outputs": [],
   "source": [
    "max(nx.connected_components(G), key=len)"
   ]
  },
  {
   "cell_type": "markdown",
   "id": "35148608-cc40-45b2-9915-9162b1935952",
   "metadata": {},
   "source": [
    "While it's often enough to just have the list of node names, sometimes we need the actual subgraph consisting of the largest connected component. One way to get this is to pass the list of node names to the `G.subgraph()` function:"
   ]
  },
  {
   "cell_type": "code",
   "execution_count": null,
   "id": "9c61d10c-f845-4e8e-961d-7c49a35dfaf5",
   "metadata": {},
   "outputs": [],
   "source": [
    "core_nodes = max(nx.connected_components(G), key=len)\n",
    "core = G.subgraph(core_nodes)\n",
    "\n",
    "nx.draw(core, with_labels=True)"
   ]
  },
  {
   "cell_type": "markdown",
   "id": "23657bef-e5d0-4b5b-984b-11e1f2b36877",
   "metadata": {},
   "source": [
    "### Directed components\n",
    "Directed networks have two kinds of connectivity. **Strongly connected** means that there exists a directed path between every pair of nodes, i.e., that from any node we can get to any other node while following edge directionality. Think of cars on a network of one-way streets: they can't drive against the flow of traffic."
   ]
  },
  {
   "cell_type": "code",
   "execution_count": null,
   "id": "45db552e-6fa1-4e53-9c5f-193a2f271ded",
   "metadata": {},
   "outputs": [],
   "source": [
    "D = nx.DiGraph() #lets  use the same small directed network\n",
    "D.add_edges_from([\n",
    "    (1,2),\n",
    "    (2,3),\n",
    "    (3,2), (3,4), (3,5),\n",
    "    (4,2), (4,5), (4,6),\n",
    "    (5,6),\n",
    "    (6,4),\n",
    "])\n",
    "nx.draw(D, with_labels=True)"
   ]
  },
  {
   "cell_type": "code",
   "execution_count": null,
   "id": "6f623ad9-7055-4efd-a596-8a3d7b7a2cc5",
   "metadata": {},
   "outputs": [],
   "source": [
    "nx.is_strongly_connected(D)"
   ]
  },
  {
   "cell_type": "markdown",
   "id": "a0b5d6d1-68b7-4cd4-bd1a-8009cbe579d2",
   "metadata": {},
   "source": [
    "**Weakly connected** means that there exist a path between every pair of nodes, regardless of direction. Think about pedestrians on a network of one-way streets: they walk on the sidewalks so they don't care about the direction of traffic."
   ]
  },
  {
   "cell_type": "code",
   "execution_count": null,
   "id": "b368069f-ac9d-4d94-8f83-4f2e52236499",
   "metadata": {},
   "outputs": [],
   "source": [
    "nx.is_weakly_connected(D)"
   ]
  },
  {
   "cell_type": "markdown",
   "id": "a0dca622-e7ea-4b23-be28-71eb5bb16dec",
   "metadata": {},
   "source": [
    "> Note 1: If a network is strongly connected, it is also weakly connected. The converse is not always true, as seen in this example.\n",
    "\n",
    "> Note 2: The `is_connected` function for undirected graphs will raise an error when given a directed graph."
   ]
  },
  {
   "cell_type": "markdown",
   "id": "240a3f31-25fb-4d19-bc66-dcea8dd18ece",
   "metadata": {},
   "source": [
    "In the directed case, instead of `nx.connected_components` we now have `nx.weakly_connected_components` and `nx.strongly_connected_components`:"
   ]
  },
  {
   "cell_type": "code",
   "execution_count": null,
   "id": "fa9fa25f-1886-41ba-853a-c661f1141b99",
   "metadata": {},
   "outputs": [],
   "source": [
    "list(nx.weakly_connected_components(D))"
   ]
  },
  {
   "cell_type": "code",
   "execution_count": null,
   "id": "cfb22250-75cc-459b-824e-c3706ecebb5a",
   "metadata": {},
   "outputs": [],
   "source": [
    "list(nx.strongly_connected_components(D))"
   ]
  },
  {
   "cell_type": "markdown",
   "id": "81a922fe-7c57-47d4-ad4e-87ac7420f2f2",
   "metadata": {},
   "source": [
    "<div class=\"alert alert-block alert-success\"><b>Up to you: </b>\n",
    "<h4> Exercise 14</h4>\n",
    "Let's work with the network of US air travel routes again:\n",
    "    \n",
    "- 1) Is it possible to travel from any airport in the US to any other airport in the US, possibly using connecting flights? \n",
    "- 2) How many airports are in the component with less nodes?\n",
    "    \n",
    "![title](./images/figure6.png)\n",
    "</div>"
   ]
  },
  {
   "cell_type": "code",
   "execution_count": null,
   "id": "88c3af6d-7cac-41f7-ae60-15b3479782f3",
   "metadata": {},
   "outputs": [],
   "source": [
    "#write your code here. The network is already loaded\n",
    "G = nx.read_graphml('./data/openflights_usa.graphml.gz')"
   ]
  },
  {
   "cell_type": "code",
   "execution_count": null,
   "id": "40f9e9c3-332d-4d1e-89de-5e21bccb8e2c",
   "metadata": {},
   "outputs": [],
   "source": [
    "# %load ./snippets/ex14.py"
   ]
  },
  {
   "cell_type": "markdown",
   "id": "7560968b-c449-4981-8fa9-b6d0fdc84033",
   "metadata": {},
   "source": [
    "> In general non-connected networks can generate problems in some algorithm (closeness centrality for example) and usually we will be only interested in the **largest component**, also known as **giant component** or **network core**. In some cases you will may need to yust study this **giant component**. If you remember what we used before to measure network integrity was the size of the giant component. "
   ]
  },
  {
   "cell_type": "markdown",
   "id": "600891bb-f802-42e8-8b67-b1081d8cc26e",
   "metadata": {},
   "source": [
    "## Partitions\n",
    "\n",
    "A **partition** of a graph is a separation of its nodes into disjoint groups. Consider the following graph:"
   ]
  },
  {
   "cell_type": "code",
   "execution_count": null,
   "id": "2132da4e-6e95-4bcd-87ed-081ae395dc4b",
   "metadata": {},
   "outputs": [],
   "source": [
    "G = nx.Graph()\n",
    "nx.add_cycle(G, [0, 1, 2, 3])\n",
    "nx.add_cycle(G, [4, 5, 6, 7])\n",
    "G.add_edge(0, 7)\n",
    "\n",
    "nx.draw(G, with_labels=True)"
   ]
  },
  {
   "cell_type": "markdown",
   "id": "24bb6f93-7a80-43c2-96f9-05125af41192",
   "metadata": {},
   "source": [
    "The following is an example of a partition of these nodes:"
   ]
  },
  {
   "cell_type": "code",
   "execution_count": null,
   "id": "e22abe7b-a973-455c-923b-8d5a3b1ff27d",
   "metadata": {},
   "outputs": [],
   "source": [
    "partition = [\n",
    "    {1, 2, 3},\n",
    "    {4, 5, 6},\n",
    "    {0, 7},\n",
    "]"
   ]
  },
  {
   "cell_type": "markdown",
   "id": "a9566b76-f121-4682-91dc-b41377b0d65d",
   "metadata": {},
   "source": [
    "Observe that **every node** in the graph is **in exactly one of the sets** in the partition. Formally, a partition is a list of sets such that every node is in exactly one set. NetworkX can verify that our partition is valid:"
   ]
  },
  {
   "cell_type": "code",
   "execution_count": null,
   "id": "e90ae139-e0f1-412f-8e2f-d81ac4aed99c",
   "metadata": {},
   "outputs": [],
   "source": [
    "nx.community.is_partition(G, partition)"
   ]
  },
  {
   "cell_type": "markdown",
   "id": "8ac4d0d7-01ec-4f6e-ac4e-e5c0efc6d75f",
   "metadata": {},
   "source": [
    "When developing **community detection algorithms**, we often make use of a *partition map*, which is a dictionary mapping node names to a partition index. This is useful for quickly comparing if two nodes are in the same cluster in the partition:"
   ]
  },
  {
   "cell_type": "code",
   "execution_count": null,
   "id": "4eae1da5-6460-413e-aa06-9922f035ddc3",
   "metadata": {},
   "outputs": [],
   "source": [
    "partition_map = {}\n",
    "for idx, cluster_nodes in enumerate(partition):\n",
    "    for node in cluster_nodes:\n",
    "        partition_map[node] = idx\n",
    "\n",
    "partition_map"
   ]
  },
  {
   "cell_type": "markdown",
   "id": "7d089c15-350c-4b1a-ad77-58129a9bf835",
   "metadata": {},
   "source": [
    "In this dictionary, the keys are the node names and two nodes will have the same value if they are in the same partition:"
   ]
  },
  {
   "cell_type": "code",
   "execution_count": null,
   "id": "c7f74b77-19b3-44df-b815-03d1c3119780",
   "metadata": {},
   "outputs": [],
   "source": [
    "partition_map[0] == partition_map[7]"
   ]
  },
  {
   "cell_type": "markdown",
   "id": "8b123c36-856e-4ea5-a7d5-a5f157a4f7e5",
   "metadata": {},
   "source": [
    "We can visualize our partition by drawing the graph with nodes colored by their partition membership, similar to how we colored the gomponents:"
   ]
  },
  {
   "cell_type": "code",
   "execution_count": null,
   "id": "248be418-5d49-498c-906a-d8ba422df305",
   "metadata": {},
   "outputs": [],
   "source": [
    "node_colors = [partition_map[n] for n in G.nodes]\n",
    "        \n",
    "nx.draw(G, node_color=node_colors, with_labels=True)"
   ]
  },
  {
   "cell_type": "markdown",
   "id": "fe76c7ce-b64a-43b0-8250-03b8b83bf662",
   "metadata": {},
   "source": [
    "There are two **trivial partitions** in all networks:\n",
    "\n",
    "1. The partition with one set containing every node;\n",
    "2. The partition with N sets, each containing a single node.\n",
    "\n",
    "A valid partition thus contains between 1 and N sets.\n",
    "\n",
    "Feel free to experiment by changing the partition above and running the subsequent cells."
   ]
  },
  {
   "cell_type": "markdown",
   "id": "c4c03c91-f04d-4385-beed-717bc4ada0dd",
   "metadata": {},
   "source": [
    "## Modularity\n",
    "\n",
    "At a high level, network community detection consists of finding a partition that achieves good separation between the groups of nodes. Before we get into how to find good partitions of a graph, we need an objective -- a way to measure how good the partition is. Modularity is one such objective function.\n",
    "\n",
    "The modularity of a graph partition compares the number of intra-group edges with a random baseline. Higher modularity scores correspond to a higher proportion of intra-group edges, therefore fewer inter-group edges and better separation of groups.\n",
    "\n",
    "For weighted undirected networks, we have\n",
    "\\begin{equation}\n",
    "    Q_w=\\frac{1}{W}\\sum_C \\left(W_C-\\frac{s_C^2}{4W}\\right),\n",
    "    \\label{eq:wmodul}\n",
    "\\end{equation}\n",
    "where \n",
    "* $W$ is the total weight of the links of the network,\n",
    "* $W_C$ the total weight of the internal links of cluster $C$, and\n",
    "* $s_C$ the total strength of the nodes of $C$.\n",
    "\n",
    "The total weight $W$ is half the total strength for the same reason that the number of edges $L$ is half the total degree. While this formula may look a bit complicated, it's straightforward to write code to compute the sum, but still NetworkX provides a modularity function that is more efficient than one I can write: `community.quality.modularity`"
   ]
  },
  {
   "cell_type": "code",
   "execution_count": null,
   "id": "93916c56-b472-488c-bc92-a64a071a4522",
   "metadata": {},
   "outputs": [],
   "source": [
    "nx.community.quality.modularity(G, partition)"
   ]
  },
  {
   "cell_type": "markdown",
   "id": "0fc73643-b6d5-42a7-9e79-4d55c7df296d",
   "metadata": {},
   "source": [
    "Let's compare this to a partition we would suspect to have higher modularity:"
   ]
  },
  {
   "cell_type": "code",
   "execution_count": null,
   "id": "2bd622a7-2551-4faa-95f7-71e3fd0cb4cc",
   "metadata": {},
   "outputs": [],
   "source": [
    "partition_2 = [\n",
    "    {0, 1, 2, 3},\n",
    "    {4, 5, 6, 7},\n",
    "]\n",
    "nx.community.quality.modularity(G, partition_2)"
   ]
  },
  {
   "cell_type": "markdown",
   "id": "383ee35e-548b-46ae-840f-5d6876be354e",
   "metadata": {},
   "source": [
    "### Zachary's Karate Club\n",
    "When writing and testing community-detection algorithms, it helps to make use of benchmark networks: graphs with a known, \"natural\" community structure. Perhaps the most famous benchmark graph is Zachary's Karate Club. It contains 34 nodes, representing members of a karate club whose interactions were monitored over a period of three years by researchers. Links in this graph connect individuals interacting outside club activities, a proxy for social ties.\n",
    "\n",
    "During the course of the study, a conflict between the instructor Mr. Hi (node 0) and the president, or Officer (node 33) led to a split of the club into separate groups led by Mr. Hi and Officer. In this case we know whom each member of the group followed after the split, providing empirical community labels: those members who followed Mr. Hi are said to be one community and those following the Officer make up the other.\n",
    "\n",
    "For this graph, we assume that the post-split group composition was largely driven by the social ties: members of the same friend groups would want to be part of the same club after the split. We thus expect a good community-detection algorithm to predict the post-split group composition with high accuracy.\n",
    "\n",
    "Zachary's karate club is such a popular benchmark graph that it has its own function in NetworkX:"
   ]
  },
  {
   "cell_type": "code",
   "execution_count": null,
   "id": "da58e449-c28b-4296-a64f-e67645e7caf3",
   "metadata": {},
   "outputs": [],
   "source": [
    "G = nx.karate_club_graph()\n",
    "nx.draw(G, with_labels=True)"
   ]
  },
  {
   "cell_type": "markdown",
   "id": "4f0865e0-0f5f-40aa-9919-4dcbe933f5d5",
   "metadata": {},
   "source": [
    "Each node in this graph has a `'club'` attribute, indicating whether the member followed the instructor or the president after the split:"
   ]
  },
  {
   "cell_type": "code",
   "execution_count": null,
   "id": "0225c6eb-947f-4816-8015-fcb11bf90a6e",
   "metadata": {},
   "outputs": [],
   "source": [
    "G.nodes[0]"
   ]
  },
  {
   "cell_type": "code",
   "execution_count": null,
   "id": "6ff8cb98-d6d9-45ea-b32e-977b1ec46f49",
   "metadata": {},
   "outputs": [],
   "source": [
    "G.nodes[9]"
   ]
  },
  {
   "cell_type": "markdown",
   "id": "a333c290-235b-4357-bd54-5632c6b1bc3e",
   "metadata": {},
   "source": [
    "We can visualize these labels by coloring each node according to its `'club'` attribute:"
   ]
  },
  {
   "cell_type": "code",
   "execution_count": null,
   "id": "1924bf3b-3131-4172-ac3f-d6eb4b34639e",
   "metadata": {},
   "outputs": [],
   "source": [
    "G = nx.karate_club_graph()\n",
    "club_color = {\n",
    "    'Mr. Hi': 'orange',\n",
    "    'Officer': 'lightblue',\n",
    "}\n",
    "node_colors = [club_color[G.nodes[n]['club']] for n in G.nodes]\n",
    "nx.draw(G, node_color=node_colors, with_labels=True)"
   ]
  },
  {
   "cell_type": "markdown",
   "id": "b0b3f471-601b-44b7-ab71-8b83bd6af4bb",
   "metadata": {},
   "source": [
    "This separation looks good, in that there are relatively few inter-community links as opposed to intra-community links. Let's create a graph partition based on these labels and measure its modularity.\n",
    "\n",
    "We can do this by creating a dictionary of two sets, one for each value of the nodes' `'club'` attribute, then assigning the nodes to the corresponding set. "
   ]
  },
  {
   "cell_type": "code",
   "execution_count": null,
   "id": "3bcbe4d3-575c-42c1-8053-732e8babd72d",
   "metadata": {},
   "outputs": [],
   "source": [
    "groups = {\n",
    "    'Mr. Hi': set(),\n",
    "    'Officer': set(),\n",
    "}\n",
    "\n",
    "for n in G.nodes:\n",
    "    club = G.nodes[n]['club']\n",
    "    groups[club].add(n)\n",
    "groups"
   ]
  },
  {
   "cell_type": "code",
   "execution_count": null,
   "id": "daf1fa32-7864-4710-b807-4c6246e62e99",
   "metadata": {},
   "outputs": [],
   "source": [
    "empirical_partition = list(groups.values())"
   ]
  },
  {
   "cell_type": "code",
   "execution_count": null,
   "id": "da4d970c-77d9-47cc-9f36-46a21aa515d8",
   "metadata": {},
   "outputs": [],
   "source": [
    "empirical_partition"
   ]
  },
  {
   "cell_type": "markdown",
   "id": "edf082d7-7621-4bb1-a1fb-073e734f66d8",
   "metadata": {},
   "source": [
    "### Comparison to a random partition\n",
    "\n",
    "For the sake of comparison, let's generate a random partition of this network and check its modularity. We would expect a modularity close to zero in this case.\n",
    "\n",
    "We will asign nodes randomly between two partitions:"
   ]
  },
  {
   "cell_type": "code",
   "execution_count": null,
   "id": "fa3d94b7-334c-48d0-949b-8baade899368",
   "metadata": {},
   "outputs": [],
   "source": [
    "rnd_groups={1:set(),2:set()} #create the dictionary to store if the node goes to the group 1 or 2\n",
    "for n in G.nodes:\n",
    "    club = rnd.randint(1,2) #choose groups randomly\n",
    "    rnd_groups[club].add(n) #add node to the set\n",
    "rnd_groups\n",
    "rnd_partition = list(rnd_groups.values())"
   ]
  },
  {
   "cell_type": "markdown",
   "id": "561eeb39-fed6-4810-bba6-31997ad878c8",
   "metadata": {},
   "source": [
    "We can visualize this partition and observe that the communities are much less natural-looking, as we would expect from a random assignment."
   ]
  },
  {
   "cell_type": "code",
   "execution_count": null,
   "id": "1ece5e9d-9942-4036-a8c0-ffa2f2896f50",
   "metadata": {},
   "outputs": [],
   "source": [
    "random_node_colors = ['orange' if n in rnd_groups[1] else 'lightblue' for n in G.nodes] #remember is just a list of color, we check the random group of each node\n",
    "nx.draw(G, node_color=random_node_colors, with_labels=True)"
   ]
  },
  {
   "cell_type": "markdown",
   "id": "c0b4e7ff-f4de-4ccd-a5ed-ecaea76341a1",
   "metadata": {},
   "source": [
    "### Best partitions\n",
    "To obtain the best partition of the Zachary Karate Club graph into two groups, wecan use community detection algorithms that allow specifying the number of partitions, such as the **Girvan-Newman**. This algorithm works by iteratively removing edges with the highest betweenness centrality to split the graph into components. We can calculate the best parition for a given number of components like this:"
   ]
  },
  {
   "cell_type": "code",
   "execution_count": null,
   "id": "bd345703-9920-4a58-97b3-5060a8f2b4b8",
   "metadata": {},
   "outputs": [],
   "source": [
    "partition_GN = girvan_newman_partition(G, num_partitions=2)\n",
    "partition_GN"
   ]
  },
  {
   "cell_type": "code",
   "execution_count": null,
   "id": "92e85249-bcd5-4b1a-955f-9970afcd90ca",
   "metadata": {},
   "outputs": [],
   "source": [
    "best_node_colors = ['orange' if n in partition_GN[0] else 'lightblue' for n in G.nodes]\n",
    "nx.draw(G, node_color=best_node_colors, with_labels=True)"
   ]
  },
  {
   "cell_type": "markdown",
   "id": "3e8448e4-5c90-4603-b26f-84720ee7f43a",
   "metadata": {},
   "source": [
    "What the algorithm does to find the best partition is maximize the modularity. Let's see the modularity of the three partitions we have:"
   ]
  },
  {
   "cell_type": "code",
   "execution_count": null,
   "id": "5f57fb3c-63a3-48a5-a2bd-c0c4b66f0b22",
   "metadata": {},
   "outputs": [],
   "source": [
    "nx.community.quality.modularity(G, empirical_partition)"
   ]
  },
  {
   "cell_type": "code",
   "execution_count": null,
   "id": "4a60296d-63c1-47ac-b2ea-7aa9537d3955",
   "metadata": {},
   "outputs": [],
   "source": [
    "nx.community.quality.modularity(G, rnd_partition)"
   ]
  },
  {
   "cell_type": "code",
   "execution_count": null,
   "id": "3193adac-b7db-4e6a-82bb-466229072584",
   "metadata": {},
   "outputs": [],
   "source": [
    "nx.community.quality.modularity(G, partition_GN)"
   ]
  },
  {
   "cell_type": "markdown",
   "id": "2df1bc04-97a2-4930-80f5-f6ef4ffa3923",
   "metadata": {},
   "source": [
    "The Louvain algorithm is frequently used to obtain groups in networks too, but it does not allows to specify the number of clusters"
   ]
  },
  {
   "cell_type": "code",
   "execution_count": null,
   "id": "a068f526-c76b-47a0-88fd-957a368900c1",
   "metadata": {},
   "outputs": [],
   "source": [
    "partition_Louvain=nx.community.louvain_communities(G)\n",
    "nx.community.quality.modularity(G, partition_Louvain)"
   ]
  },
  {
   "cell_type": "code",
   "execution_count": null,
   "id": "44073060-0d2c-4f3b-a20e-21b31a6c8e3a",
   "metadata": {},
   "outputs": [],
   "source": [
    "best_partition_map = create_partition_map(partition_Louvain)\n",
    "node_colors = [best_partition_map[n] for n in G.nodes()]\n",
    "nx.draw(G, with_labels=True, node_color=node_colors)"
   ]
  },
  {
   "cell_type": "markdown",
   "id": "e00fc054-ca27-4f1f-8e3d-5474cfe0a1ab",
   "metadata": {},
   "source": [
    "> Note1: Be careful with modularity, as best communities may not have much sense. Alwas **try to have an idea of what can be behind the group formation** and test that. \n",
    "\n",
    "> Note 2: While both methods can be aused in weighted networks automatically, louvain method only works in undirected graphs. For directed graphs see the Leiden algorithm, an improved version of Louvain, supports directed graphs by using a modularity function that accounts for directionality. It is in another library (leidenalg)\n",
    "\n",
    "> Note 3: Girvan Newman algorithm can be used in weighted networks, but we need to specify we want to use the weighted betweennes centrality like this_ `community.girvan_newman(G, most_valuable_edge=nx.edge_betweenness_centrality_weighted)`"
   ]
  },
  {
   "cell_type": "markdown",
   "id": "39816a04-4085-4f78-b626-741b33f0af00",
   "metadata": {},
   "source": [
    "## Nestedness\n",
    "\n",
    "The level of nestedness of the mutualistic matrix is usually estimated by means of appropriate software. However, Bastolla et al.  introduced an explicit definition of nestedness that makes the calculation more straightforward and had the advantage of being related to the form of the matrix of interactions. \n",
    "\n",
    "$$\n",
    "\\eta_{B}=\\frac{\\sum_{i<j}\\hat{n}_{ij}}{\\sum_{i<j}\\min(k_{i},k_{j})},\n",
    "$$\n",
    "Here min(, ) refers to the smaller of the two values and , and the number of shared symbiotic partners,\n",
    "$\\hat{n}_{ij}=\\sum_{l}\\hat{a}_{il}\\hat{a}_{lj}=(\\hat{a}^{2})_{ij}$\n",
    "This nestedness index ranges from zero to one, and is highly correlated with previous measures of nestedness.\n",
    "\n"
   ]
  },
  {
   "cell_type": "code",
   "execution_count": null,
   "id": "97a8b78e-e21b-4420-a5f6-00f688f5bb85",
   "metadata": {},
   "outputs": [],
   "source": [
    "filename=\"./data/WoL_fugivory/1.csv\" \n",
    "Idf1=pd.read_csv(filename, header=0, index_col=0)\n",
    "B1 = nx.Graph()\n",
    "# Add producers (rows) and consumers (columns) as nodes\n",
    "plants1 = Idf1.index\n",
    "animals1 = Idf1.columns\n",
    "B1.add_nodes_from(plants1, bipartite=\"plant\")  # Set for producers\n",
    "B1.add_nodes_from(animals1, bipartite=\"animal\")  # Set for consumers\n",
    "    # Add edges for non-zero interactions, we can also use the matrix directly\n",
    "for plant in plants1:\n",
    "    for animal in animals1:\n",
    "        if Idf1.loc[plant, animal] != 0:\n",
    "            B1.add_edge(plant, animal)\n",
    "            "
   ]
  },
  {
   "cell_type": "code",
   "execution_count": null,
   "id": "247a7509-68b4-4d19-8e0f-1d7b9494f824",
   "metadata": {},
   "outputs": [],
   "source": [
    "#since the function takes the matrix lets convert the network to amtrix form\n",
    "Amat = nx.to_pandas_adjacency(B1) #get full adjacency matrix\n",
    "Imat = Amat.loc[list(plants1), list(animals1)] #subselect the A vs P interactions\n",
    "eta=nestedness2(Imat)\n",
    "eta"
   ]
  },
  {
   "cell_type": "markdown",
   "id": "940aeaa7-d25d-460a-9fbe-e33e2c92f905",
   "metadata": {},
   "source": [
    "<div class=\"alert alert-block alert-success\"><b>Up to you: </b>\n",
    "<h4> Exercise 15</h4>\n",
    "    \n",
    "Load the Tronqueira frugivory network, and measure its **nestedness** and **modularity**.  The matrix is located at: \"./data/WoL_Tronqueira/tronqueira.csv\" (hint: you already loaded it in the first class)\n",
    "\n",
    "- 1. What is the value of nestedness?\n",
    "- 2. What is its modularity?\n",
    "- 3. How do they compare to those from the previous one? (hit: just plot the values of nestedness vs the values of modularity)\n",
    "\n",
    "</div>"
   ]
  },
  {
   "cell_type": "code",
   "execution_count": null,
   "id": "91f41aa9-59a3-44cf-948c-c529974cd6a1",
   "metadata": {},
   "outputs": [],
   "source": [
    "#your code here"
   ]
  },
  {
   "cell_type": "code",
   "execution_count": null,
   "id": "30497e5f-61f4-4fbc-bbd0-4cb9a3493ef5",
   "metadata": {},
   "outputs": [],
   "source": [
    "# %load ./snippets/ex15.py"
   ]
  },
  {
   "cell_type": "markdown",
   "id": "8fda0201-e025-4fe6-90ae-8d3bc66779ed",
   "metadata": {},
   "source": [
    "# Network Structure III: Meso-scale patterns"
   ]
  },
  {
   "cell_type": "markdown",
   "id": "0d604047-6d95-4679-9987-8b76c37e9402",
   "metadata": {},
   "source": [
    "## Triangles\n",
    "\n",
    "The first structure that we are going to learn about is **triangles**.\n",
    "Triangles are super interesting!\n",
    "They are what one might consider to be\n",
    "\"the simplest complex structure\" in a graph.\n",
    "Triangles can also have semantically-rich meaning depending on the application.\n",
    "To borrow a bad example, love triangles in social networks are generally frowned upon,\n",
    "while on the other hand, when we connect two people that we know together,\n",
    "we instead _complete_ a triangle.\n",
    "\n",
    "NetworkX provides an `nx.triangles(G, node)` function.\n",
    "It returns the number of triangles that a node is involved in.\n",
    "\n",
    "Let's see how this works in a network of physicians, captures innovation spread among 246 physicians in for towns in Illinois, meaning that the physicians trust each other."
   ]
  },
  {
   "cell_type": "code",
   "execution_count": null,
   "id": "4b4b51e8-9906-42c8-9c37-e5e79761613b",
   "metadata": {},
   "outputs": [],
   "source": [
    "G=load_physicians_network()"
   ]
  },
  {
   "cell_type": "code",
   "execution_count": null,
   "id": "ec717a91-af6e-48f4-b1cd-a4f838c480b1",
   "metadata": {},
   "outputs": [],
   "source": [
    "nx.triangles(G,2)"
   ]
  },
  {
   "cell_type": "code",
   "execution_count": null,
   "id": "ef9d0871-fe17-4bba-8c46-95479a1a8d6a",
   "metadata": {},
   "outputs": [],
   "source": [
    "get_triangle_neighbors(G,2)"
   ]
  },
  {
   "cell_type": "code",
   "execution_count": null,
   "id": "83c307f3-3d90-4367-bf4d-8b34a83b3194",
   "metadata": {},
   "outputs": [],
   "source": [
    "plot_triangle_relations(G, 3)"
   ]
  },
  {
   "cell_type": "markdown",
   "id": "97372027-ac11-42b6-8ceb-d112430310f2",
   "metadata": {},
   "source": [
    "## Clustering\n",
    "\n",
    "In graph theory, a clustering coefficient is a measure of the degree to which nodes in a graph tend to cluster together. Evidence suggests that in most real-world networks, and in particular social networks, nodes tend to create tightly knit groups characterised by a relatively high density of ties; this likelihood tends to be greater than the average probability of a tie randomly established between two nodes.\n",
    "Two versions of this measure exist: the global and the local. The global version (`nx.transitivity(G)`) was designed to give an overall indication of the clustering in the network, whereas the local (`nx.clustering(G,node)`) gives an indication of the extent of \"clustering\" of a single node. \n",
    "\n",
    "The global clustering coefficient is the number of closed triplets (or 3 x triangles) over the total number of triplets (both open and closed). As an alternative to the global clustering coefficient, the overall level of clustering in a network is measured by Watts and Strogatz as the average of the local clustering coefficients of all the vertices (`nx.average_clustering(G)`). This measure is very relevant in social networks, where \"the frieds of your friends tend to be your friends\".\n",
    "\n",
    " \n",
    "When nodes have a high clustering coefficient, they are often thought to be well *embedded* in the network. People in such a position in the network tend to have friends that are also friends themselves. In a certain sense, they are in a *cohesive* environment. This is generally thought to increase trust in one another, but also tends to be associated with higher peer pressure and social norm enforcement. Nodes that have a low clustering coefficient occupy a rather different position in the network. They tend to connect different parts of the network, and we earlier saw that they tend to act as bridges. This notion of a bridge can be a bit relaxed to a *local bridge*: an edge without common neighbors, or stated differently a jaccard similarity of 0. Nodes with such a position are said to \"fill\" a *structural hole*. They are the go-between for different people, providing such strutural holes with a strategic advantage. For example, a real-estate agent may facilitate a transaction between a buyer and a seller. Neither buyer nor seller would be connected if it wasn't for the real-estate agent. Indeed, people in such a position of a *structural hole* are sometimes also called *brokers*. Structural holes are also thought to have more opportunities for innovation and creativity. At the interface of different groups, people occupying structural holes may hear much more, and diverse, information. This could enable them to integrate this diverse information into something new."
   ]
  },
  {
   "cell_type": "code",
   "execution_count": null,
   "id": "2688942c-5b12-4a98-b7f6-fdc7d8061799",
   "metadata": {},
   "outputs": [],
   "source": [
    "plot_open_triangle_relations(G, 3) #Lets see the posible triangles that are not closed!"
   ]
  },
  {
   "cell_type": "code",
   "execution_count": null,
   "id": "df7e1e2b-e2c8-4446-930b-c27144a7a1c4",
   "metadata": {},
   "outputs": [],
   "source": [
    "nx.transitivity(G)"
   ]
  },
  {
   "cell_type": "code",
   "execution_count": null,
   "id": "7fbfde12-bb02-4660-86c6-d2acb0b94e43",
   "metadata": {},
   "outputs": [],
   "source": [
    "nx.clustering(G,1)"
   ]
  },
  {
   "cell_type": "code",
   "execution_count": null,
   "id": "0bf1a72d-3092-4c42-8303-4e92a804c2be",
   "metadata": {},
   "outputs": [],
   "source": [
    "nx.average_clustering(G)"
   ]
  },
  {
   "cell_type": "markdown",
   "id": "52b10591-dbc6-430e-a314-9c0b614fd4f7",
   "metadata": {},
   "source": [
    "<div class=\"alert alert-block alert-success\"><b>Up to you: </b>\n",
    "<h4> Exercise 16</h4>\n",
    "Using the physician network,find:\n",
    "\n",
    "- 1. Who has a more cohesive environment? (all their friends are friends of each other)\n",
    "- 2. Obtain other measures from centrality andd see if they are correlated\n",
    "    \n",
    "</div>"
   ]
  },
  {
   "cell_type": "code",
   "execution_count": null,
   "id": "7c33eed1-6e96-4acd-8438-289567c79f69",
   "metadata": {},
   "outputs": [],
   "source": [
    "#your code here"
   ]
  },
  {
   "cell_type": "code",
   "execution_count": null,
   "id": "b883cb2f-8c4c-4231-8fa6-304238885af9",
   "metadata": {},
   "outputs": [],
   "source": [
    "# %load ./snippets/ex16.py"
   ]
  },
  {
   "cell_type": "markdown",
   "id": "2becc678-276b-478b-8c21-bc5903f78df9",
   "metadata": {},
   "source": [
    "## K-Cliques\n",
    "\n",
    "Triangles are interesting in a graph theoretic setting\n",
    "because triangles are the simplest complex clique that exist.\n",
    "\n",
    "But wait!\n",
    "What is the definition of a \"clique\"? \n",
    "\n",
    "A **clique**  is a set of nodes in a graph that are fully connected with one another by edges between them.\n",
    "![title](./images/figure12.jpg)"
   ]
  },
  {
   "cell_type": "markdown",
   "id": "7d7657b5-b1cc-4f3d-aa64-878d79041657",
   "metadata": {},
   "source": [
    "<div class=\"alert alert-block alert-success\"><b>Up to you: </b>\n",
    "<h4> Exercise 17</h4>\n",
    "\n",
    "- What is the simplest clicke?\n",
    "    \n",
    "</div>"
   ]
  },
  {
   "cell_type": "code",
   "execution_count": null,
   "id": "a3384106-e2db-4ed0-afdc-d6e2717cdd1e",
   "metadata": {},
   "outputs": [],
   "source": [
    "# %load ./snippets/ex17.py"
   ]
  },
  {
   "cell_type": "markdown",
   "id": "0e17815b-b01f-4610-bbee-92e39c21b7b1",
   "metadata": {},
   "source": [
    "It is possible to find all the K-cliques with the function  `nx.community.k_clique_communities(G, size-of-clicke)`"
   ]
  },
  {
   "cell_type": "code",
   "execution_count": null,
   "id": "f45b648f-9dc5-4690-b4e7-808dbc442385",
   "metadata": {},
   "outputs": [],
   "source": [
    "list(nx.community.k_clique_communities(G, 5))"
   ]
  },
  {
   "cell_type": "markdown",
   "id": "b78e0d1f-0fbe-4249-9533-30ac14c04dc8",
   "metadata": {},
   "source": [
    "## Motifs"
   ]
  },
  {
   "cell_type": "markdown",
   "id": "71bc5c6b-0349-4ed0-85bb-96e56b516b17",
   "metadata": {},
   "source": [
    "To put this in practice we need a directed network. Let's load the foodweb"
   ]
  },
  {
   "cell_type": "code",
   "execution_count": null,
   "id": "2b9a3554-5423-4e88-b022-5fd63b8c8a95",
   "metadata": {},
   "outputs": [],
   "source": [
    "filename=\"./data/WoL_StMarks/st_marks.csv\"\n",
    "Idf=pd.read_csv(filename, header=0, index_col=0)\n",
    "G = nx.DiGraph()\n",
    "\n",
    "# Use the stack() function to create a series, and then filter out zeros\n",
    "edges = Idf.stack().reset_index()\n",
    "edges = edges[edges[0] != 0]  # Filter out non-interactions (zeros)\n",
    "\n",
    "# Adding edges to the directed graph\n",
    "G.add_edges_from(zip(edges['level_0'], edges['level_1']))"
   ]
  },
  {
   "cell_type": "code",
   "execution_count": null,
   "id": "33c8093d-36d6-44f8-ae18-58d657090203",
   "metadata": {},
   "outputs": [],
   "source": [
    "motifs = {\n",
    "    'S1': nx.DiGraph([(1,2),(2,3)]),\n",
    "    'S2': nx.DiGraph([(1,2),(1,3),(2,3)]),\n",
    "    'S3': nx.DiGraph([(1,2),(2,3),(3,1)]),\n",
    "    'S4': nx.DiGraph([(1,2),(3,2)]),\n",
    "    'S5': nx.DiGraph([(1,2),(1,3)])\n",
    " }"
   ]
  },
  {
   "cell_type": "code",
   "execution_count": null,
   "id": "f70c04c1-3340-4a0f-9c03-b033b34d9daa",
   "metadata": {},
   "outputs": [],
   "source": [
    "mcounter(G,motifs)"
   ]
  },
  {
   "cell_type": "code",
   "execution_count": null,
   "id": "71e21f05-e168-4289-8d9f-abc02bfdadb4",
   "metadata": {},
   "outputs": [],
   "source": []
  },
  {
   "cell_type": "markdown",
   "id": "e519187f-3a64-4a2a-891d-037ae73fd3e0",
   "metadata": {
    "tags": []
   },
   "source": [
    "#### compare with a random"
   ]
  },
  {
   "cell_type": "code",
   "execution_count": null,
   "id": "de6066bf-b873-4f9c-9a7c-3f4fa3cd15f0",
   "metadata": {},
   "outputs": [],
   "source": [
    "#generate rnd bipartite\n",
    "L=B1.number_of_edges()\n",
    "\n",
    "B_rand=nx.bipartite.gnmk_random_graph(len(plants1), len(animals1), L, directed=False)\n",
    "#if B is not connected retrieve the node sets with the bipartite attribute:\n",
    "top_nodes = {n for n, d in B_rand.nodes(data=True) if d[\"bipartite\"] == 0}\n",
    "bottom_nodes = set(B_rand) - top_nodes\n",
    "\n",
    "if(len(top_nodes)==len(plants1)):\n",
    "    row_nodes=top_nodes\n",
    "    col_nodes=bottom_nodes\n",
    "else:\n",
    "    row_nodes=bottom_nodes\n",
    "    col_nodes=rop_nodes\n",
    "\n",
    "AmatR = nx.to_pandas_adjacency(B_rand) #get full adjacency matrix\n",
    "ImatR = AmatR.loc[list(row_nodes), list(col_nodes)] #subselect the A vs P interactions"
   ]
  },
  {
   "cell_type": "code",
   "execution_count": null,
   "id": "1c80ae1e-f017-4751-8051-077ef1cd720b",
   "metadata": {},
   "outputs": [],
   "source": [
    "eta=nestedness2(ImatR)\n",
    "eta"
   ]
  },
  {
   "cell_type": "code",
   "execution_count": null,
   "id": "61071bea-61b3-4af5-bfef-4ef5cb2920a8",
   "metadata": {},
   "outputs": [],
   "source": [
    "ImatR2=randomization_constant_PK(Imat)"
   ]
  },
  {
   "cell_type": "code",
   "execution_count": null,
   "id": "b224cad3-601b-4528-b205-8868387d8b66",
   "metadata": {},
   "outputs": [],
   "source": [
    "eta=nestedness2(ImatR2)\n",
    "eta"
   ]
  },
  {
   "cell_type": "code",
   "execution_count": null,
   "id": "0dbe2057-16e5-42b9-b4e7-d984cabbe4d8",
   "metadata": {},
   "outputs": [],
   "source": []
  }
 ],
 "metadata": {
  "kernelspec": {
   "display_name": "net-course",
   "language": "python",
   "name": "net-course"
  },
  "language_info": {
   "codemirror_mode": {
    "name": "ipython",
    "version": 3
   },
   "file_extension": ".py",
   "mimetype": "text/x-python",
   "name": "python",
   "nbconvert_exporter": "python",
   "pygments_lexer": "ipython3",
   "version": "3.12.5"
  }
 },
 "nbformat": 4,
 "nbformat_minor": 5
}
