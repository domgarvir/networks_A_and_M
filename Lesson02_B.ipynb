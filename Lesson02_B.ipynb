{
 "cells": [
  {
   "cell_type": "code",
   "execution_count": null,
   "id": "7f9454d2-89a9-454a-944c-069b1a5a4a91",
   "metadata": {},
   "outputs": [],
   "source": [
    "import pandas as pd #module to work with dataframes\n",
    "import networkx as nx #module to work with networks\n",
    "import numpy as np\n",
    "import scipy as scpy\n",
    "from Functions import *\n",
    "#%matplotlib inline"
   ]
  },
  {
   "cell_type": "markdown",
   "id": "2f78a1f5-645a-491c-91a0-bafbbb1aadf7",
   "metadata": {},
   "source": [
    "# Network Structure II: Community structure and mixing patterns (community-scale)"
   ]
  },
  {
   "cell_type": "markdown",
   "id": "2e02d4d6-3c76-4ad8-a02d-3af883406854",
   "metadata": {},
   "source": [
    "## Connected components\n",
    "\n",
    "In the simple network we saw at the start of the previous notebook we saw that for **every** pair of nodes, we can find a path connecting them. This is the definition of a **connected graph**. We can check this property for a given graph:"
   ]
  },
  {
   "cell_type": "code",
   "execution_count": null,
   "id": "2c701f7b-6211-4384-af98-379fb2a46171",
   "metadata": {},
   "outputs": [],
   "source": [
    "G = nx.Graph()\n",
    "nx.add_cycle(G, (1,2,3))\n",
    "G.add_edge(4,5)\n",
    "nx.draw(G, with_labels=True)"
   ]
  },
  {
   "cell_type": "code",
   "execution_count": null,
   "id": "243f2726-e160-46e5-a328-4c71183e75ae",
   "metadata": {},
   "outputs": [],
   "source": [
    "nx.is_connected(G)"
   ]
  },
  {
   "cell_type": "markdown",
   "id": "e8ce00c3-06f0-43f0-89c3-6f3f7471b9c8",
   "metadata": {},
   "source": [
    "While visually, we can identify two connected components in that graph, it is not always so simple, and we need a way to verify this. We will use the function `nx.number_connected_components(G)`"
   ]
  },
  {
   "cell_type": "code",
   "execution_count": null,
   "id": "dde734ea-9b47-4a71-b062-6f28bf27fd70",
   "metadata": {},
   "outputs": [],
   "source": [
    "nx.number_connected_components(G)"
   ]
  },
  {
   "cell_type": "markdown",
   "id": "199c254b-4971-4c27-a01e-8a4162d76303",
   "metadata": {},
   "source": [
    "The `nx.connected_components(G)` function takes a graph and returns a list of sets of node names, one such set for each connected component. Verify that the two sets in the following list correspond to the two connected components in the drawing of the graph above:"
   ]
  },
  {
   "cell_type": "code",
   "execution_count": null,
   "id": "78d8244a-e347-43fd-be32-3ead8a7e0712",
   "metadata": {},
   "outputs": [],
   "source": [
    "list(nx.connected_components(G)) # see that they match the components in the graph figure"
   ]
  },
  {
   "cell_type": "markdown",
   "id": "834a3caf-3d28-4681-82a9-23c68b2343c3",
   "metadata": {},
   "source": [
    "> In case you're not familiar with Python sets: they are **unordered** collections of items **without duplicates**. These are useful for collecting node names because node names should be unique. We can get the number of items in a set with the `len` function:"
   ]
  },
  {
   "cell_type": "code",
   "execution_count": null,
   "id": "c0125d71-0042-4276-b841-e1eb80d3d1b6",
   "metadata": {},
   "outputs": [],
   "source": [
    "components = list(nx.connected_components(G)) #get number of nodes in the first component\n",
    "len(components[0])"
   ]
  },
  {
   "cell_type": "markdown",
   "id": "43d73e2f-a5c0-44f6-ae3e-3b229979dd1d",
   "metadata": {},
   "source": [
    "We often care about the **largest connected component**, which is sometimes referred to as the **core** of the network. We can make use of Python's builtin `max` function in order to obtain the largest connected component. By default, Python's `max` function sorts things in lexicographic (i.e. alphabetical) order, which is not helpful here. We want the maximum connected component when sorted in order of their sizes, so we pass `len` as a key function:"
   ]
  },
  {
   "cell_type": "code",
   "execution_count": null,
   "id": "3ee41962-5158-4a0e-a321-1880977fbfaf",
   "metadata": {},
   "outputs": [],
   "source": [
    "max(nx.connected_components(G), key=len)"
   ]
  },
  {
   "cell_type": "markdown",
   "id": "35148608-cc40-45b2-9915-9162b1935952",
   "metadata": {},
   "source": [
    "While it's often enough to just have the list of node names, sometimes we need the actual subgraph consisting of the largest connected component. One way to get this is to pass the list of node names to the `G.subgraph()` function:"
   ]
  },
  {
   "cell_type": "code",
   "execution_count": null,
   "id": "9c61d10c-f845-4e8e-961d-7c49a35dfaf5",
   "metadata": {},
   "outputs": [],
   "source": [
    "core_nodes = max(nx.connected_components(G), key=len)\n",
    "core = G.subgraph(core_nodes)\n",
    "\n",
    "nx.draw(core, with_labels=True)"
   ]
  },
  {
   "cell_type": "markdown",
   "id": "23657bef-e5d0-4b5b-984b-11e1f2b36877",
   "metadata": {},
   "source": [
    "### Directed components\n",
    "Directed networks have two kinds of connectivity. **Strongly connected** means that there exists a directed path between every pair of nodes, i.e., that from any node we can get to any other node while following edge directionality. Think of cars on a network of one-way streets: they can't drive against the flow of traffic."
   ]
  },
  {
   "cell_type": "code",
   "execution_count": null,
   "id": "45db552e-6fa1-4e53-9c5f-193a2f271ded",
   "metadata": {},
   "outputs": [],
   "source": [
    "D = nx.DiGraph() #lets  use the same small directed network\n",
    "D.add_edges_from([\n",
    "    (1,2),\n",
    "    (2,3),\n",
    "    (3,2), (3,4), (3,5),\n",
    "    (4,2), (4,5), (4,6),\n",
    "    (5,6),\n",
    "    (6,4),\n",
    "])\n",
    "nx.draw(D, with_labels=True)"
   ]
  },
  {
   "cell_type": "code",
   "execution_count": null,
   "id": "6f623ad9-7055-4efd-a596-8a3d7b7a2cc5",
   "metadata": {},
   "outputs": [],
   "source": [
    "nx.is_strongly_connected(D)"
   ]
  },
  {
   "cell_type": "markdown",
   "id": "a0b5d6d1-68b7-4cd4-bd1a-8009cbe579d2",
   "metadata": {},
   "source": [
    "**Weakly connected** means that there exist a path between every pair of nodes, regardless of direction. Think about pedestrians on a network of one-way streets: they walk on the sidewalks so they don't care about the direction of traffic."
   ]
  },
  {
   "cell_type": "code",
   "execution_count": null,
   "id": "b368069f-ac9d-4d94-8f83-4f2e52236499",
   "metadata": {},
   "outputs": [],
   "source": [
    "nx.is_weakly_connected(D)"
   ]
  },
  {
   "cell_type": "markdown",
   "id": "a0dca622-e7ea-4b23-be28-71eb5bb16dec",
   "metadata": {},
   "source": [
    "> Note 1: If a network is strongly connected, it is also weakly connected. The converse is not always true, as seen in this example.\n",
    "\n",
    "> Note 2: The `is_connected` function for undirected graphs will raise an error when given a directed graph."
   ]
  },
  {
   "cell_type": "markdown",
   "id": "240a3f31-25fb-4d19-bc66-dcea8dd18ece",
   "metadata": {},
   "source": [
    "In the directed case, instead of `nx.connected_components` we now have `nx.weakly_connected_components` and `nx.strongly_connected_components`:"
   ]
  },
  {
   "cell_type": "code",
   "execution_count": null,
   "id": "fa9fa25f-1886-41ba-853a-c661f1141b99",
   "metadata": {},
   "outputs": [],
   "source": [
    "list(nx.weakly_connected_components(D))"
   ]
  },
  {
   "cell_type": "code",
   "execution_count": null,
   "id": "cfb22250-75cc-459b-824e-c3706ecebb5a",
   "metadata": {},
   "outputs": [],
   "source": [
    "list(nx.strongly_connected_components(D))"
   ]
  },
  {
   "cell_type": "markdown",
   "id": "81a922fe-7c57-47d4-ad4e-87ac7420f2f2",
   "metadata": {},
   "source": [
    "<div class=\"alert alert-block alert-success\"><b>Up to you: </b>\n",
    "<h4> Exercise X</h4>\n",
    "Let's work with the network of US air travel routes. The nodes in this graph are airports, represented by their [IATA codes](https://en.wikipedia.org/wiki/List_of_airports_by_IATA_code:_A); \n",
    "    \n",
    "Two nodes are connected with an edge if there is a scheduled flight directly connecting these two airports. We'll assume this graph to be undirected since a flight in one direction usually means there is a return flight.\n",
    "Thus this graph has edges\n",
    "\n",
    "[('HOM', 'ANC'), ('BGM', 'PHL'), ('BGM', 'IAD'), ...]\n",
    "\n",
    "where ANC is Anchorage, IAD is Washington Dulles, etc.\n",
    "These nodes also have **attributes** associated with them, containing additional information about the airports, as their full name and location.\n",
    "    \n",
    "Create the network of USA flights and analyze it to answer these questions:\n",
    "    \n",
    "- 1) Is there a direct flight between Indianapolis (IND) and Fairbanks, Alaska (FAI)? A direct flight is one with no intermediate stops.\n",
    "- 2) If I wanted to fly from Indianapolis to Fairbanks, Alaska what would be an itinerary with the fewest number of flights?\n",
    "- 3) Is it possible to travel from any airport in the US to any other airport in the US, possibly using connecting flights? In other words, does there exist a path in the network between every possible pair of airports?\n",
    "</div>"
   ]
  },
  {
   "cell_type": "code",
   "execution_count": null,
   "id": "88c3af6d-7cac-41f7-ae60-15b3479782f3",
   "metadata": {},
   "outputs": [],
   "source": [
    "#write your code here. The network is already loaded\n",
    "G = nx.read_graphml('./data/openflights_usa.graphml.gz')"
   ]
  },
  {
   "cell_type": "code",
   "execution_count": null,
   "id": "40f9e9c3-332d-4d1e-89de-5e21bccb8e2c",
   "metadata": {},
   "outputs": [],
   "source": [
    "nodes=list(G.nodes(data=True))"
   ]
  },
  {
   "cell_type": "code",
   "execution_count": null,
   "id": "6b469e92-5170-4c53-8852-f8c56287fd86",
   "metadata": {},
   "outputs": [],
   "source": [
    "city1=\"IND\"\n",
    "citi2=\"FAI\""
   ]
  },
  {
   "cell_type": "code",
   "execution_count": null,
   "id": "e2bd6337-4ff2-4129-9fac-8276ab53bc53",
   "metadata": {},
   "outputs": [],
   "source": [
    "G.has_edge(\"IND\",\"FAI\")"
   ]
  },
  {
   "cell_type": "code",
   "execution_count": null,
   "id": "f9febdc2-7a2c-4771-a3f7-2a2da7a12440",
   "metadata": {},
   "outputs": [],
   "source": [
    "G.shor"
   ]
  },
  {
   "cell_type": "markdown",
   "id": "5c3d153e-0856-4c25-8cfb-ae4880a96e95",
   "metadata": {},
   "source": [
    "## Partitions and Modularity\n",
    "\n",
    "### SBM"
   ]
  },
  {
   "cell_type": "markdown",
   "id": "dc288a08-9103-4324-806b-c35572560f94",
   "metadata": {},
   "source": [
    "## Clustering"
   ]
  },
  {
   "cell_type": "markdown",
   "id": "7fa0da74-f945-4dc0-a352-26bdf3275939",
   "metadata": {},
   "source": [
    "## Small world"
   ]
  },
  {
   "cell_type": "markdown",
   "id": "9b2d9e67-be54-4346-b561-ac00538e5f90",
   "metadata": {},
   "source": [
    "# Network Structure III: Motifs (meso-scale)"
   ]
  },
  {
   "cell_type": "code",
   "execution_count": null,
   "id": "1f4655c5-41dc-4fdc-90c2-a450f63d9187",
   "metadata": {},
   "outputs": [],
   "source": []
  }
 ],
 "metadata": {
  "kernelspec": {
   "display_name": "net-course",
   "language": "python",
   "name": "net-course"
  },
  "language_info": {
   "codemirror_mode": {
    "name": "ipython",
    "version": 3
   },
   "file_extension": ".py",
   "mimetype": "text/x-python",
   "name": "python",
   "nbconvert_exporter": "python",
   "pygments_lexer": "ipython3",
   "version": "3.12.4"
  }
 },
 "nbformat": 4,
 "nbformat_minor": 5
}
