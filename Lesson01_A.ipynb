{
 "cells": [
  {
   "cell_type": "markdown",
   "id": "e219d04f-289b-463a-ac8c-6646a0a32954",
   "metadata": {
    "tags": []
   },
   "source": [
    "# Lesson 1 Notebook\n",
    "\n",
    "## Introduction to NetworkX\n",
    "\n",
    "You can use NetworkX to construct and draw graphs that are undirected or directed, with weighted or unweighted edges. An array of functions to analyze graphs is available. This notebook takes you through a few basic examples and exercises."
   ]
  },
  {
   "cell_type": "markdown",
   "id": "509d7468-9d46-4e25-8174-67af62f7fe91",
   "metadata": {
    "toc-hr-collapsed": true
   },
   "source": [
    "## The `import` statement\n",
    "\n",
    "Recall that `import` statements go at the top of your code, telling Python to load an external module. In this case we want to load NetworkX, but give it a short alias `nx` since we'll have to type it repeatedly, hence the `as` statement.\n",
    "\n",
    "Lines starting with the `%` character are not Python code, they are \"magic\" directives for Jupyter notebook. The `%matplotlib inline` magic tells Jupyter Notebook to draw graphics inline i.e. in the notebook. This magic should be used right after the import statement."
   ]
  },
  {
   "cell_type": "code",
   "execution_count": null,
   "id": "a032ebcc-acde-4af9-b601-9f2a5b403c67",
   "metadata": {},
   "outputs": [],
   "source": [
    "import pandas as pd #module to work with dataframes\n",
    "import networkx as nx #module to work with networks\n",
    "import numpy as np\n",
    "import scipy as scpy\n",
    "import random as rnd\n",
    "from Functions import *\n",
    "import matplotlib.pyplot as plt\n",
    "#%matplotlib inline"
   ]
  },
  {
   "cell_type": "markdown",
   "id": "0c8ec810-8386-4940-a1d7-86e735f36296",
   "metadata": {
    "tags": []
   },
   "source": [
    "## Creating and drawing simple graphs\n",
    "Let's start by seeing an exaple of how can we generate from scartch an undirected graph using the `Graph` function"
   ]
  },
  {
   "cell_type": "code",
   "execution_count": null,
   "id": "bb904a86-c3c2-40b2-8c60-23962d4c47f7",
   "metadata": {},
   "outputs": [],
   "source": [
    "# a \"plain\" graph is undirected, create the empty graph\n",
    "G = nx.Graph()\n",
    "\n",
    "# you can add nodes to the graph. Give each node a 'name', which is a letter in this case.\n",
    "G.add_node('a')\n",
    "\n",
    "# the add_nodes_from method allows adding nodes from a sequence, in this case a list, instead of doing one by one\n",
    "nodes_to_add = ['b', 'c', 'd']\n",
    "G.add_nodes_from(nodes_to_add)\n",
    "\n",
    "# let's see how it is going: draw the graph\n",
    "nx.draw(G, with_labels=True)"
   ]
  },
  {
   "cell_type": "code",
   "execution_count": null,
   "id": "7e047836-0ce5-4042-bc33-a1c2273c91e8",
   "metadata": {},
   "outputs": [],
   "source": [
    "# We need to stablish relationships among these agents. Add and edge from 'a' to 'b'\n",
    "# since this graph is undirected, the order doesn't matter here\n",
    "G.add_edge('a', 'b')\n",
    "\n",
    "# just like add_nodes_from, we can add edges from a sequence, not one by one\n",
    "# edges should be specified as 2-tuples, that is using these \"(\" \")\" braquets\n",
    "edges_to_add = [('a', 'c'), ('b', 'c'), ('c', 'd')]\n",
    "G.add_edges_from(edges_to_add)\n",
    "\n",
    "# draw the graph\n",
    "nx.draw(G, with_labels=True)"
   ]
  },
  {
   "cell_type": "markdown",
   "id": "444a96f3-c66d-4bb1-b9d4-f28b8caa9bbd",
   "metadata": {},
   "source": [
    "There are many optional arguments to the draw function to customize the appearance."
   ]
  },
  {
   "cell_type": "code",
   "execution_count": null,
   "id": "567e41b3-a716-4abd-979f-c786ce06cb30",
   "metadata": {},
   "outputs": [],
   "source": [
    "nx.draw(G,\n",
    "        with_labels=True,\n",
    "        node_color='green',\n",
    "        node_size=1600,\n",
    "        font_color='white',\n",
    "        font_size=16,\n",
    "        )"
   ]
  },
  {
   "cell_type": "markdown",
   "id": "7bb1bed5-44c5-4eb1-b7c4-c5ad589212ff",
   "metadata": {
    "tags": []
   },
   "source": [
    "<div class=\"alert alert-block alert-success\"><b>Up to you: </b>\n",
    "<h3> Exercise 1</h3>\n",
    "Create the undirected graph corresponding to this simple network\n",
    "\n",
    "![title](./images/figure1.png)\n",
    "</div>"
   ]
  },
  {
   "cell_type": "code",
   "execution_count": null,
   "id": "ebbe3ec0-6230-43bb-ab1a-83c81711ae5d",
   "metadata": {},
   "outputs": [],
   "source": [
    "# write your code here and run it ################"
   ]
  },
  {
   "cell_type": "code",
   "execution_count": null,
   "id": "d65af26a-4f79-4fcf-9767-2e82fdeb08a2",
   "metadata": {},
   "outputs": [],
   "source": [
    "# SOLUTION: uncomment line below to load solution\n",
    "# %load ./snippets/ex1.py"
   ]
  },
  {
   "cell_type": "markdown",
   "id": "f4756174-f3c5-4c8e-8faf-fa65ad081bef",
   "metadata": {},
   "source": [
    "## Creating non-simple Graphs - Edge properties\n",
    "As we have seen, we can add different attributes to edges and nodes to enrich the information contained in the network. Usually much information can be incuding regarding the \"interaction\" between a couple of nodes. The most frequent examples are direction and weigth.\n",
    "\n",
    "### Directed graphs\n",
    "Unless otherwise specified, we assume graph edges are undirected -- they are symmetric and go both ways. But some relationships, e.g. predator-prey relationships, are asymmetric and best represented as directed graphs. NetworkX provides the `DiGraph` class for directed graphs. Let's create a **Directed graph** (take notice they are a different class from the undirected basic `Graph` class)"
   ]
  },
  {
   "cell_type": "code",
   "execution_count": null,
   "id": "d5d110f0-786d-4989-a6bb-ea8453c6333d",
   "metadata": {},
   "outputs": [],
   "source": [
    "#creating a directed empty graph\n",
    "D = nx.DiGraph()\n",
    "\n",
    "D.add_edges_from([(1,2),(2,3),(3,2),(3,4),(3,5),(4,5),(4,6),(5,6),(6,4),(4,2)]) #add the edges (this automatically creates the nodes)\n",
    "\n",
    "nx.draw(D, with_labels=True)"
   ]
  },
  {
   "cell_type": "markdown",
   "id": "f4ff6d7c-0439-45af-b54c-14a9ab91c036",
   "metadata": {},
   "source": [
    "Note that in the case of directed graphs the figure automatically displays the arrows indicating the direction of the edge. your turn!"
   ]
  },
  {
   "cell_type": "markdown",
   "id": "76e82d8f-0025-4e2f-b047-3e256125b99a",
   "metadata": {},
   "source": [
    "<div class=\"alert alert-block alert-success\"><b>Up to you: </b>\n",
    "<h3> Exercise 2</h3>\n",
    "Create the directed graph corresponding to this simple network\n",
    "\n",
    "![title](./images/figure2.jpg)\n",
    "</div>"
   ]
  },
  {
   "cell_type": "code",
   "execution_count": null,
   "id": "5e6717fd-4b63-4bb9-9401-e99f95a7f9bd",
   "metadata": {},
   "outputs": [],
   "source": [
    "# write your code here and run it "
   ]
  },
  {
   "cell_type": "code",
   "execution_count": null,
   "id": "ece05a96-ba79-4e1a-a945-d4b44bcdfa78",
   "metadata": {},
   "outputs": [],
   "source": [
    "# SOLUTION: uncomment line below to load solution\n",
    "#%load ./snippets/ex2.py"
   ]
  },
  {
   "cell_type": "markdown",
   "id": "9e9c00d2-3e2e-432c-b9c7-4430a0a83121",
   "metadata": {},
   "source": [
    "### Weighted graphs\n",
    "We can add further information to the edges between nodes. Including the weigth of the interaction is very frequent. We can create a weighted network by adding the `ẁeigth` attribute to the edges in the network "
   ]
  },
  {
   "cell_type": "code",
   "execution_count": null,
   "id": "6eaef6f4-b1ce-4d2b-a871-c0ddcaf14080",
   "metadata": {},
   "outputs": [],
   "source": [
    "WG = nx.Graph()\n",
    "\n",
    "weighted_edges=[('A', 'B',3), ('A', 'C',2),('B', 'C',1),('B', 'E',3), ('C', 'D',8), ('E', 'F',4),('D', 'F',2),('B', 'D',4),('E', 'D',4)] #a lis ofweighted edges, note they have three values, node from, node to, and weight\n",
    "WG.add_weighted_edges_from(weighted_edges) #add the list of edges to the network\n",
    "\n",
    "#now let's plot it\n",
    "pos=nx.spring_layout(WG) # we need to get the position of the nodes to after add the node labels\n",
    "nx.draw_networkx(WG,pos)\n",
    "w = nx.get_edge_attributes(WG,'weight') #get the edge attribute ẁeigth'\n",
    "nx.draw_networkx_edges(G = WG, pos = pos, edge_color='k', width=list(w.values())) #representing the weigth tih the thickness of the link\n",
    "#nx.draw_networkx_edge_labels(G,pos,edge_labels=labels) #if you wat to see the weigth"
   ]
  },
  {
   "cell_type": "markdown",
   "id": "bb2bf4a3-bc3c-4215-a21e-e5e691d391ee",
   "metadata": {},
   "source": [
    "<div class=\"alert alert-block alert-success\"><b>Up to you: </b>\n",
    "<h3> Exercise 2.B</h3>\n",
    "One of the most frequent uses of weighted networks is obtaining the weighted one-mode projections of bipartite networks.\n",
    "    \n",
    "What would be one mode network of people from this bipartite network of people that have met in different partys? \n",
    "    \n",
    "What do these weights represent?\n",
    "    \n",
    "Write the \"person\" projection of this bipartite network and represent it.\n",
    "    \n",
    "![title](./images/figure2b.png)\n",
    "</div>"
   ]
  },
  {
   "cell_type": "code",
   "execution_count": null,
   "id": "59cf3942-4ef5-40b8-ae4c-223d4bfcd789",
   "metadata": {},
   "outputs": [],
   "source": [
    "# your code here"
   ]
  },
  {
   "cell_type": "code",
   "execution_count": null,
   "id": "0a295fe6-1af1-4a86-bf9a-b9af23c894a7",
   "metadata": {},
   "outputs": [],
   "source": [
    "# SOLUTION: uncomment line below to load solution\n",
    "# %load ./snippets/ex2b.py\n"
   ]
  },
  {
   "cell_type": "markdown",
   "id": "1a7a758a-1002-4d2f-ad15-328905a9146e",
   "metadata": {},
   "source": [
    "### Custom attributes & MultiGraphs\n",
    "In some cases we need to create our own attributes. For example imagine you have two social media netorks, the \"blue app\" and the \"red app\". you can keep the information of the social network that is connecting two given people by creating the atribute \"color\" (or any other of your choosing), like this"
   ]
  },
  {
   "cell_type": "code",
   "execution_count": null,
   "id": "f7eafdb6-14ce-42d2-b3b4-1307369e8380",
   "metadata": {},
   "outputs": [],
   "source": [
    "G = nx.Graph()\n",
    "G.add_edge(1,2,app='red')\n",
    "G.add_edge(1,5,app='red')\n",
    "G.add_edge(2,5,app='red')\n",
    "G.add_edge(1,3,app='blue')\n",
    "G.add_edge(4,5,app=\"blue\")\n",
    "G.add_edge(3,5,app=\"blue\")\n",
    "print(G.edges(data=True)) #lets see those edges\n",
    "\n",
    "#and now lets see the graph\n",
    "pos = nx.circular_layout(G)\n",
    "edges = G.edges()\n",
    "colors = [G[u][v]['app'] for u,v in edges]\n",
    "nx.draw(G, pos, edge_color=colors, with_labels=True)"
   ]
  },
  {
   "cell_type": "code",
   "execution_count": null,
   "id": "b6fa34c1-d7c9-4e88-bf6e-90f5d143c10a",
   "metadata": {},
   "outputs": [],
   "source": [
    "G = nx.Graph()\n",
    "blue_edges_to_add = [(1, 3), (4, 5), (3, 5),(1,2)]\n",
    "red_edges_to_add = [(1, 2), (1, 5), (2, 5)]\n",
    "G.add_edges_from(blue_edges_to_add, app=\"blue\")\n",
    "G.add_edges_from(red_edges_to_add, app=\"red\")\n",
    "\n",
    "#and now lets see the graph\n",
    "pos = nx.circular_layout(G)\n",
    "edges = G.edges()\n",
    "colors = [G[u][v]['app'] for u,v in edges]\n",
    "nx.draw(G, pos, edge_color=colors, with_labels=True)"
   ]
  },
  {
   "cell_type": "markdown",
   "id": "fc9d097e-320a-418a-b3d1-b10905b1f4f2",
   "metadata": {},
   "source": [
    "However, this only works if each pair is only connected by ONE type of app. If you want to have more than one class of edges between a pair of nodes, It is easier to include this extra information in the networkX format using `MultiGraph`. \n",
    "This allows you to have multiple types of edges between the nodes (parallel edges), one of each type."
   ]
  },
  {
   "cell_type": "code",
   "execution_count": null,
   "id": "4c74088d-458e-4c55-a113-c98fd2bec6e4",
   "metadata": {},
   "outputs": [],
   "source": [
    "MG = nx.MultiGraph() #create empty multigraph\n",
    "blue_edges_to_add = [(1, 3), (4, 5), (3, 5),(1,2)]\n",
    "red_edges_to_add = [(1, 2), (1, 5), (2, 5)]\n",
    "MG.add_edges_from(blue_edges_to_add, app=\"blue\")\n",
    "MG.add_edges_from(red_edges_to_add, app=\"red\")\n",
    "\n",
    "print(MG.edges(data=True)) #see the edges with the attributes\n",
    "pos = nx.circular_layout(MG)\n",
    "edges = MG.edges()\n",
    "\n",
    "colors = []\n",
    "for (u,v,attrib_dict) in list(MG.edges.data()): #they are a little more difficult to acess than the normal graphs, as you see\n",
    "    colors.append(attrib_dict['app'])\n",
    "\n",
    "nx.draw(MG, pos, edge_color=colors,connectionstyle='arc3, rad = 0.1', with_labels=True)\n"
   ]
  },
  {
   "cell_type": "markdown",
   "id": "259bedc7-38d8-49c8-9bd0-527f17f69cca",
   "metadata": {},
   "source": [
    "<div class=\"alert alert-block alert-success\"><b>Up to you:</b>\n",
    "<h3> Exercise 3</h3>\n",
    "    \n",
    "Create a Graph that contains all the information of these movements of people between 3 cities. The information below shows the number of people that travelled from the starting city, to the destination city using a given transportation method (either train, plane, or car). \n",
    "    \n",
    "**Hint:** you can add weighted edges to a MultiGraph or MultiDiGraph with the method: MG.add_weighted_edges_from([list of weighted edges]), where the list of weighted edges has this form [(start node, end node, weigth), .... ] \n",
    "\n",
    "<img src=\"./images/figure3.png\" width=\"500\"/>\n",
    "    \n",
    "    \n",
    "</div>"
   ]
  },
  {
   "cell_type": "code",
   "execution_count": null,
   "id": "a79f7a85-a4ef-4352-b4e5-402771dca186",
   "metadata": {},
   "outputs": [],
   "source": [
    "# write your code here and run it \n",
    "MDG = nx.MultiDiGraph()"
   ]
  },
  {
   "cell_type": "code",
   "execution_count": null,
   "id": "70deec29-bfee-42d1-987a-cac32e747dc0",
   "metadata": {},
   "outputs": [],
   "source": [
    "# SOLUTION: uncomment line below to load solution\n",
    "# %load ./snippets/ex3.py\n"
   ]
  },
  {
   "cell_type": "code",
   "execution_count": null,
   "id": "63045801-d0c0-4f22-8511-9c35002eda6a",
   "metadata": {},
   "outputs": [],
   "source": [
    "#visualize it\n",
    "draw_colored_multigraph(MDG)"
   ]
  },
  {
   "cell_type": "markdown",
   "id": "6eb9977f-38d9-4c0d-a839-a9ed3ebc04c2",
   "metadata": {
    "tags": []
   },
   "source": [
    "These are what are know as multi-layered networks, where each layer usually represents one different type of interaction among the agents. In the particular case where the agents are the same in all layers of interactions, they are called multiplex networks. \n",
    "To work with them I recommend using this python library: Pymnet \n",
    "https://mnets.github.io/pymnet/index.html\n",
    "\n",
    "You have a comparative of softwares in the supp. material of the course.\n"
   ]
  },
  {
   "cell_type": "markdown",
   "id": "ce34fdde-dda1-4527-9041-16fc4eb9ad9b",
   "metadata": {
    "tags": []
   },
   "source": [
    "## Creating non-simple Graphs - Node properties\n",
    "In some cases we have different clases of nodes, for examples actors and films, writers and books, plants and pollinators. In this case the interactions only take place between nodes of different sets. These types of networks are called **bipartite nnetworks** (because we have two different types of nodes), or multipartite networks if we have more than two different sets. Now, the attribute belongs to the **node**, not to the link. \n",
    "\n",
    "### Bipartite graphs\n",
    "This type of networks are very used, and networkx has its own section to work with them, the `bipartite` algorithm section. NetworkX does **not** have a custom bipartite graph class but the Graph() or DiGraph() classes can be used to represent bipartite graphs. However, you have to keep track of which set each node belongs to, and make sure that there is no edge between nodes of the same set. The convention used in NetworkX is to use a node attribute named `bipartite` with values 0 or 1 to identify the sets each node belongs to. This convention is not enforced in the source code of bipartite functions, it’s only a recommendation.. Let's see how we can create a bipartite network."
   ]
  },
  {
   "cell_type": "code",
   "execution_count": null,
   "id": "0db29942-66c7-47e0-ab39-7f1955575ba0",
   "metadata": {},
   "outputs": [],
   "source": [
    "from networkx.algorithms import bipartite #we load the bipartite algorithms to facilitate writing the code\n",
    "\n",
    "B = nx.Graph()\n",
    "\n",
    "# Add nodes with the node attribute \"bipartite\" (you can choose any name for the attribute, and its values)\n",
    "B.add_nodes_from([1, 2, 3, 4], bipartite=0)\n",
    "B.add_nodes_from([\"a\", \"b\", \"c\"], bipartite=1)\n",
    "\n",
    "# Add edges only between nodes of opposite node sets\n",
    "B.add_edges_from([(1, \"a\"), (1, \"b\"), (2, \"b\"), (2, \"c\"), (3, \"c\"), (4, \"a\")])"
   ]
  },
  {
   "cell_type": "markdown",
   "id": "e3cc3d07-4d70-4b07-9a07-7b0b548b8282",
   "metadata": {},
   "source": [
    "> BEWARE: Many algorithms of the bipartite module of NetworkX require, as an argument, a container with all the nodes that belong to one set, in addition to the bipartite graph B. \n",
    "> The functions in the bipartite package do not check that the node set is actually correct nor that the input graph is actually bipartite. \n",
    "\n",
    "#### Obtaining the bipartite sets\n",
    "If B is connected, you can find the two node sets using a two-coloring algorithm. However, if the input graph is not connected, there are more than one possible colorations, and raise an `AmbiguousSolution Exception` if the input graph for bipartite.sets is disconnected. In these cases, Using the bipartite node attribute, you can easily get the two node sets"
   ]
  },
  {
   "cell_type": "code",
   "execution_count": null,
   "id": "7bd360c7-cf80-4484-a616-14ecfa888683",
   "metadata": {},
   "outputs": [],
   "source": [
    "#if B is connected, you can safely use the coloring algorithm to return the species sets\n",
    "nx.is_connected(B)\n",
    "bottom_nodes, top_nodes = bipartite.sets(B)\n",
    "print(bottom_nodes)\n",
    "print(top_nodes)"
   ]
  },
  {
   "cell_type": "code",
   "execution_count": null,
   "id": "b714020f-f6cc-459a-aadb-ee304956826d",
   "metadata": {},
   "outputs": [],
   "source": [
    "#if B is not connected retrieve the node sets with the bipartite attribute:\n",
    "top_nodes = {n for n, d in B.nodes(data=True) if d[\"bipartite\"] == 0}\n",
    "bottom_nodes = set(B) - top_nodes\n",
    "print(top_nodes)\n",
    "print(bottom_nodes)"
   ]
  },
  {
   "cell_type": "markdown",
   "id": "93d37233-bac1-4f73-a940-1b605ec5df76",
   "metadata": {
    "toc-hr-collapsed": true
   },
   "source": [
    "<div class=\"alert alert-block alert-success\"><b>Up to you:</b>\n",
    "<h4> Exercise 4</h4>\n",
    "    \n",
    "Obtain the bipartite sets of the Bipartite network below (Bnet), by any of the methods explained above\n",
    "    \n",
    "</div>"
   ]
  },
  {
   "cell_type": "code",
   "execution_count": null,
   "id": "1f7a09be-4894-4147-821e-fde5afcf5922",
   "metadata": {},
   "outputs": [],
   "source": [
    "#Genate a Bipartie network\n",
    "Bnet=bipartite.random_graph(4, 5, 0.4, seed=None, directed=False)\n",
    "# write your code here and run it "
   ]
  },
  {
   "cell_type": "code",
   "execution_count": null,
   "id": "d300da5d-3b29-4023-91a4-dd33fffc8dbd",
   "metadata": {},
   "outputs": [],
   "source": [
    "#SOLUTION: uncomment line below to load solution\n",
    "#%load ./snippets/ex4.py\n"
   ]
  },
  {
   "cell_type": "markdown",
   "id": "86918ee4-552c-4cf9-9582-e5c8176eecf8",
   "metadata": {},
   "source": [
    "#### Visualizing bipartite networks\n",
    "Bipartite networks are specially easy to identify when plotted using this layout"
   ]
  },
  {
   "cell_type": "code",
   "execution_count": null,
   "id": "d63debb9-69ac-4149-a48f-afe4faf626c7",
   "metadata": {},
   "outputs": [],
   "source": [
    "pos = nx.bipartite_layout(Bnet, top_nodes) #assing position to the nodes acoording to their bipartite property\n",
    "color_dict={0:\"red\",1:\"blue\"} #dictionary of node color, each bipartite set is asociated to a different color\n",
    "colors = [color_dict[node[1]['bipartite']] for node in Bnet.nodes(data=True)]\n",
    "nx.draw(Bnet, pos, node_color=colors, with_labels=True,font_color='white')"
   ]
  },
  {
   "cell_type": "markdown",
   "id": "da326ccb-d66d-4706-b74d-e60e6468246d",
   "metadata": {},
   "source": [
    "#### One mode projection of bipartite networks\n",
    "in some cases one is intersted on how the nodes of one of the sets is relatd to other nodes in the same set, trough their connections (for example what scientists have collaborated in papers). We can octain this with the one mode projection ofthe bipartite network with the `projected_graph` function. If we want to know how many shared pertners connect two nodes in a set (in how many papers two scientists have collaborated, for example) we can use the weighted version."
   ]
  },
  {
   "cell_type": "code",
   "execution_count": null,
   "id": "f223dd28-fd18-4c9c-b4d3-b51770fbb182",
   "metadata": {},
   "outputs": [],
   "source": [
    "#unweighted version\n",
    "top_graph = bipartite.projected_graph(Bnet, top_nodes)\n",
    "bottom_nodes=bipartite.projected_graph(Bnet, bottom_nodes)\n",
    "\n",
    "#or the weighted version\n",
    "top_graph = bipartite.weighted_projected_graph(Bnet, top_nodes)\n",
    "bottom_nodes=bipartite.weighted_projected_graph(Bnet, bottom_nodes)"
   ]
  },
  {
   "cell_type": "code",
   "execution_count": null,
   "id": "8cb73fd0-ede9-40af-b8f5-0f860f2cd180",
   "metadata": {},
   "outputs": [],
   "source": [
    "#now let's plot the weighted version\n",
    "pos=nx.spring_layout(top_graph) # we need to get the position of the nodes to after add the node labels\n",
    "nx.draw_networkx(top_graph,pos)\n",
    "w = nx.get_edge_attributes(top_graph,'weight') #get the edge attribute ẁeigth'\n",
    "nx.draw_networkx_edges(G = top_graph, pos = pos, edge_color='k', width=list(w.values())) #representing the weigth tih the thickness of the link\n",
    "#nx.draw_networkx_edge_labels(G,pos,edge_labels=labels) #if you wat to see the weigth"
   ]
  },
  {
   "cell_type": "markdown",
   "id": "82b241b9-3659-4808-9204-a4578c25a2f5",
   "metadata": {
    "tags": []
   },
   "source": [
    "<div class=\"alert alert-block alert-success\"><b>Up to you:</b>\n",
    "<h4> Exercise 4b</h4>\n",
    "    \n",
    "Obtain the weighted people proyection of the person \\& party bipartite netowkr from before and represent it. The bipartite networks is already provided.\n",
    "    \n",
    "    \n",
    "</div>"
   ]
  },
  {
   "cell_type": "code",
   "execution_count": null,
   "id": "af075a98-de81-4468-9ffe-bb1973f53552",
   "metadata": {
    "tags": []
   },
   "outputs": [],
   "source": [
    "#Generating the bipartite network\n",
    "people = [\"Paul\", \"John\", \"George\", \"Richard\"]\n",
    "parties = [\"new year\", \"G. Birthday\", \"summer solstice\"]\n",
    "\n",
    "# Create an empty bipartite graph\n",
    "Bparty = nx.Graph()\n",
    "# Add the nodes with the bipartite attribute (set 0 for people, set 1 for parties)\n",
    "Bparty.add_nodes_from(people, bipartite=0)  # People are in set 0\n",
    "Bparty.add_nodes_from(parties, bipartite=1)  # Parties are in set 1\n",
    "# Randomly create edges between people and parties\n",
    "\n",
    "Bparty.add_edge(\"George\", \"summer solstice\")\n",
    "Bparty.add_edge(\"George\", \"new year\")\n",
    "Bparty.add_edge(\"Paul\", \"new year\")\n",
    "Bparty.add_edge(\"John\", \"new year\")\n",
    "Bparty.add_edge(\"John\", \"summer solstice\")\n",
    "Bparty.add_edge(\"John\", \"G. Birthday\")\n",
    "Bparty.add_edge(\"Richard\", \"G. Birthday\")\n",
    "Bparty.add_edge(\"Richard\", \"summer solstice\")\n",
    "       \n",
    "#continue your code here"
   ]
  },
  {
   "cell_type": "code",
   "execution_count": null,
   "id": "4a69fa2d-e6c0-4f7a-8792-1cbb508d75e6",
   "metadata": {
    "tags": []
   },
   "outputs": [],
   "source": [
    "#SOLUTION: uncomment line below to load solution\n",
    "# %load ./snippets/ex4b.py"
   ]
  },
  {
   "cell_type": "markdown",
   "id": "1494192b-c607-45f1-8061-3d0262282765",
   "metadata": {
    "tags": []
   },
   "source": [
    "# Working with network files & formats\n",
    "\n",
    "### Save to file\n",
    "Once you are done creating your network, probably you will want to save it. The most useful format for networks with attributes is GML, as it allows to keep these attributes, but is readeable. \n",
    "Let's see how it works, and how the information is stored."
   ]
  },
  {
   "cell_type": "code",
   "execution_count": null,
   "id": "ba7ca9ca-e63c-4d6c-9010-89b14421b7e6",
   "metadata": {
    "tags": []
   },
   "outputs": [],
   "source": [
    "nx.write_gml(MDG, './output/MDG.gml') # a graph with edge attributes\n",
    "example_file = open('./output/MDG.gml', 'r') #take a look at what is written\n",
    "print(example_file.read())"
   ]
  },
  {
   "cell_type": "markdown",
   "id": "31675663-0fab-4cc4-84b6-c7a038807023",
   "metadata": {
    "tags": []
   },
   "source": [
    "Now let's try one with node attributes"
   ]
  },
  {
   "cell_type": "code",
   "execution_count": null,
   "id": "ef787f15-eb3d-4512-8521-8773cfd6e776",
   "metadata": {
    "tags": []
   },
   "outputs": [],
   "source": [
    "nx.write_gml(Bparty, './output/B.gml') # a graph with node attributes\n",
    "example_file = open('./output/B.gml', 'r')#take a look at what is written\n",
    "print(example_file.read())"
   ]
  },
  {
   "cell_type": "markdown",
   "id": "5604bdbb-0965-4251-80b4-7de6a01666c9",
   "metadata": {
    "tags": []
   },
   "source": [
    "Other formats supported by NetworkX can be found on https://networkx.org/documentation/stable/reference/readwrite/index.html"
   ]
  },
  {
   "cell_type": "markdown",
   "id": "71c7b27c-22e8-4995-b727-6e5a104964c1",
   "metadata": {
    "tags": []
   },
   "source": [
    "### Networks as Dataframes \n",
    "Apart from saving them to graph files formats, you may want to transform the network into other formats, such as dataframes containing the **list of interactions** using the `to_pandas_edgelist` function, or the **matrix of interactions** using the `to_pandas_adjacency` function. \n",
    "\n",
    "In **one mode networks**, a dataframe containing the list of interactions looks like this:"
   ]
  },
  {
   "cell_type": "code",
   "execution_count": null,
   "id": "af9a8d8e-ab02-4182-b349-dcc2c9bbbd88",
   "metadata": {
    "tags": []
   },
   "outputs": [],
   "source": [
    "#to obtain a dataframe with the interaction list \n",
    "WG=people_projection\n",
    "Idf = nx.to_pandas_edgelist(WG)\n",
    "Idf\n",
    "\n",
    "#NOTE 1: you can even export only a subset of the network by choosin the nodes to export like this  nx.to_pandas_edgelist(WG,nodelist=[\"A\", \"C\"])\n",
    "#NOTE 2: The edge is only included ONCE, as by default all graphs are UNDIRECTED!!! so A-B is the same as B-A"
   ]
  },
  {
   "cell_type": "markdown",
   "id": "706595d5-699e-406c-9947-cabef2ecac34",
   "metadata": {
    "tags": []
   },
   "source": [
    "While the **adjacency matrix** (the matrix containing the interactions) looks like this:"
   ]
  },
  {
   "cell_type": "code",
   "execution_count": null,
   "id": "50a3b450-9780-48b3-ae2a-977034dcaabb",
   "metadata": {
    "tags": []
   },
   "outputs": [],
   "source": [
    "#to obtain a dataframe with the matrix of interactions. In this case the matrix is NxN as all nodes can interact with each other.\n",
    "Amat = nx.to_pandas_adjacency(WG)\n",
    "Amat\n",
    "#NOTE: you can even export only a subset of the network by choosin the nodes to export like this  nx.to_pandas_edgelist(WG,nodelist=[\"A\", \"C\"])"
   ]
  },
  {
   "cell_type": "markdown",
   "id": "23501c42-58e2-425f-a3bf-1c0149befc1c",
   "metadata": {
    "tags": []
   },
   "source": [
    "If you have networks with edge attributes, they can easily be translated to the **interaction list** format, but NOT for the **adjacency matrix** as it can contain only one number by interaction pair. By default this number is the **SUM** of al edges linking two nodes"
   ]
  },
  {
   "cell_type": "code",
   "execution_count": null,
   "id": "c65bb29d-f72f-4b03-a379-e1dfca81ffff",
   "metadata": {
    "tags": []
   },
   "outputs": [],
   "source": [
    "#for more **edge** information rich networks, with the list of interactions you retrieve the information in a square format: each edge attribute is a column \n",
    "IdfM = nx.to_pandas_edgelist(MDG) \n",
    "print(IdfM.head(5)) #visualize 5 first edges\n",
    "\n",
    "#BEWARE, for networks containing multiple edge attributes the matrix representation only can contain one number\n",
    "Amat = nx.to_pandas_adjacency(MDG) #by default is the sum of all the layers.\n",
    "Amat"
   ]
  },
  {
   "cell_type": "markdown",
   "id": "76d04e34-c8d8-4c6e-b563-674f57d8c4a0",
   "metadata": {
    "tags": []
   },
   "source": [
    "For **bipartite networks** or networks with more rich node attributes, we can also use the list of interactions or the matrix representation. \n",
    "The **list of interactions** looks similar (here as we don't have edhe attributes it is enough with having just the identity of the linked nodes):"
   ]
  },
  {
   "cell_type": "code",
   "execution_count": null,
   "id": "eb446d2c-1a59-4063-b14a-9e05002084b0",
   "metadata": {
    "tags": []
   },
   "outputs": [],
   "source": [
    "Bdf=nx.to_pandas_edgelist(Bnet,source='plant',target='pollinator') #source and target are the names for the columns that will be created in the dataframe, they are NOT those stored in the network\n",
    "Bdf"
   ]
  },
  {
   "cell_type": "markdown",
   "id": "bc3f99eb-0536-4f0d-9da0-fc0662b4fd83",
   "metadata": {
    "tags": []
   },
   "source": [
    "However the matrix representation is different. We can obtain the **Adjacency matrix** with the basic `to_pandas_adjacency`, with dimension  $(N_A + N_P) x (N_A + N_P)$"
   ]
  },
  {
   "cell_type": "code",
   "execution_count": null,
   "id": "ef389f3f-40a1-4bf6-8a2e-e0b77ed90c9a",
   "metadata": {
    "tags": []
   },
   "outputs": [],
   "source": [
    "Amat = nx.to_pandas_adjacency(Bnet)\n",
    "Amat"
   ]
  },
  {
   "cell_type": "markdown",
   "id": "e141de5d-2d89-4d35-a554-0d1dd6775211",
   "metadata": {
    "tags": []
   },
   "source": [
    "In order to retrieve the **Incidence matrix** ($N_A x N_P$, or viceversa) you can sub-select just the rows and columns needed"
   ]
  },
  {
   "cell_type": "code",
   "execution_count": null,
   "id": "8c3f7cca-5c3e-4422-8c5f-f57d54d8cf60",
   "metadata": {
    "tags": []
   },
   "outputs": [],
   "source": [
    "Amat = nx.to_pandas_adjacency(Bnet) #get full adjacency matrix\n",
    "Imat = Amat.loc[list(top_nodes), list(bottom_nodes)] #subselect the A vs P interactions\n",
    "Imat"
   ]
  },
  {
   "cell_type": "markdown",
   "id": "4f22f63a-8063-4083-af35-18b11fe18dfe",
   "metadata": {
    "tags": []
   },
   "source": [
    "It is possible (and most time very usefull) to go to and from these two wiews. To go **from the list of interactions** (also called adjacency list) format **to the matrix of interactions** (also called adjacency/Incidence matrix) format, one needs to **pivot** the dataframe:"
   ]
  },
  {
   "cell_type": "code",
   "execution_count": null,
   "id": "ce16069c-73c7-44f0-92fa-27b0c9500c20",
   "metadata": {
    "tags": []
   },
   "outputs": [],
   "source": [
    "Idf"
   ]
  },
  {
   "cell_type": "code",
   "execution_count": null,
   "id": "09281065-413e-4748-8dfc-a99f76737a09",
   "metadata": {
    "tags": []
   },
   "outputs": [],
   "source": [
    "#Idf.pivot(index=\"source\",columns=\"target\", values=\"weight\").fillna(0)\n",
    "pivot_df = Idf.pivot_table(index='source', columns='target', values='weight', aggfunc='sum', fill_value=0)\n",
    "pivot_df"
   ]
  },
  {
   "cell_type": "markdown",
   "id": "0ce4fb7e-4820-4aba-8d7e-8c21f20f83e9",
   "metadata": {
    "tags": []
   },
   "source": [
    "> However, BEWARE!, by default in this case you would obtain the adjacency matrix of a **directed** network, see how not all nodes appear in rows and columns!."
   ]
  },
  {
   "cell_type": "code",
   "execution_count": null,
   "id": "5e6c9662-9d46-46d5-bc9b-a415ca92d93e",
   "metadata": {
    "tags": []
   },
   "outputs": [],
   "source": [
    "#To solve this issue when working with dataframes\n",
    "# Step 1: Duplicate edges to include both directions\n",
    "reversed_edges = Idf[['target', 'source', 'weight']].rename(columns={'target': 'source', 'source': 'target'})\n",
    "complete_edge_list = pd.concat([Idf, reversed_edges])\n",
    "print(complete_edge_list)\n",
    "# Step 2: Pivot to create an adjacency matrix\n",
    "adjacency_matrix = complete_edge_list.pivot_table(index='source', columns='target', values='weight', aggfunc='sum', fill_value=0)\n",
    "\n",
    "# Step 3: (Optional) Fill missing values in case there are self-loops or missing nodes\n",
    "adjacency_matrix = adjacency_matrix.reindex(index=adjacency_matrix.columns, columns=adjacency_matrix.index, fill_value=0)\n",
    "adjacency_matrix"
   ]
  },
  {
   "cell_type": "markdown",
   "id": "14f021b1-cd5f-4c4d-b793-68437a467fc8",
   "metadata": {
    "tags": []
   },
   "source": [
    "With **bipartite networks** it is similar, but in this case we obtain directly the **Incidence matrix**:"
   ]
  },
  {
   "cell_type": "code",
   "execution_count": null,
   "id": "383f9e48-a0d1-488b-88e3-0e0b725cce14",
   "metadata": {
    "tags": []
   },
   "outputs": [],
   "source": [
    "Bdf[\"value\"]=1\n",
    "Imat=Bdf.pivot(index=\"plant\", columns=\"pollinator\", values=\"value\").fillna(0)\n",
    "Imat"
   ]
  },
  {
   "cell_type": "markdown",
   "id": "16775e83-50be-403c-9ae8-1ed8710cdaf4",
   "metadata": {
    "tags": []
   },
   "source": [
    "> Note: In some cases you can make similar calculations using either networks or matrices. For example, you can obtain the weighted unipartite projection using the function of networkX, or by multiplying I*t(I)"
   ]
  },
  {
   "cell_type": "code",
   "execution_count": null,
   "id": "4e9621a9-80c3-4577-a12f-35cecea82ac4",
   "metadata": {
    "tags": []
   },
   "outputs": [],
   "source": [
    "#obtain the number of shared pollinators among plants: A . t(A)\n",
    "Imat.astype(float).dot(Imat.T.astype(float))"
   ]
  },
  {
   "cell_type": "code",
   "execution_count": null,
   "id": "99716678-ee47-4bad-be7a-f6bb768c56fd",
   "metadata": {
    "tags": []
   },
   "outputs": [],
   "source": [
    "#obtain the number of shared plants among pollinators: t(A) . A\n",
    "Imat.T.astype(float).dot(Imat.astype(float))"
   ]
  },
  {
   "cell_type": "markdown",
   "id": "699a713f-ac7c-4364-8038-d26a64c60b19",
   "metadata": {
    "tags": []
   },
   "source": [
    "### Reading from files\n",
    "Usually you will not have to create yourselve the network, but read it from a file. \n",
    "Data can be imported from many different sources and file formats: Adjacency List, Edge List, CSVs, and other more specialized files such as GEXF, GML, Pickle, GraphML, JSON, LEDA, SparseGraph6, Pajek...\n",
    "\n",
    "Let's see the most common ones: matrices and adjacency or edges lists.\n",
    "\n",
    "#### Reading a Matrix\n",
    "Usually these files are in csv format (or excel, easily tranformed to csv format). Let use as an example the web pf life mutualistic matrices of interactions.\n",
    "Once we have downloaded the csv, let's see how we can create the network."
   ]
  },
  {
   "cell_type": "code",
   "execution_count": null,
   "id": "16c3be8b-ea6d-4acc-b1d0-92503d0bf56d",
   "metadata": {
    "tags": []
   },
   "outputs": [],
   "source": [
    "filename=\"./data/Adjacency_m.csv\"\n",
    "Idf=pd.read_csv(filename, header=None, index_col=None)\n",
    "Idf\n",
    "DG=nx.from_pandas_adjacency(Idf,create_using=nx.DiGraph) #BEWARE! only works for square matrices!!\n",
    "nx.draw(DG, with_labels=True)"
   ]
  },
  {
   "cell_type": "markdown",
   "id": "398250c2-3f48-49b5-84d6-2db041b59498",
   "metadata": {
    "tags": []
   },
   "source": [
    "<div class=\"alert alert-block alert-success\"><b>Up to you:</b>\n",
    "<h4> Exercise 5</h4>\n",
    "    \n",
    "Read the foodweb of the St Marks river stuary, that is stored as an **adjacency matrix**, and create a network with it.\n",
    "The adjacency matrix is located at:\n",
    "\"./data/WoL_StMarks/st_marks.csv\"\n",
    "\n",
    "</div>"
   ]
  },
  {
   "cell_type": "code",
   "execution_count": null,
   "id": "a48be934-e365-4c9e-a646-5240814bbd5a",
   "metadata": {
    "tags": []
   },
   "outputs": [],
   "source": [
    "# write your code here and run it "
   ]
  },
  {
   "cell_type": "code",
   "execution_count": null,
   "id": "5649ea35-ff3f-4b42-9f89-97de31c53eb3",
   "metadata": {
    "tags": []
   },
   "outputs": [],
   "source": [
    "#Solution: Uncomment line below to load solution\n",
    "# %load ./snippets/ex5.py\n"
   ]
  },
  {
   "cell_type": "markdown",
   "id": "49f6e212-5ebb-48f4-96fc-f8749bdb7829",
   "metadata": {
    "tags": []
   },
   "source": [
    "<div class=\"alert alert-block alert-success\"><b>Up to you:</b>\n",
    "<h4> Exercise 6</h4>\n",
    "    \n",
    "Now, let's read the bipartite seed-dispersal network of the Tronqueira Island from an **Incidence Matrix** and create a **Bipartite network**. The matrix is located at:\n",
    "\"./data/WoL_Tronqueira/tronqueira.csv\"\n",
    "\n",
    "</div>"
   ]
  },
  {
   "cell_type": "code",
   "execution_count": null,
   "id": "1d2e043a-36ca-49ad-b880-e0a67b8dee9c",
   "metadata": {
    "tags": []
   },
   "outputs": [],
   "source": [
    "# write your code here and run it "
   ]
  },
  {
   "cell_type": "code",
   "execution_count": null,
   "id": "bed5903b-246a-48b8-b480-ab4318005de2",
   "metadata": {
    "tags": []
   },
   "outputs": [],
   "source": [
    "#SOLUTION: uncomment line below to load solution\n",
    "# %load ./snippets/ex6.py\n"
   ]
  },
  {
   "cell_type": "markdown",
   "id": "816cf3f6-b9e9-4d01-b58e-047af786d987",
   "metadata": {
    "tags": []
   },
   "source": [
    "#### Reading an interaction list\n",
    "It is also very frequent to find networks as interaction lists, where usually the left column denotes the source node, the right column the target node, and other columns edge attributes as weigth. Let's take a look at how these files can look like."
   ]
  },
  {
   "cell_type": "code",
   "execution_count": null,
   "id": "35227ab6-6749-4716-a466-cf5dde1f5858",
   "metadata": {
    "tags": []
   },
   "outputs": [],
   "source": [
    "filename=\"./data/WoL_StMarks/st_marks_Ilist.csv\"\n",
    "Ilist=pd.read_csv(filename, header=None, index_col=None)\n",
    "Ilist.columns=[\"source\",\"target\",\"w\"]# since the original file does not have headers in this case, I include the column names. \n",
    "#Using \"source\" and \"target\" ensures that later the networkN reader will understand the direction automatically.\n",
    "Ilist"
   ]
  },
  {
   "cell_type": "markdown",
   "id": "9d8bc5f2-4f9d-48d1-ad8d-867df06f7e5e",
   "metadata": {
    "tags": []
   },
   "source": [
    "Let create a Network from the interaction list (aka edge list)"
   ]
  },
  {
   "cell_type": "code",
   "execution_count": null,
   "id": "58508b08-84b8-4165-ac6e-75c13be7bd09",
   "metadata": {
    "tags": []
   },
   "outputs": [],
   "source": [
    "G=nx.from_pandas_edgelist(Ilist, edge_attr=\"w\", create_using=nx.DiGraph)\n",
    "nx.draw(G, with_labels=True) #Is the same network that above"
   ]
  },
  {
   "cell_type": "markdown",
   "id": "519f6c9c-9def-468b-aae6-1ca61c958709",
   "metadata": {
    "tags": []
   },
   "source": [
    "Bipartite networks rarely are stored as interaction lists, since its more difficult to specify the node attributes in that format.\n",
    "\n",
    "Apart from these we have seen,  there are much more rich formats to store networks, specially if they have multiple edge or node attributes. \n",
    "It is impossible to cover all of them here, because the possibilities are infinite. \n",
    "We have here some examples of rich formatting, where I constructed python functions to read the information and store it into a networkX format.\n",
    "\n",
    "**Lord of the rings** network (unipartite, weighted, with node attributes): Two characters are linked when they appear in the same sentence."
   ]
  },
  {
   "cell_type": "code",
   "execution_count": null,
   "id": "e75c9ba9-b775-44c9-825b-abc6bb623d39",
   "metadata": {
    "tags": []
   },
   "outputs": [],
   "source": [
    "G=load_LotR_network()"
   ]
  },
  {
   "cell_type": "code",
   "execution_count": null,
   "id": "8d2176a0-4686-44a0-9862-ac85439a170e",
   "metadata": {},
   "outputs": [],
   "source": [
    "G.edges(data=True)"
   ]
  },
  {
   "cell_type": "code",
   "execution_count": null,
   "id": "7f72ff96-6f79-41fb-b887-f23cce64ef97",
   "metadata": {},
   "outputs": [],
   "source": [
    "nx.write_gml(G, './output/LotR.gml') # a graph with edge attributes"
   ]
  },
  {
   "cell_type": "code",
   "execution_count": null,
   "id": "e3503a78-afad-4ebf-9e43-7d35a0b8b081",
   "metadata": {},
   "outputs": [],
   "source": [
    "G.nodes(data=True)"
   ]
  },
  {
   "cell_type": "code",
   "execution_count": null,
   "id": "780e13ec-bcd5-4dbb-b1cb-f0c03e33a503",
   "metadata": {},
   "outputs": [],
   "source": [
    "# Step 2: Define a color mapping for the node types\n",
    "type_color_mapping = {\n",
    "    'per': 'red',\n",
    "    'pla': 'blue',\n",
    "    'gro': 'green',\n",
    "    'thin': 'skyblue'\n",
    "}\n",
    "\n",
    "# Step 3: Create a list of node colors based on their 'type' attribute\n",
    "node_colors = [type_color_mapping[G.nodes[node]['type']] for node in G.nodes]"
   ]
  },
  {
   "cell_type": "code",
   "execution_count": null,
   "id": "976af2dd-6ce2-44af-91fa-0c491caff144",
   "metadata": {},
   "outputs": [],
   "source": [
    "# Step 4: Draw the network with node colors\n",
    "pos = nx.spring_layout(G,iterations=5)  # Generate positions for the nodes\n",
    "plt.figure(figsize=(8, 6))  # Set the figure size\n",
    "nx.draw(G, pos, node_color=node_colors, with_labels=True,node_size=100, font_size=10, font_color='white')\n"
   ]
  },
  {
   "cell_type": "markdown",
   "id": "73bc97a5-ac34-4d6f-ad41-d1b78e5a3d03",
   "metadata": {},
   "source": [
    "**Crime network** (bipartite, with node attributes): Each person is linked to a crime, either because they commited it, because they suffered it, or as a witness "
   ]
  },
  {
   "cell_type": "code",
   "execution_count": null,
   "id": "527b42ec-c057-4875-90bd-8dcc1d714cc1",
   "metadata": {},
   "outputs": [],
   "source": [
    "B = load_crime_network()\n",
    "B.edges(data=True)"
   ]
  },
  {
   "cell_type": "code",
   "execution_count": null,
   "id": "291c1ce2-03a9-4deb-947c-91970dc94229",
   "metadata": {},
   "outputs": [],
   "source": [
    "nx.write_gml(B, './output/crime.gml') # a graph with edge attributes"
   ]
  },
  {
   "cell_type": "code",
   "execution_count": null,
   "id": "8fefb47b-4e15-4151-8aca-aa91ced30681",
   "metadata": {},
   "outputs": [],
   "source": [
    "B.nodes(data=True)"
   ]
  },
  {
   "cell_type": "code",
   "execution_count": null,
   "id": "056c3769-390c-455d-ae2a-2273acf1b6b2",
   "metadata": {},
   "outputs": [],
   "source": [
    "#To obtain the graph of the network\n",
    "pos = nx.spring_layout(B) #assing position to the nodes acoording to their bipartite property\n",
    "color_dict={\"person\":\"red\",\"crime\":\"blue\"} #dictionary of node color, each bipartite set is asociated to a different color\n",
    "colors = [color_dict[node[1]['bipartite']] for node in B.nodes(data=True)]\n",
    "nx.draw(B, pos, node_color=colors, with_labels=False,node_size=20)"
   ]
  },
  {
   "cell_type": "code",
   "execution_count": null,
   "id": "d7831fc1-fc76-48af-ac4d-dfb82505738d",
   "metadata": {},
   "outputs": [],
   "source": []
  }
 ],
 "metadata": {
  "kernelspec": {
   "display_name": "net-course",
   "language": "python",
   "name": "net-course"
  },
  "language_info": {
   "codemirror_mode": {
    "name": "ipython",
    "version": 3
   },
   "file_extension": ".py",
   "mimetype": "text/x-python",
   "name": "python",
   "nbconvert_exporter": "python",
   "pygments_lexer": "ipython3",
   "version": "3.12.5"
  }
 },
 "nbformat": 4,
 "nbformat_minor": 5
}
