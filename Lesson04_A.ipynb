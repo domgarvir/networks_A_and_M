{
 "cells": [
  {
   "cell_type": "markdown",
   "id": "70c01b11-7f77-466a-ab3b-bfb413407579",
   "metadata": {},
   "source": [
    "# Dynamics on networks and dynamics of networks"
   ]
  },
  {
   "cell_type": "markdown",
   "id": "a25f8d3a-5f10-47d6-82b8-f9fa6cab62bc",
   "metadata": {},
   "source": [
    "## Sleep-Awake"
   ]
  },
  {
   "cell_type": "markdown",
   "id": "8743fc91-b79a-4400-93dc-075d80ec05f5",
   "metadata": {},
   "source": [
    "## Voter model"
   ]
  },
  {
   "cell_type": "markdown",
   "id": "25bdcca4-159d-44de-9de2-3ff80a8cae49",
   "metadata": {},
   "source": [
    "## SIS and SIR models"
   ]
  },
  {
   "cell_type": "code",
   "execution_count": null,
   "id": "b5d4b42b-40f3-418a-a96a-3a84d59b410c",
   "metadata": {},
   "outputs": [],
   "source": []
  }
 ],
 "metadata": {
  "kernelspec": {
   "display_name": "net-course",
   "language": "python",
   "name": "net-course"
  },
  "language_info": {
   "codemirror_mode": {
    "name": "ipython",
    "version": 3
   },
   "file_extension": ".py",
   "mimetype": "text/x-python",
   "name": "python",
   "nbconvert_exporter": "python",
   "pygments_lexer": "ipython3",
   "version": "3.12.4"
  }
 },
 "nbformat": 4,
 "nbformat_minor": 5
}
