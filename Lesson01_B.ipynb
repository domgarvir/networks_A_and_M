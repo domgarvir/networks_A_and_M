{
 "cells": [
  {
   "cell_type": "code",
   "execution_count": null,
   "id": "2c96e949-4659-4e77-97fb-15fd7c98fe46",
   "metadata": {},
   "outputs": [],
   "source": [
    "import pandas as pd #module to work with dataframes\n",
    "import networkx as nx #module to work with networks\n",
    "import numpy as np\n",
    "import scipy as scpy\n",
    "from Functions import *\n",
    "#%matplotlib inline"
   ]
  },
  {
   "cell_type": "markdown",
   "id": "258f8b9e-41e5-4ad0-9c10-64d81ecd437c",
   "metadata": {},
   "source": [
    "# Lesson 2 Notebook"
   ]
  },
  {
   "cell_type": "markdown",
   "id": "7488d84b-8f1f-4ae8-80c3-e7d60f9d0d58",
   "metadata": {
    "tags": []
   },
   "source": [
    "## Graphs Methods and NetwokX functions\n",
    "Once we have information stored in the for of graphs, we want to access that information. There are two different ways to do that: methods included in the Graph itself, and functions from the NetworkX module that we apply to Graphs.\n",
    "\n",
    "### Graph Methods\n",
    "The graph object has some properties and methods giving data about the whole graph. We can access this information using **methods**. \n",
    "This data is available via graph *methods*, *i.e.* they are called from the graph object:\n",
    "\n",
    "    G.<method_name>(<arguments>)\n",
    "\n",
    "#### Obtaining nodes and edges in the network\n",
    "\n",
    "You can get all the nodes in the network using `G.nodes(data=True)` and all the edges in the network using `G.edges()`.\n",
    "They return `NodeView` and `EdgeView` objects, that have iterators, so we can use them in `for` loops:"
   ]
  },
  {
   "cell_type": "code",
   "execution_count": null,
   "id": "9ba0b58b-273b-46fa-bcc5-bfcea9f5bec6",
   "metadata": {
    "tags": []
   },
   "outputs": [],
   "source": [
    "# Example: Obtain the nodes of the network of The Lord of the Rings\n",
    "G=load_LotR_network() #load the network\n",
    "G.nodes()"
   ]
  },
  {
   "cell_type": "code",
   "execution_count": null,
   "id": "e35f468b-f0fc-40bc-8b7a-c6e2b1dbf684",
   "metadata": {
    "tags": []
   },
   "outputs": [],
   "source": [
    "#The nodeview allos to iterate over the nodes:\n",
    "for n in G.nodes():\n",
    "    print(n)"
   ]
  },
  {
   "cell_type": "markdown",
   "id": "e1f38b07-817f-45fc-b08d-a421f9511f66",
   "metadata": {
    "tags": []
   },
   "source": [
    "If you want to have access to the sttributes, you need to specify `data=True`when callin .nodes()"
   ]
  },
  {
   "cell_type": "code",
   "execution_count": null,
   "id": "2804de57-8487-48bd-8af2-43e1343ab106",
   "metadata": {
    "tags": []
   },
   "outputs": [],
   "source": [
    "for n in G.nodes(data=True):\n",
    "    print(n)"
   ]
  },
  {
   "cell_type": "markdown",
   "id": "f5cbe7f5-6172-4f57-8f22-2172e3c28068",
   "metadata": {
    "tags": []
   },
   "source": [
    "<div class=\"alert alert-block alert-success\"><b>Up to you: </b>\n",
    "<h4> Exercise 7</h4>\n",
    "Now get the edges of the network G.\n",
    "</div>"
   ]
  },
  {
   "cell_type": "code",
   "execution_count": null,
   "id": "124bfdf9-2014-4f61-bd61-fbe25ef7bc5a",
   "metadata": {
    "tags": []
   },
   "outputs": [],
   "source": [
    "# write and execute your code"
   ]
  },
  {
   "cell_type": "code",
   "execution_count": null,
   "id": "1017b25f-8e15-404f-8f99-679f9a4c529f",
   "metadata": {
    "tags": []
   },
   "outputs": [],
   "source": [
    "#Solution - Uncomment line below to see the solution\n",
    "# %load ./snippets/ex7.py"
   ]
  },
  {
   "cell_type": "markdown",
   "id": "0ef73b74-45be-4dc9-9a7d-1864caabd2f0",
   "metadata": {
    "tags": []
   },
   "source": [
    "We can get the number of nodes and edges in a graph using the `number_of_` methods."
   ]
  },
  {
   "cell_type": "code",
   "execution_count": null,
   "id": "681e7e19-021e-403e-9136-497272711329",
   "metadata": {
    "tags": []
   },
   "outputs": [],
   "source": [
    "N=G.number_of_nodes()\n",
    "N"
   ]
  },
  {
   "cell_type": "code",
   "execution_count": null,
   "id": "62973bd1-b2dc-4c37-9606-8c54c72e678d",
   "metadata": {
    "tags": []
   },
   "outputs": [],
   "source": [
    "L=G.number_of_edges()\n",
    "L"
   ]
  },
  {
   "cell_type": "markdown",
   "id": "2906e9f9-14f1-47e2-8c2a-837b7c48429e",
   "metadata": {
    "tags": []
   },
   "source": [
    "Some graph methods take an edge or node as argument. These provide the graph properties of the given edge or node. For example, the `.neighbors()` method gives the nodes linked to the given node. For performance reasons, many graph methods return iterators instead of lists. They are convenient to loop over:"
   ]
  },
  {
   "cell_type": "code",
   "execution_count": null,
   "id": "6821d284-e410-4c76-b7d0-d041cce97da1",
   "metadata": {
    "tags": []
   },
   "outputs": [],
   "source": [
    "# list of neighbors of node 'frod'\n",
    "for neighbor in G.neighbors('thra'): #to who and to what places is Thrain (a dwarf) reated to?\n",
    "    print(neighbor)"
   ]
  },
  {
   "cell_type": "markdown",
   "id": "9453cc8a-11c8-4b09-8f96-49bf53fe070f",
   "metadata": {
    "tags": []
   },
   "source": [
    "Note: and you can always use the `list` constructor to make a list from an iterator, or the `set`constructor to make a set"
   ]
  },
  {
   "cell_type": "code",
   "execution_count": null,
   "id": "7197482e-0513-4290-98f8-9f6ada7579d6",
   "metadata": {
    "tags": []
   },
   "outputs": [],
   "source": [
    "list(G.neighbors('thra'))"
   ]
  },
  {
   "cell_type": "markdown",
   "id": "52967a8e-19e9-470e-a802-f15db238fe68",
   "metadata": {
    "tags": []
   },
   "source": [
    "#### Checking for existence of nodes and links\n",
    "\n",
    "At some times you may want to check if a given node is in a network, or if two nodes are connected (they have an edge between them). \n",
    "To **check if a node is present** in a graph, you can use the `has_node()` method:"
   ]
  },
  {
   "cell_type": "code",
   "execution_count": null,
   "id": "622d05b3-aba0-4f8a-b755-f8b40ecfadcf",
   "metadata": {
    "tags": []
   },
   "outputs": [],
   "source": [
    "G.has_node('frod')"
   ]
  },
  {
   "cell_type": "code",
   "execution_count": null,
   "id": "3743d8b0-58cf-43e6-bcca-e4a3cdb59367",
   "metadata": {
    "tags": []
   },
   "outputs": [],
   "source": [
    "G.has_node('spiderman')"
   ]
  },
  {
   "cell_type": "markdown",
   "id": "b1a66f22-843e-4e72-87a6-0131fdb1a003",
   "metadata": {
    "tags": []
   },
   "source": [
    "Likewise we can **check if two nodes are connected** by an edge using `has_edge()` method:"
   ]
  },
  {
   "cell_type": "code",
   "execution_count": null,
   "id": "45bdf2e6-9b65-4d68-b78a-3ddd6da7a7e8",
   "metadata": {
    "tags": []
   },
   "outputs": [],
   "source": [
    "G.has_edge('frod', 'sams') #these two character are connected!"
   ]
  },
  {
   "cell_type": "code",
   "execution_count": null,
   "id": "7d795cc4-062a-4aae-b91e-c0cdc19e39b9",
   "metadata": {
    "tags": []
   },
   "outputs": [],
   "source": [
    "G.has_edge('goll', 'sfax') #Gollumn and Gandal's horse are never mentioned toghether in the books!!"
   ]
  },
  {
   "cell_type": "code",
   "execution_count": null,
   "id": "97037a49-2897-4a60-b585-a55e6c28a250",
   "metadata": {
    "jp-MarkdownHeadingCollapsed": true,
    "tags": []
   },
   "outputs": [],
   "source": [
    "# you can also check for existence wth \"in\": this is a way to see if a given element is inside a group of elements \n",
    "('frod', 'sams') in G.edges"
   ]
  },
  {
   "cell_type": "markdown",
   "id": "31df1c47-b340-497d-989c-0a19b6ed1f4d",
   "metadata": {
    "tags": []
   },
   "source": [
    "> Note: Take into consideration that in **directed networks** the order of the tuple matters!. \n",
    "> Instead of the symmetric relationship \"neighbors\", nodes in directed graphs have `.predecessors()` (**\"in-neighbors\"**) and `.successors()` (**\"out-neighbors\"**):"
   ]
  },
  {
   "cell_type": "markdown",
   "id": "47d71896-deb8-472e-9381-53c661dbcd8a",
   "metadata": {
    "tags": []
   },
   "source": [
    "#### Node degree\n",
    "\n",
    "One of the most important questions we can ask about a node in a graph is how many other nodes it connects to. Using the `.neighbors()` method from above, we could formulate this question as so:"
   ]
  },
  {
   "cell_type": "code",
   "execution_count": null,
   "id": "460a89c7-fc80-464c-bd44-e4850f7e351e",
   "metadata": {
    "tags": []
   },
   "outputs": [],
   "source": [
    "len(list(G.neighbors('frod')))"
   ]
  },
  {
   "cell_type": "markdown",
   "id": "8149eff6-e14c-4646-aa4e-b01f750cf03e",
   "metadata": {
    "tags": []
   },
   "source": [
    "but this is such a common task that NetworkX provides us a graph method to do this in a much clearer way:"
   ]
  },
  {
   "cell_type": "code",
   "execution_count": null,
   "id": "826d6aec-80ce-4152-bd76-cd422c703735",
   "metadata": {
    "tags": []
   },
   "outputs": [],
   "source": [
    "G.degree('frod')"
   ]
  },
  {
   "cell_type": "markdown",
   "id": "80add4e1-b605-48c6-93f6-fa3fc820a50c",
   "metadata": {
    "tags": []
   },
   "source": [
    "> In **directed networks** we have `in-degree()` (edges **entering** the node) and `out degree()` (edges **exiting** the node). The method `.degree()` in directed networks returns the sum of the in and out connections."
   ]
  },
  {
   "cell_type": "markdown",
   "id": "5fe7d752-145c-475b-af8e-1d90bd174518",
   "metadata": {
    "tags": []
   },
   "source": [
    "<div class=\"alert alert-block alert-success\"><b>Up to you: </b>\n",
    "<h3> Exercise 8</h3>\n",
    "Load the foodweb of the St Marks Estuary and answer these questions:\n",
    "    \n",
    "- How many species are in the network?\n",
    "- What is the species that has more predators? (out-degree)\n",
    "- What is the species that has a more varied diet? (in-degree)\n",
    "- What are the species that feed on the most generalist predator? \n",
    "    \n",
    "![title](./images/figure5.png)\n",
    "</div>"
   ]
  },
  {
   "cell_type": "code",
   "execution_count": null,
   "id": "ab91c5d5-11b0-4cf6-b94f-f33e11ce93e7",
   "metadata": {
    "tags": []
   },
   "outputs": [],
   "source": [
    "#write your code"
   ]
  },
  {
   "cell_type": "code",
   "execution_count": null,
   "id": "f7be1961-8ed9-43a4-bb18-fadaf99dad47",
   "metadata": {
    "tags": []
   },
   "outputs": [],
   "source": [
    "# %load ./snippets/ex8.py\n",
    "# Start by loading the network as we did before\n",
    "filename=\"./data/WoL_StMarks/st_marks_Ilist.csv\"\n",
    "Ilist=pd.read_csv(filename, header=None, index_col=None)\n",
    "Ilist.columns=[\"source\",\"target\",\"w\"]\n",
    "FW=nx.from_pandas_edgelist(Ilist, edge_attr=\"w\", create_using=nx.DiGraph)\n",
    "\n",
    "#1 ) - How many species are in the network?\n",
    "#check and print the number of nodes\n",
    "S=FW.number_of_nodes()\n",
    "print(\"\\n1 - The number of species is %s\\n\" % S)\n",
    "\n",
    "#2) What is the species that has more predators? (out-degree)\n",
    "# you can see it as we have seen by writing:\n",
    "print(\"Let's see the out_degree of each species\")\n",
    "for sp in FW.nodes():\n",
    "    print(sp)\n",
    "    print(FW.out_degree(sp))\n",
    "    \n",
    "#However is much better to store all the out-degrees in a series, as we can then work with it\n",
    "K_out=pd.Series(dict(FW.out_degree()))\n",
    "K_out.sort_values(ascending=False)\n",
    "#Let's see how is the series\n",
    "print(\"Let's see it store as a series\")\n",
    "print(K_out)\n",
    "print(\"\\n2 - The species with more predators is %s\\n\" % (K_out.idxmax()) )\n",
    "\n",
    "#3) - What is the species that has a more varied diet? (in-degree)\n",
    "K_in=pd.Series(dict(FW.in_degree()))\n",
    "print(\"\\n3 - The species with a more varied diet is %s\\n\" % (K_in.idxmax()))\n",
    "\n",
    "#4)  - What are the species eaten by the most generalist predator? \n",
    "predator=K_in.idxmax()\n",
    "print(\"\\n4 - The species feeding on the predator are:\")\n",
    "print(list(FW.successors(predator)))\n",
    "\n"
   ]
  },
  {
   "cell_type": "markdown",
   "id": "2456f342-3ebb-4be1-a98a-01f6cd662057",
   "metadata": {
    "tags": []
   },
   "source": [
    "### Networkx functions\n",
    "\n",
    "While several of the most-used NetworkX functions are provided as methods, as we just saw, many more of them are module functions and are called like this:\n",
    "\n",
    "    nx.<function_name>(G, <arguments>)\n",
    "\n",
    "that is, with the graph provided as the first, and maybe only, argument. Here are a couple of examples of NetworkX module functions that provide information about a graph:"
   ]
  },
  {
   "cell_type": "code",
   "execution_count": null,
   "id": "bab5317c-4e07-4004-a3f6-343eccd0ed2c",
   "metadata": {},
   "outputs": [],
   "source": [
    "# To see if a Graph is connected:\n",
    "nx.is_connected(G)"
   ]
  },
  {
   "cell_type": "code",
   "execution_count": null,
   "id": "681f2ad7-7939-4b3f-ac5b-81bb22e0e2b2",
   "metadata": {},
   "outputs": [],
   "source": [
    "# Also the function to plot a Graph\n",
    "nx.draw(G, with_labels=True)"
   ]
  },
  {
   "cell_type": "code",
   "execution_count": null,
   "id": "bfc20479-6b3b-45a6-8ce2-ff2e6932c2c1",
   "metadata": {},
   "outputs": [],
   "source": [
    "#or to know if a network is bipartite\n",
    "nx.is_bipartite(G)"
   ]
  },
  {
   "cell_type": "code",
   "execution_count": null,
   "id": "71b22c20-685b-430b-ad86-d01904a296ce",
   "metadata": {},
   "outputs": [],
   "source": []
  },
  {
   "cell_type": "code",
   "execution_count": null,
   "id": "611a5dad-7f8f-4d3c-823f-ea325f1d9b2f",
   "metadata": {},
   "outputs": [],
   "source": []
  },
  {
   "cell_type": "code",
   "execution_count": null,
   "id": "d6459ad5-06ea-415d-996c-1850c6ed31db",
   "metadata": {},
   "outputs": [],
   "source": []
  }
 ],
 "metadata": {
  "kernelspec": {
   "display_name": "net-course",
   "language": "python",
   "name": "net-course"
  },
  "language_info": {
   "codemirror_mode": {
    "name": "ipython",
    "version": 3
   },
   "file_extension": ".py",
   "mimetype": "text/x-python",
   "name": "python",
   "nbconvert_exporter": "python",
   "pygments_lexer": "ipython3",
   "version": "3.12.4"
  }
 },
 "nbformat": 4,
 "nbformat_minor": 5
}
