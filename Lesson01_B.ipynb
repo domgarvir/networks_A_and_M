{
 "cells": [
  {
   "cell_type": "code",
   "execution_count": 1,
   "id": "2c96e949-4659-4e77-97fb-15fd7c98fe46",
   "metadata": {},
   "outputs": [],
   "source": [
    "import pandas as pd #module to work with dataframes\n",
    "import networkx as nx #module to work with networks\n",
    "import numpy as np\n",
    "import scipy as scpy\n",
    "from networkx.algorithms import bipartite\n",
    "from Functions import *\n",
    "import matplotlib.pyplot as plt\n",
    "#%matplotlib inline"
   ]
  },
  {
   "cell_type": "markdown",
   "id": "258f8b9e-41e5-4ad0-9c10-64d81ecd437c",
   "metadata": {},
   "source": [
    "# Lesson 2 Notebook"
   ]
  },
  {
   "cell_type": "markdown",
   "id": "7488d84b-8f1f-4ae8-80c3-e7d60f9d0d58",
   "metadata": {
    "tags": []
   },
   "source": [
    "## Graphs Methods and NetwokX functions\n",
    "Once we have information stored in the for of graphs, we want to access that information. There are two different ways to do that: methods included in the Graph itself, and functions from the NetworkX module that we apply to Graphs.\n",
    "\n",
    "### Graph Methods\n",
    "The graph object has some properties and methods giving data about the whole graph. We can access this information using **methods**. \n",
    "This data is available via graph *methods*, *i.e.* they are called from the graph object:\n",
    "\n",
    "    G.<method_name>(<arguments>)\n",
    "\n",
    "#### Obtaining nodes and edges in the network\n",
    "\n",
    "You can get all the nodes in the network using `G.nodes(data=True)` and all the edges in the network using `G.edges()`.\n",
    "They return `NodeView` and `EdgeView` objects, that have iterators, so we can use them in `for` loops:"
   ]
  },
  {
   "cell_type": "code",
   "execution_count": 2,
   "id": "9ba0b58b-273b-46fa-bcc5-bfcea9f5bec6",
   "metadata": {
    "tags": []
   },
   "outputs": [
    {
     "data": {
      "text/plain": [
       "NodeView(('andu', 'arag', 'arat', 'arwe', 'bage', 'bali', 'bere', 'bilb', 'bill', 'boro', 'bree', 'cele', 'comp', 'dene', 'dtow', 'duri', 'dwar', 'edor', 'elen', 'elro', 'elve', 'ents', 'eome', 'eorl', 'eowy', 'oldf', 'mirk', 'fara', 'frod', 'gala', 'ganda', 'gber', 'gild', 'gimli', 'gloi', 'glorf', 'goll', 'gond', 'gorb', 'grim', 'hald', 'helm', 'hobb', 'hton', 'isen', 'isil', 'lego', 'lori', 'loth', 'mdoo', 'merr', 'mord', 'morg', 'mori', 'nazg', 'nume', 'orth', 'osgi', 'pipp', 'ring', 'rive', 'roha', 'sams', 'saru', 'saur', 'sfax', 'shel', 'shir', 'theod', 'thor', 'thra', 'tiri', 'tomb', 'treeb', 'orcs'))"
      ]
     },
     "execution_count": 2,
     "metadata": {},
     "output_type": "execute_result"
    }
   ],
   "source": [
    "# Example: Obtain the nodes of the network of The Lord of the Rings\n",
    "G=load_LotR_network() #load the network\n",
    "G.nodes()"
   ]
  },
  {
   "cell_type": "code",
   "execution_count": 3,
   "id": "e35f468b-f0fc-40bc-8b7a-c6e2b1dbf684",
   "metadata": {
    "tags": []
   },
   "outputs": [
    {
     "name": "stdout",
     "output_type": "stream",
     "text": [
      "andu\n",
      "arag\n",
      "arat\n",
      "arwe\n",
      "bage\n",
      "bali\n",
      "bere\n",
      "bilb\n",
      "bill\n",
      "boro\n",
      "bree\n",
      "cele\n",
      "comp\n",
      "dene\n",
      "dtow\n",
      "duri\n",
      "dwar\n",
      "edor\n",
      "elen\n",
      "elro\n",
      "elve\n",
      "ents\n",
      "eome\n",
      "eorl\n",
      "eowy\n",
      "oldf\n",
      "mirk\n",
      "fara\n",
      "frod\n",
      "gala\n",
      "ganda\n",
      "gber\n",
      "gild\n",
      "gimli\n",
      "gloi\n",
      "glorf\n",
      "goll\n",
      "gond\n",
      "gorb\n",
      "grim\n",
      "hald\n",
      "helm\n",
      "hobb\n",
      "hton\n",
      "isen\n",
      "isil\n",
      "lego\n",
      "lori\n",
      "loth\n",
      "mdoo\n",
      "merr\n",
      "mord\n",
      "morg\n",
      "mori\n",
      "nazg\n",
      "nume\n",
      "orth\n",
      "osgi\n",
      "pipp\n",
      "ring\n",
      "rive\n",
      "roha\n",
      "sams\n",
      "saru\n",
      "saur\n",
      "sfax\n",
      "shel\n",
      "shir\n",
      "theod\n",
      "thor\n",
      "thra\n",
      "tiri\n",
      "tomb\n",
      "treeb\n",
      "orcs\n"
     ]
    }
   ],
   "source": [
    "#The nodeview allos to iterate over the nodes:\n",
    "for n in G.nodes():\n",
    "    print(n)"
   ]
  },
  {
   "cell_type": "markdown",
   "id": "e1f38b07-817f-45fc-b08d-a421f9511f66",
   "metadata": {
    "tags": []
   },
   "source": [
    "If you want to have access to the sttributes, you need to specify `data=True`when callin .nodes()"
   ]
  },
  {
   "cell_type": "code",
   "execution_count": 4,
   "id": "2804de57-8487-48bd-8af2-43e1343ab106",
   "metadata": {
    "tags": []
   },
   "outputs": [
    {
     "name": "stdout",
     "output_type": "stream",
     "text": [
      "('andu', {'type': 'pla', 'Label': 'Anduin', 'FreqSum': 109, 'subtype': 'pla', 'gender': nan})\n",
      "('arag', {'type': 'per', 'Label': 'Aragorn', 'FreqSum': 1069, 'subtype': 'men', 'gender': 'male'})\n",
      "('arat', {'type': 'per', 'Label': 'Arathorn', 'FreqSum': 36, 'subtype': 'men', 'gender': 'male'})\n",
      "('arwe', {'type': 'per', 'Label': 'Arwen', 'FreqSum': 51, 'subtype': 'elves', 'gender': 'female'})\n",
      "('bage', {'type': 'pla', 'Label': 'Bag End', 'FreqSum': 77, 'subtype': 'pla', 'gender': nan})\n",
      "('bali', {'type': 'per', 'Label': 'Balin', 'FreqSum': 30, 'subtype': 'dwarf', 'gender': 'male'})\n",
      "('bere', {'type': 'per', 'Label': 'Beregond', 'FreqSum': 77, 'subtype': 'men', 'gender': 'male'})\n",
      "('bilb', {'type': 'per', 'Label': 'Bilbo', 'FreqSum': 385, 'subtype': 'hobbit', 'gender': 'male'})\n",
      "('bill', {'type': 'per', 'Label': 'Bill', 'FreqSum': 45, 'subtype': 'animal', 'gender': 'male'})\n",
      "('boro', {'type': 'per', 'Label': 'Boromir', 'FreqSum': 293, 'subtype': 'men', 'gender': 'male'})\n",
      "('bree', {'type': 'pla', 'Label': 'Bree', 'FreqSum': 164, 'subtype': 'pla', 'gender': nan})\n",
      "('cele', {'type': 'per', 'Label': 'Celeborn', 'FreqSum': 51, 'subtype': 'elves', 'gender': 'male'})\n",
      "('comp', {'type': 'gro', 'Label': 'Company', 'FreqSum': 160, 'subtype': 'mixed', 'gender': nan})\n",
      "('dene', {'type': 'per', 'Label': 'Denethor', 'FreqSum': 168, 'subtype': 'men', 'gender': 'male'})\n",
      "('dtow', {'type': 'pla', 'Label': 'Dark Tower', 'FreqSum': 33, 'subtype': 'pla', 'gender': nan})\n",
      "('duri', {'type': 'per', 'Label': 'Durin', 'FreqSum': 54, 'subtype': 'dwarf', 'gender': 'male'})\n",
      "('dwar', {'type': 'gro', 'Label': 'Dwarves', 'FreqSum': 122, 'subtype': 'dwarf', 'gender': nan})\n",
      "('edor', {'type': 'pla', 'Label': 'Edoras', 'FreqSum': 55, 'subtype': 'pla', 'gender': nan})\n",
      "('elen', {'type': 'per', 'Label': 'Elendil', 'FreqSum': 89, 'subtype': 'men', 'gender': 'male'})\n",
      "('elro', {'type': 'per', 'Label': 'Elrond', 'FreqSum': 240, 'subtype': 'elves', 'gender': 'male'})\n",
      "('elve', {'type': 'gro', 'Label': 'Elves', 'FreqSum': 292, 'subtype': 'elves', 'gender': nan})\n",
      "('ents', {'type': 'gro', 'Label': 'Ents', 'FreqSum': 136, 'subtype': 'ents', 'gender': nan})\n",
      "('eome', {'type': 'per', 'Label': 'Éomer', 'FreqSum': 238, 'subtype': 'men', 'gender': 'male'})\n",
      "('eorl', {'type': 'per', 'Label': 'Eorl', 'FreqSum': 56, 'subtype': 'men', 'gender': 'male'})\n",
      "('eowy', {'type': 'per', 'Label': 'Éowyn', 'FreqSum': 115, 'subtype': 'men', 'gender': 'female'})\n",
      "('oldf', {'type': 'pla', 'Label': 'Old Forest', 'FreqSum': 19, 'subtype': 'pla', 'gender': nan})\n",
      "('mirk', {'type': 'pla', 'Label': 'Mirkwood', 'FreqSum': 58, 'subtype': 'pla', 'gender': nan})\n",
      "('fara', {'type': 'per', 'Label': 'Faramir', 'FreqSum': 313, 'subtype': 'men', 'gender': 'male'})\n",
      "('frod', {'type': 'per', 'Label': 'Frodo', 'FreqSum': 2040, 'subtype': 'hobbit', 'gender': 'male'})\n",
      "('gala', {'type': 'per', 'Label': 'Galadriel', 'FreqSum': 95, 'subtype': 'elves', 'gender': 'female'})\n",
      "('ganda', {'type': 'per', 'Label': 'Gandalf', 'FreqSum': 1235, 'subtype': 'ainur', 'gender': 'male'})\n",
      "('gber', {'type': 'per', 'Label': 'Goldberry', 'FreqSum': 32, 'subtype': 'ainur', 'gender': 'female'})\n",
      "('gild', {'type': 'per', 'Label': 'Gildor', 'FreqSum': 32, 'subtype': 'elves', 'gender': 'male'})\n",
      "('gimli', {'type': 'per', 'Label': 'Gimli', 'FreqSum': 403, 'subtype': 'dwarf', 'gender': 'male'})\n",
      "('gloi', {'type': 'per', 'Label': 'Glóin', 'FreqSum': 52, 'subtype': 'dwarf', 'gender': 'male'})\n",
      "('glorf', {'type': 'per', 'Label': 'Glorfindel', 'FreqSum': 43, 'subtype': 'elves', 'gender': 'male'})\n",
      "('goll', {'type': 'per', 'Label': 'Gollum', 'FreqSum': 581, 'subtype': 'hobbit', 'gender': 'male'})\n",
      "('gond', {'type': 'pla', 'Label': 'Gondor', 'FreqSum': 442, 'subtype': 'pla', 'gender': nan})\n",
      "('gorb', {'type': 'per', 'Label': 'Gorbag', 'FreqSum': 30, 'subtype': 'orcs', 'gender': 'male'})\n",
      "('grim', {'type': 'per', 'Label': 'Wormtongue', 'FreqSum': 65, 'subtype': 'men', 'gender': 'male'})\n",
      "('hald', {'type': 'per', 'Label': 'Haldir', 'FreqSum': 44, 'subtype': 'elves', 'gender': 'male'})\n",
      "('helm', {'type': 'pla', 'Label': 'Helm', 'FreqSum': 80, 'subtype': 'pla', 'gender': nan})\n",
      "('hobb', {'type': 'gro', 'Label': 'Hobbits', 'FreqSum': 127, 'subtype': 'hobbit', 'gender': nan})\n",
      "('hton', {'type': 'pla', 'Label': 'Hobbiton', 'FreqSum': 59, 'subtype': 'pla', 'gender': nan})\n",
      "('isen', {'type': 'pla', 'Label': 'Isengard', 'FreqSum': 165, 'subtype': 'pla', 'gender': nan})\n",
      "('isil', {'type': 'per', 'Label': 'Isildur', 'FreqSum': 103, 'subtype': 'men', 'gender': 'male'})\n",
      "('lego', {'type': 'per', 'Label': 'Legolas', 'FreqSum': 346, 'subtype': 'elves', 'gender': 'male'})\n",
      "('lori', {'type': 'pla', 'Label': 'Lórien', 'FreqSum': 97, 'subtype': 'pla', 'gender': nan})\n",
      "('loth', {'type': 'pla', 'Label': 'Lothlórien', 'FreqSum': 42, 'subtype': 'pla', 'gender': nan})\n",
      "('mdoo', {'type': 'pla', 'Label': 'Mount Doom', 'FreqSum': 12, 'subtype': 'pla', 'gender': nan})\n",
      "('merr', {'type': 'per', 'Label': 'Merry', 'FreqSum': 595, 'subtype': 'hobbit', 'gender': 'male'})\n",
      "('mord', {'type': 'pla', 'Label': 'Mordor', 'FreqSum': 265, 'subtype': 'pla', 'gender': nan})\n",
      "('morg', {'type': 'pla', 'Label': 'Morgul', 'FreqSum': 72, 'subtype': 'pla', 'gender': nan})\n",
      "('mori', {'type': 'pla', 'Label': 'Moria', 'FreqSum': 131, 'subtype': 'pla', 'gender': nan})\n",
      "('nazg', {'type': 'gro', 'Label': 'Nine Riders', 'FreqSum': 54, 'subtype': 'men', 'gender': nan})\n",
      "('nume', {'type': 'pla', 'Label': 'Númenor', 'FreqSum': 62, 'subtype': 'pla', 'gender': nan})\n",
      "('orth', {'type': 'pla', 'Label': 'Orthanc', 'FreqSum': 83, 'subtype': 'pla', 'gender': nan})\n",
      "('osgi', {'type': 'pla', 'Label': 'Osgiliath', 'FreqSum': 50, 'subtype': 'pla', 'gender': nan})\n",
      "('pipp', {'type': 'per', 'Label': 'Pippin', 'FreqSum': 771, 'subtype': 'hobbit', 'gender': 'male'})\n",
      "('ring', {'type': 'thin', 'Label': 'Ring', 'FreqSum': 427, 'subtype': 'thing', 'gender': nan})\n",
      "('rive', {'type': 'pla', 'Label': 'Rivendell', 'FreqSum': 145, 'subtype': 'pla', 'gender': nan})\n",
      "('roha', {'type': 'pla', 'Label': 'Rohan', 'FreqSum': 263, 'subtype': 'pla', 'gender': nan})\n",
      "('sams', {'type': 'per', 'Label': 'Sam', 'FreqSum': 1400, 'subtype': 'hobbit', 'gender': 'male'})\n",
      "('saru', {'type': 'per', 'Label': 'Saruman', 'FreqSum': 312, 'subtype': 'ainur', 'gender': 'male'})\n",
      "('saur', {'type': 'per', 'Label': 'Sauron', 'FreqSum': 339, 'subtype': 'ainur', 'gender': 'male'})\n",
      "('sfax', {'type': 'per', 'Label': 'Shadowfax', 'FreqSum': 78, 'subtype': 'animal', 'gender': 'male'})\n",
      "('shel', {'type': 'per', 'Label': 'Shelob', 'FreqSum': 40, 'subtype': 'animal', 'gender': 'female'})\n",
      "('shir', {'type': 'pla', 'Label': 'Shire', 'FreqSum': 411, 'subtype': 'pla', 'gender': nan})\n",
      "('theod', {'type': 'per', 'Label': 'Théoden', 'FreqSum': 246, 'subtype': 'men', 'gender': 'male'})\n",
      "('thor', {'type': 'per', 'Label': 'Thorin', 'FreqSum': 40, 'subtype': 'dwarf', 'gender': 'male'})\n",
      "('thra', {'type': 'per', 'Label': 'Thráin', 'FreqSum': 33, 'subtype': 'dwarf', 'gender': 'male'})\n",
      "('tiri', {'type': 'pla', 'Label': 'Minas Tirith', 'FreqSum': 110, 'subtype': 'pla', 'gender': nan})\n",
      "('tomb', {'type': 'per', 'Label': 'Bombadil', 'FreqSum': 177, 'subtype': 'ainur', 'gender': 'male'})\n",
      "('treeb', {'type': 'per', 'Label': 'Treebeard', 'FreqSum': 221, 'subtype': 'ents', 'gender': 'male'})\n",
      "('orcs', {'type': 'gro', 'Label': 'Orcs', 'FreqSum': 321, 'subtype': 'orcs', 'gender': nan})\n"
     ]
    }
   ],
   "source": [
    "for n in G.nodes(data=True):\n",
    "    print(n)"
   ]
  },
  {
   "cell_type": "markdown",
   "id": "01e7389a-623b-4e23-81d4-9c5a8a4cf5de",
   "metadata": {
    "tags": []
   },
   "source": [
    "And if you want to accesss one particular node by its ID:"
   ]
  },
  {
   "cell_type": "code",
   "execution_count": 5,
   "id": "270d14dd-3405-4e3d-9b30-42f32dc278d1",
   "metadata": {
    "tags": []
   },
   "outputs": [
    {
     "data": {
      "text/plain": [
       "{'type': 'per',\n",
       " 'Label': 'Bombadil',\n",
       " 'FreqSum': 177,\n",
       " 'subtype': 'ainur',\n",
       " 'gender': 'male'}"
      ]
     },
     "execution_count": 5,
     "metadata": {},
     "output_type": "execute_result"
    }
   ],
   "source": [
    "G.nodes['tomb']"
   ]
  },
  {
   "cell_type": "markdown",
   "id": "adedc7be-2b2a-4c98-b790-a95f5730e3d2",
   "metadata": {
    "tags": []
   },
   "source": [
    "<div class=\"alert alert-block alert-success\"><b>Up to you: </b>\n",
    "<h4> Exercise 7</h4>\n",
    "Now get the edges of the network G.\n",
    "</div>"
   ]
  },
  {
   "cell_type": "code",
   "execution_count": 6,
   "id": "124bfdf9-2014-4f61-bd61-fbe25ef7bc5a",
   "metadata": {
    "tags": []
   },
   "outputs": [],
   "source": [
    "# write and execute your code"
   ]
  },
  {
   "cell_type": "code",
   "execution_count": 7,
   "id": "1017b25f-8e15-404f-8f99-679f9a4c529f",
   "metadata": {
    "tags": []
   },
   "outputs": [],
   "source": [
    "# %load ./snippets/ex7.py\n"
   ]
  },
  {
   "cell_type": "markdown",
   "id": "0ef73b74-45be-4dc9-9a7d-1864caabd2f0",
   "metadata": {
    "tags": []
   },
   "source": [
    "We can get the number of nodes and edges in a graph using the `number_of_` methods."
   ]
  },
  {
   "cell_type": "code",
   "execution_count": 8,
   "id": "681e7e19-021e-403e-9136-497272711329",
   "metadata": {
    "tags": []
   },
   "outputs": [
    {
     "data": {
      "text/plain": [
       "75"
      ]
     },
     "execution_count": 8,
     "metadata": {},
     "output_type": "execute_result"
    }
   ],
   "source": [
    "N=G.number_of_nodes()\n",
    "N"
   ]
  },
  {
   "cell_type": "code",
   "execution_count": 9,
   "id": "62973bd1-b2dc-4c37-9606-8c54c72e678d",
   "metadata": {
    "tags": []
   },
   "outputs": [
    {
     "data": {
      "text/plain": [
       "1444"
      ]
     },
     "execution_count": 9,
     "metadata": {},
     "output_type": "execute_result"
    }
   ],
   "source": [
    "L=G.number_of_edges()\n",
    "L"
   ]
  },
  {
   "cell_type": "markdown",
   "id": "2906e9f9-14f1-47e2-8c2a-837b7c48429e",
   "metadata": {
    "tags": []
   },
   "source": [
    "Some graph methods take an edge or node as argument. These provide the graph properties of the given edge or node. For example, the `.neighbors()` method gives the nodes linked to the given node. For performance reasons, many graph methods return iterators instead of lists. They are convenient to loop over:"
   ]
  },
  {
   "cell_type": "code",
   "execution_count": 10,
   "id": "6821d284-e410-4c76-b7d0-d041cce97da1",
   "metadata": {
    "tags": []
   },
   "outputs": [
    {
     "name": "stdout",
     "output_type": "stream",
     "text": [
      "thor\n",
      "dwar\n",
      "duri\n",
      "mori\n",
      "ring\n",
      "orcs\n",
      "bali\n",
      "ganda\n",
      "saur\n",
      "gimli\n",
      "andu\n",
      "elve\n",
      "gloi\n",
      "hobb\n",
      "isil\n",
      "shir\n"
     ]
    }
   ],
   "source": [
    "# list of neighbors of node 'frod'\n",
    "for neighbor in G.neighbors('thra'): #to who and to what places is Thrain (a dwarf) reated to?\n",
    "    print(neighbor)"
   ]
  },
  {
   "cell_type": "markdown",
   "id": "9453cc8a-11c8-4b09-8f96-49bf53fe070f",
   "metadata": {
    "tags": []
   },
   "source": [
    "Note: and you can always use the `list` constructor to make a list from an iterator, or the `set`constructor to make a set"
   ]
  },
  {
   "cell_type": "code",
   "execution_count": 11,
   "id": "7197482e-0513-4290-98f8-9f6ada7579d6",
   "metadata": {
    "tags": []
   },
   "outputs": [
    {
     "data": {
      "text/plain": [
       "['thor',\n",
       " 'dwar',\n",
       " 'duri',\n",
       " 'mori',\n",
       " 'ring',\n",
       " 'orcs',\n",
       " 'bali',\n",
       " 'ganda',\n",
       " 'saur',\n",
       " 'gimli',\n",
       " 'andu',\n",
       " 'elve',\n",
       " 'gloi',\n",
       " 'hobb',\n",
       " 'isil',\n",
       " 'shir']"
      ]
     },
     "execution_count": 11,
     "metadata": {},
     "output_type": "execute_result"
    }
   ],
   "source": [
    "list(G.neighbors('thra'))"
   ]
  },
  {
   "cell_type": "markdown",
   "id": "52967a8e-19e9-470e-a802-f15db238fe68",
   "metadata": {
    "tags": []
   },
   "source": [
    "#### Checking for existence of nodes and links\n",
    "\n",
    "At some times you may want to check if a given node is in a network, or if two nodes are connected (they have an edge between them). \n",
    "To **check if a node is present** in a graph, you can use the `has_node()` method:"
   ]
  },
  {
   "cell_type": "code",
   "execution_count": 12,
   "id": "622d05b3-aba0-4f8a-b755-f8b40ecfadcf",
   "metadata": {
    "tags": []
   },
   "outputs": [
    {
     "data": {
      "text/plain": [
       "True"
      ]
     },
     "execution_count": 12,
     "metadata": {},
     "output_type": "execute_result"
    }
   ],
   "source": [
    "G.has_node('frod')"
   ]
  },
  {
   "cell_type": "code",
   "execution_count": 13,
   "id": "3743d8b0-58cf-43e6-bcca-e4a3cdb59367",
   "metadata": {
    "tags": []
   },
   "outputs": [
    {
     "data": {
      "text/plain": [
       "False"
      ]
     },
     "execution_count": 13,
     "metadata": {},
     "output_type": "execute_result"
    }
   ],
   "source": [
    "G.has_node('spiderman')"
   ]
  },
  {
   "cell_type": "markdown",
   "id": "b1a66f22-843e-4e72-87a6-0131fdb1a003",
   "metadata": {
    "tags": []
   },
   "source": [
    "Likewise we can **check if two nodes are connected** by an edge using `has_edge()` method:"
   ]
  },
  {
   "cell_type": "code",
   "execution_count": 14,
   "id": "45bdf2e6-9b65-4d68-b78a-3ddd6da7a7e8",
   "metadata": {
    "tags": []
   },
   "outputs": [
    {
     "data": {
      "text/plain": [
       "True"
      ]
     },
     "execution_count": 14,
     "metadata": {},
     "output_type": "execute_result"
    }
   ],
   "source": [
    "G.has_edge('frod', 'sams') #these two character are connected!"
   ]
  },
  {
   "cell_type": "code",
   "execution_count": 15,
   "id": "7d795cc4-062a-4aae-b91e-c0cdc19e39b9",
   "metadata": {
    "tags": []
   },
   "outputs": [
    {
     "data": {
      "text/plain": [
       "False"
      ]
     },
     "execution_count": 15,
     "metadata": {},
     "output_type": "execute_result"
    }
   ],
   "source": [
    "G.has_edge('goll', 'sfax') #Gollumn and Gandal's horse are never mentioned toghether in the books!!"
   ]
  },
  {
   "cell_type": "code",
   "execution_count": 16,
   "id": "97037a49-2897-4a60-b585-a55e6c28a250",
   "metadata": {
    "jp-MarkdownHeadingCollapsed": true,
    "tags": []
   },
   "outputs": [
    {
     "data": {
      "text/plain": [
       "True"
      ]
     },
     "execution_count": 16,
     "metadata": {},
     "output_type": "execute_result"
    }
   ],
   "source": [
    "# you can also check for existence wth \"in\": this is a way to see if a given element is inside a group of elements \n",
    "('frod', 'sams') in G.edges"
   ]
  },
  {
   "cell_type": "markdown",
   "id": "31df1c47-b340-497d-989c-0a19b6ed1f4d",
   "metadata": {
    "tags": []
   },
   "source": [
    "> Note: Take into consideration that in **directed networks** the order of the tuple matters!. \n",
    "> Instead of the symmetric relationship \"neighbors\", nodes in directed graphs have `.predecessors()` (**\"in-neighbors\"**) and `.successors()` (**\"out-neighbors\"**):"
   ]
  },
  {
   "cell_type": "markdown",
   "id": "47d71896-deb8-472e-9381-53c661dbcd8a",
   "metadata": {
    "tags": []
   },
   "source": [
    "#### Node degree\n",
    "\n",
    "One of the most important questions we can ask about a node in a graph is how many other nodes it connects to. Using the `.neighbors()` method from above, we could formulate this question as so:"
   ]
  },
  {
   "cell_type": "code",
   "execution_count": 17,
   "id": "460a89c7-fc80-464c-bd44-e4850f7e351e",
   "metadata": {
    "tags": []
   },
   "outputs": [
    {
     "data": {
      "text/plain": [
       "68"
      ]
     },
     "execution_count": 17,
     "metadata": {},
     "output_type": "execute_result"
    }
   ],
   "source": [
    "len(list(G.neighbors('frod')))"
   ]
  },
  {
   "cell_type": "markdown",
   "id": "8149eff6-e14c-4646-aa4e-b01f750cf03e",
   "metadata": {
    "tags": []
   },
   "source": [
    "but this is such a common task that NetworkX provides us a graph method to do this in a much clearer way:"
   ]
  },
  {
   "cell_type": "code",
   "execution_count": 18,
   "id": "826d6aec-80ce-4152-bd76-cd422c703735",
   "metadata": {
    "tags": []
   },
   "outputs": [
    {
     "data": {
      "text/plain": [
       "68"
      ]
     },
     "execution_count": 18,
     "metadata": {},
     "output_type": "execute_result"
    }
   ],
   "source": [
    "G.degree('frod')"
   ]
  },
  {
   "cell_type": "markdown",
   "id": "80add4e1-b605-48c6-93f6-fa3fc820a50c",
   "metadata": {
    "tags": []
   },
   "source": [
    "> In **directed networks** we have `in-degree()` (edges **entering** the node) and `out degree()` (edges **exiting** the node). The method `.degree()` in directed networks returns the sum of the in and out connections."
   ]
  },
  {
   "cell_type": "markdown",
   "id": "5fe7d752-145c-475b-af8e-1d90bd174518",
   "metadata": {
    "tags": []
   },
   "source": [
    "<div class=\"alert alert-block alert-success\"><b>Up to you: </b>\n",
    "<h3> Exercise 8</h3>\n",
    "Load the foodweb of the St Marks Estuary and answer these questions:\n",
    "    \n",
    "- How many species are in the network?\n",
    "- What is the species that has more predators? (out-degree)\n",
    "- What is the species that has a more varied diet? (in-degree)\n",
    "- What are the species that feed on the most generalist predator? \n",
    "    \n",
    "![title](./images/figure5.png)\n",
    "</div>"
   ]
  },
  {
   "cell_type": "code",
   "execution_count": null,
   "id": "ab91c5d5-11b0-4cf6-b94f-f33e11ce93e7",
   "metadata": {
    "tags": []
   },
   "outputs": [],
   "source": [
    "#write your code"
   ]
  },
  {
   "cell_type": "code",
   "execution_count": 19,
   "id": "f7be1961-8ed9-43a4-bb18-fadaf99dad47",
   "metadata": {
    "tags": []
   },
   "outputs": [],
   "source": [
    "# %load ./snippets/ex8.py\n",
    "# Start by loading the network as we did before\n",
    "filename=\"./data/WoL_StMarks/st_marks_Ilist.csv\"\n",
    "Ilist=pd.read_csv(filename, header=None, index_col=None)\n",
    "Ilist.columns=[\"source\",\"target\",\"w\"]\n",
    "FW=nx.from_pandas_edgelist(Ilist, edge_attr=\"w\", create_using=nx.DiGraph)\n",
    "\n",
    "#1 ) - How many species are in the network?\n",
    "#check and print the number of nodes\n",
    "S=FW.number_of_nodes()\n",
    "print(\"\\n1 - The number of species is %s\\n\" % S)\n",
    "\n",
    "#2) What is the species that has more predators? (out-degree)\n",
    "# you can see it as we have seen by writing:\n",
    "print(\"Let's see the out_degree of each species\")\n",
    "for sp in FW.nodes():\n",
    "    print(sp)\n",
    "    print(FW.out_degree(sp))\n",
    "    \n",
    "#However is much better to store all the out-degrees in a series, as we can then work with it\n",
    "K_out=pd.Series(dict(FW.out_degree()))\n",
    "K_out.sort_values(ascending=False)\n",
    "#Let's see how is the series\n",
    "print(\"Let's see it store as a series\")\n",
    "print(K_out)\n",
    "print(\"\\n2 - The species with more predators is %s\\n\" % (K_out.idxmax()) )\n",
    "\n",
    "#3) - What is the species that has a more varied diet? (in-degree)\n",
    "K_in=pd.Series(dict(FW.in_degree()))\n",
    "print(\"\\n3 - The species with a more varied diet is %s\\n\" % (K_in.idxmax()))\n",
    "\n",
    "#4)  - What are the species that prey on the most generalist predator? \n",
    "predator=K_in.idxmax()\n",
    "print(\"\\n4 - The species feeding on the generalist predator are:\")\n",
    "print(list(FW.successors(predator)))"
   ]
  },
  {
   "cell_type": "markdown",
   "id": "6fc2b294-d8bf-421d-8d33-987326956a3a",
   "metadata": {
    "tags": []
   },
   "source": [
    "<div class=\"alert alert-block alert-success\"><b>Up to you: </b>\n",
    "<h3> Exercise 8b</h3>\n",
    "Load the web of crime: A bipartite network of associations among suspects, victims, and/or witnesses (in red) involved in crimes (in blue) in St. Louis in the 1990s, and aswer the following questions:\n",
    "    \n",
    "- 1. In how many crimes was involved the person that was involved in more crimes?\n",
    "- 2. What role did he/she played in the crimes?\n",
    "- 3. What is the crime that has more people involved? \n",
    "- 4. Find with whom he/she has shared more crimes\n",
    "\n",
    "    \n",
    "![title](./images/figure8b.png)\n",
    "</div>"
   ]
  },
  {
   "cell_type": "code",
   "execution_count": null,
   "id": "6dbe4661-8d6f-4b3a-bafc-aebcd478c322",
   "metadata": {
    "tags": []
   },
   "outputs": [],
   "source": [
    "#load the crime network\n",
    "G = load_crime_network()\n",
    "#continue with your code here below"
   ]
  },
  {
   "cell_type": "code",
   "execution_count": null,
   "id": "524d8fcc-7c09-4ca5-b8b2-2b6bbdbd27f0",
   "metadata": {
    "tags": []
   },
   "outputs": [],
   "source": [
    "# %load ./snippets/ex8b.py\n",
    "#start by determining the two types of nodes\n",
    "person_nodes = {n for n, d in G.nodes(data=True) if d[\"bipartite\"] == 'person'}\n",
    "crime_nodes = set(G) - person_nodes\n",
    "\n",
    "#get the degree of people and of crimes\n",
    "K_person=pd.Series(dict(G.degree(person_nodes)))\n",
    "K_crime=pd.Series(dict(G.degree(crime_nodes)))\n",
    "\n",
    "#Get the person linked to most crimes\n",
    "most_dangerous_person=K_person.idxmax()\n",
    "number_of_crimes=G.degree(most_dangerous_person)\n",
    "\n",
    "print(\"\\n1- the most dangerous person is %s, involved in %s crimes\" % (most_dangerous_person,number_of_crimes))\n",
    "\n",
    "#look the role: We need to go over the EDGES of the person with all the crimes, and for each of retrieve the word inside the attribute \"role. We then store them in a list called Roles\n",
    "Roles=[]\n",
    "for c, p, r in G.edges(most_dangerous_person, data=True):\n",
    "    print(c, p, r[\"role\"])\n",
    "    Role=r[\"role\"]\n",
    "    Roles.append(Role)\n",
    "\n",
    "#transform the list of roles in a dictionary containig how many times they appear\n",
    "from collections import Counter\n",
    "counts = dict(Counter(Roles))\n",
    "print(counts)\n",
    "\n",
    "print(\"\\n2- The person appears:\")\n",
    "for key in counts:\n",
    "    print(\"%s times as %s\" % (counts[key],key))\n",
    "    \n",
    "#look for the crime with more people involved (higer degree)    \n",
    "print \n",
    "most_trending_crime=K_crime.idxmax()\n",
    "number_of_people_involved=G.degree(most_trending_crime)\n",
    "\n",
    "print(\"\\n3- The most common crime is %s, that got %s poeple involved\" % (most_trending_crime,number_of_people_involved))\n",
    "\n",
    "\n",
    "# What persons have more shared crimes in common?\n",
    "# do the unipartite projection on people: weghts give the number of shared crimes!\n",
    "people_projection = nx.bipartite.weighted_projected_graph(G, person_nodes)\n",
    "#pass it to edgelist, so we can order by weigth!\n",
    "shared_df=nx.to_pandas_edgelist(people_projection,source='person1',target='person2')\n",
    "print(\"\\n4- The persons with more shared crimes are:\")\n",
    "print(shared_df.sort_values(by=\"weight\",ascending=False).head(5))\n",
    "\n",
    "#To obtain the graph of the network\n",
    "#pos = nx.spring_layout(G) #assing position to the nodes acoording to their bipartite property\n",
    "#color_dict={\"person\":\"red\",\"crime\":\"blue\"} #dictionary of node color, each bipartite set is asociated to a different color\n",
    "#colors = [color_dict[node[1]['bipartite']] for node in G.nodes(data=True)]\n",
    "#nx.draw(G, pos, node_color=colors, with_labels=False,node_size=20)"
   ]
  },
  {
   "cell_type": "markdown",
   "id": "c52c29ea-6ef0-4673-9d65-5dfcedd1ac74",
   "metadata": {
    "tags": []
   },
   "source": [
    "### Networkx functions\n",
    "\n",
    "While several of the most-used NetworkX functions are provided as methods, as we just saw, many more of them are module functions and are called like this:\n",
    "\n",
    "    nx.<function_name>(G, <arguments>)\n",
    "\n",
    "that is, with the graph provided as the first, and maybe only, argument. Here are a couple of examples of NetworkX module functions that provide information about a graph:"
   ]
  },
  {
   "cell_type": "code",
   "execution_count": null,
   "id": "bab5317c-4e07-4004-a3f6-343eccd0ed2c",
   "metadata": {},
   "outputs": [],
   "source": [
    "# To see if a Graph is connected:\n",
    "nx.is_connected(G)"
   ]
  },
  {
   "cell_type": "code",
   "execution_count": null,
   "id": "681f2ad7-7939-4b3f-ac5b-81bb22e0e2b2",
   "metadata": {},
   "outputs": [],
   "source": [
    "# Also the function to plot a Graph\n",
    "nx.draw(G, with_labels=True)"
   ]
  },
  {
   "cell_type": "code",
   "execution_count": null,
   "id": "bfc20479-6b3b-45a6-8ce2-ff2e6932c2c1",
   "metadata": {},
   "outputs": [],
   "source": [
    "#or to know if a network is bipartite\n",
    "nx.is_bipartite(G)"
   ]
  },
  {
   "cell_type": "code",
   "execution_count": null,
   "id": "611a5dad-7f8f-4d3c-823f-ea325f1d9b2f",
   "metadata": {},
   "outputs": [],
   "source": []
  },
  {
   "cell_type": "code",
   "execution_count": null,
   "id": "d6459ad5-06ea-415d-996c-1850c6ed31db",
   "metadata": {},
   "outputs": [],
   "source": []
  }
 ],
 "metadata": {
  "kernelspec": {
   "display_name": "net-course",
   "language": "python",
   "name": "net-course"
  },
  "language_info": {
   "codemirror_mode": {
    "name": "ipython",
    "version": 3
   },
   "file_extension": ".py",
   "mimetype": "text/x-python",
   "name": "python",
   "nbconvert_exporter": "python",
   "pygments_lexer": "ipython3",
   "version": "3.12.5"
  }
 },
 "nbformat": 4,
 "nbformat_minor": 5
}
