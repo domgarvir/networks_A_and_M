{
 "cells": [
  {
   "cell_type": "markdown",
   "id": "85b1796b-2485-4b98-928e-09a7e275b382",
   "metadata": {},
   "source": [
    "# Null Models\n",
    "\n",
    "Some network models"
   ]
  },
  {
   "cell_type": "markdown",
   "id": "a280e114-a220-4871-9be5-1b0668d23e7f",
   "metadata": {},
   "source": [
    "## Random Graph (Gilber, Erdos-Renyi)"
   ]
  },
  {
   "cell_type": "markdown",
   "id": "f0a9d6d4-5835-49e1-9758-15b57ec4479e",
   "metadata": {},
   "source": [
    "## Small world model (Watts-Strogatz)"
   ]
  },
  {
   "cell_type": "markdown",
   "id": "9b000ef1-ebe4-4d43-aa09-dcc95025168e",
   "metadata": {},
   "source": [
    "## Preferential attachment (Barabasi-Albert)"
   ]
  },
  {
   "cell_type": "markdown",
   "id": "9eee192f-237d-4aa2-a45b-455b8dbf1d50",
   "metadata": {},
   "source": [
    "## Configuration model "
   ]
  },
  {
   "cell_type": "markdown",
   "id": "5a641bc8-9c36-4fae-9080-3ed456380c93",
   "metadata": {},
   "source": [
    "## Custom null models"
   ]
  },
  {
   "cell_type": "code",
   "execution_count": null,
   "id": "85ab64d1-2c83-4d16-8117-5d44e9d10bf3",
   "metadata": {},
   "outputs": [],
   "source": []
  }
 ],
 "metadata": {
  "kernelspec": {
   "display_name": "net-course",
   "language": "python",
   "name": "net-course"
  },
  "language_info": {
   "codemirror_mode": {
    "name": "ipython",
    "version": 3
   },
   "file_extension": ".py",
   "mimetype": "text/x-python",
   "name": "python",
   "nbconvert_exporter": "python",
   "pygments_lexer": "ipython3",
   "version": "3.12.5"
  }
 },
 "nbformat": 4,
 "nbformat_minor": 5
}
