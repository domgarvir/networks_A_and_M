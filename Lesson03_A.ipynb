{
 "cells": [
  {
   "cell_type": "code",
   "execution_count": null,
   "id": "8d2781c0-abed-466d-b19f-6dd4943d7807",
   "metadata": {},
   "outputs": [],
   "source": [
    "import pandas as pd\n",
    "import random as rnd\n",
    "import networkx as nx\n",
    "from networkx.algorithms import bipartite #we load the bipartite algorithms to facilitate writing the code\n",
    "import numpy as np\n",
    "import matplotlib.pyplot as plt\n",
    "from Functions import *"
   ]
  },
  {
   "cell_type": "markdown",
   "id": "4449b7dd-e454-40ca-bf06-97a34c52bde0",
   "metadata": {},
   "source": [
    "# Random networks and null models \n",
    "\n",
    "When trying to stablish if a pattern found in a network is statistically significant, you will need to compare the real networks structure with different benchmarks. These benchmark usually rely on placing the interaction in a somewhat randomized fashion."
   ]
  },
  {
   "cell_type": "markdown",
   "id": "89ba0523-f8aa-4fc8-9055-2da1b7b3995e",
   "metadata": {},
   "source": [
    "## Python's `random` module\n",
    "\n",
    "Many network models rely on randomness in their generative algorithms. Python's [random module](https://docs.python.org/3.7/library/random.html) provides four key functions of use when coding network models.\n",
    "\n",
    "### `random.random`\n",
    "\n",
    "Often in an algorithm, we need something to happen with some probability $p$. The canonical way to decide whether or not such an event happens is to generate a random number $r$ between 0 and 1, and if $r < p$, then the event occurs. The [random.random()](https://docs.python.org/3.7/library/random.html#random.random) function returns just such a random number in the interval [0, 1).\n",
    "\n",
    "For a simple example, consider an unfair coin that comes up heads 75% of the time. We can write the following code to flip such a coin 10 times, reporting the outcome each time:"
   ]
  },
  {
   "cell_type": "code",
   "execution_count": null,
   "id": "db4970b8-d9c4-45ab-90c0-674ca9d20dbd",
   "metadata": {},
   "outputs": [],
   "source": [
    "p = 0.75\n",
    "\n",
    "# Do this 10 times\n",
    "for _ in range(10):\n",
    "    r = rnd.random()\n",
    "    if r < p:\n",
    "        print('Heads')\n",
    "    else:\n",
    "        print('Tails')"
   ]
  },
  {
   "cell_type": "markdown",
   "id": "4bce8cac-0d99-4fe3-80c8-49fec930abc5",
   "metadata": {},
   "source": [
    "As we would expect from a random process, executing the previous cell again will generate a different sequence of flips -- each one is independently generated.\n",
    "\n",
    "###  `random.choice`\n",
    "\n",
    "When we have a population of discrete choices and we need to **select one at random**, we use [random.choice()](https://docs.python.org/3.7/library/random.html#random.choice). For example, instead of \"[eeny, meeny, miny, moe](https://en.wikipedia.org/wiki/Eeny,_meeny,_miny,_moe),\" we can use random.choice to choose a random name:"
   ]
  },
  {
   "cell_type": "code",
   "execution_count": null,
   "id": "7e46c571-f650-4b07-9105-0ee38ba165ae",
   "metadata": {},
   "outputs": [],
   "source": [
    "names = ['Katniss', 'Prim', 'Madge']\n",
    "rnd.choice(names)"
   ]
  },
  {
   "cell_type": "markdown",
   "id": "acb6857e-8b19-411e-ba18-cbe1fb186a63",
   "metadata": {},
   "source": [
    "### `random.sample`\n",
    "\n",
    "If we have a collection and we need to select **more than one element without replacement**, we use [random.sample()](https://docs.python.org/3.7/library/random.html#random.sample). For example, to choose two nodes at random from the nodes in a graph, we can use the following:"
   ]
  },
  {
   "cell_type": "code",
   "execution_count": null,
   "id": "dc99e90c-7af3-448f-a52e-0c62047bd63e",
   "metadata": {},
   "outputs": [],
   "source": [
    "G = nx.cycle_graph(5)\n",
    "sampled_nodes = rnd.sample(list(G.nodes), 2)\n",
    "sampled_nodes"
   ]
  },
  {
   "cell_type": "markdown",
   "id": "ab87d8e1-ce65-4ffc-9022-99b978debd9d",
   "metadata": {},
   "source": [
    "### `random.choices`\n",
    "\n",
    "We use [random.choices()](https://docs.python.org/3.7/library/random.html#random.choices) when we need to choose an element from a collection **when the chances of selecting each element are not identical**.\n",
    "\n",
    "For an example, remember in the hunger games where each kid has her name introduced a different number of times in the lotery urn. We can simulate ten different draws of the selection, replacing the drawn ticket each time, with the following code:"
   ]
  },
  {
   "cell_type": "code",
   "execution_count": null,
   "id": "321c73cd-83b5-45b6-bb57-6c10065c2cad",
   "metadata": {},
   "outputs": [],
   "source": [
    "names =['Katniss', 'Prim', 'Madge']\n",
    "tickets = [15, 1, 3] #katniss has her name in the urn 10 times, while the others have much less chances\n",
    "\n",
    "for i in range(10):\n",
    "    print(rnd.choices(names, tickets))"
   ]
  },
  {
   "cell_type": "markdown",
   "id": "38e3c947-c87b-4bed-a768-ec4eeb4790ff",
   "metadata": {},
   "source": [
    "Running the above cell should give what we expect: Katniss is chosen most often, with Bob winning some times, and Alice winning occasionally. Of course this outcome depends on the luck of the draw!\n",
    "\n",
    "By specifying the keyword argument `k=`, we can choose *k* items from the collection *with replacement*:"
   ]
  },
  {
   "cell_type": "code",
   "execution_count": null,
   "id": "90c23825-e75a-4218-9e2a-ba4eb4d0d2fd",
   "metadata": {},
   "outputs": [],
   "source": [
    "rnd.choices(names, tickets, k=20)"
   ]
  },
  {
   "cell_type": "markdown",
   "id": "f758b428-d6ee-4ec5-bf83-fdc2163ad2d0",
   "metadata": {},
   "source": [
    "The weights provided to `random.choices` do not have to be integers -- any numeric weights are fine."
   ]
  },
  {
   "cell_type": "markdown",
   "id": "b0fdc632-d4e2-40a8-b28c-33124ec76ee9",
   "metadata": {
    "tags": []
   },
   "source": [
    "## Random Graph (Erdos-Renyi)\n",
    "\n",
    "\n",
    "The random network model, as formulated by Erdos, Renyi has two parameters: the **number of nodes $N$**, and the **link probability $p$**. \n",
    "The algorithm for creating this type of network is as follows:\n",
    "\n",
    "1. Select a pair of nodes, say i and j.\n",
    "2. Generate a random number r between 0 and 1. If r < p, then add a link between i and j.\n",
    "3. Repeat (1) and (2) for all pairs of nodes.\n",
    "\n",
    "In networkX it is already implemented in the function `.gnp_random_graph`\n",
    "\n"
   ]
  },
  {
   "cell_type": "code",
   "execution_count": null,
   "id": "af1ea8f2-432e-4ee1-b6da-c330a7c32b61",
   "metadata": {},
   "outputs": [],
   "source": [
    "N=10\n",
    "p=0.5\n",
    "R1=nx.gnp_random_graph(N,p,directed=False)\n",
    "pos=nx.shell_layout(R1)\n",
    "nx.draw(R1, pos, with_labels=True)\n",
    "L=R1.number_of_edges()\n",
    "print(\"The graph has %s edges\" % L)"
   ]
  },
  {
   "cell_type": "markdown",
   "id": "5dfe080a-eb8c-4f74-a67e-37b374bb8775",
   "metadata": {},
   "source": [
    "Soemtimes is usefull to see the network as a matrix. In this case the model gives each element $A_ij$ a probability of existence $p$ which is **INDEPENDENT** of everything else. Let's see both things representing them togheter."
   ]
  },
  {
   "cell_type": "code",
   "execution_count": null,
   "id": "9e0e998a-e3d3-420f-82a6-94faf7fae9e8",
   "metadata": {},
   "outputs": [],
   "source": [
    "# Create a figure with two subplots\n",
    "fig, (ax1, ax2) = plt.subplots(1, 2, figsize=(12, 6))\n",
    "\n",
    "#plotting the network\n",
    "nx.draw(R1, pos, with_labels=True, ax=ax1) #plot the network in axis1 (ax=ax1)\n",
    "ax1.set_title('Network Representation')\n",
    "#We can visualize the amtrix like this\n",
    "adj_matrix = nx.to_numpy_array(R1) #create the adjacency matrix (we can use this because is unipartite and undirected, see Lesson01A for other cases\n",
    "ax2.imshow(adj_matrix, cmap='Greys', interpolation='none')\n",
    "ax2.set_title('Adjacency Matrix')\n",
    "\n",
    "plt.show()"
   ]
  },
  {
   "cell_type": "code",
   "execution_count": null,
   "id": "97e90cbb-12e0-4257-adb2-dfe58085147f",
   "metadata": {},
   "outputs": [],
   "source": [
    "R1=nx.gnp_random_graph(N,p,directed=False) #The probability fo the existence of each link is independent of everything!!, let's see another trial\n",
    "L=R1.number_of_edges()\n",
    "\n",
    "# Create a figure with two subplots\n",
    "fig, (ax1, ax2) = plt.subplots(1, 2, figsize=(12, 6))\n",
    "\n",
    "#plotting the network\n",
    "nx.draw(R1, pos, with_labels=True, ax=ax1) #plot the network in axis1 (ax=ax1)\n",
    "ax1.set_title('Network Representation')\n",
    "#We can visualize the amtrix like this\n",
    "adj_matrix = nx.to_numpy_array(R1) #create the adjacency matrix (we can use this because is unipartite and undirected, see Lesson01A for other cases\n",
    "ax2.imshow(adj_matrix, cmap='Greys', interpolation='none')\n",
    "ax2.set_title('Adjacency Matrix')\n",
    "\n",
    "plt.show()\n",
    "\n",
    "print(\"The graph has %s edges\" % L) #try running this code more than once ans see what happens"
   ]
  },
  {
   "cell_type": "markdown",
   "id": "9bf9c37e-524a-45fb-b1e9-ac8404e13e4b",
   "metadata": {},
   "source": [
    "As you see, the number of links chan ghance slightly. If you want to keep **exactly the number of links**, use the `gnm.random_graph()`"
   ]
  },
  {
   "cell_type": "code",
   "execution_count": null,
   "id": "c98724d2-82c3-4d65-a77f-ef835ec79481",
   "metadata": {},
   "outputs": [],
   "source": [
    "R2=nx.gnm_random_graph(N,L,directed=False) #try  directed too\n",
    "L=R2.number_of_edges()\n",
    "# Create a figure with two subplots\n",
    "fig, (ax1, ax2) = plt.subplots(1, 2, figsize=(12, 6))\n",
    "\n",
    "#plotting the network\n",
    "nx.draw(R1, pos, with_labels=True, ax=ax1) #plot the network in axis1 (ax=ax1)\n",
    "ax1.set_title('Network Representation')\n",
    "#We can visualize the amtrix like this\n",
    "adj_matrix = nx.to_numpy_array(R2) #create the adjacency matrix (we can use this because is unipartite and undirected, see Lesson01A for other cases\n",
    "ax2.imshow(adj_matrix, cmap='Greys', interpolation='none')\n",
    "ax2.set_title('Adjacency Matrix')\n",
    "\n",
    "plt.show()\n",
    "print(\"The graph has %s edges\" % L) #try running this code more than once ans see what happens"
   ]
  },
  {
   "cell_type": "markdown",
   "id": "4d3be653-725f-48ae-8535-a56c1f045214",
   "metadata": {},
   "source": [
    "<div class=\"alert alert-block alert-success\"><b>Up to you: </b>\n",
    "<h4> Exercise 18</h4>\n",
    "    \n",
    "Let's explore how are the random version of real world networks.  \n",
    "- 1. Create the random version of the St Marks stuary food-web (the file location is provided) that keeps fixed both the number of species and the number of links. \n",
    "    \n",
    "    Hint 1: we already loaded the network in lesson 1A, and got the number of nodes and links in lesson 1B.\n",
    "    \n",
    "    Hint 2: Note that we are working with a **directed graph**. \n",
    "    "
   ]
  },
  {
   "cell_type": "code",
   "execution_count": null,
   "id": "2f26c4c0-cfca-4e6d-ac5f-e29efc0e9e89",
   "metadata": {},
   "outputs": [],
   "source": [
    "filename=\"./data/WoL_StMarks/st_marks_Ilist.csv\" \n",
    "### your code here below \n",
    "# please, name your randomized network FW_R1 "
   ]
  },
  {
   "cell_type": "code",
   "execution_count": null,
   "id": "6130aced-5cb5-4de7-84e1-993164731766",
   "metadata": {},
   "outputs": [],
   "source": [
    "# %load ./snippets/ex18.py\n"
   ]
  },
  {
   "cell_type": "markdown",
   "id": "6b5f5da9-1f9a-4f3e-84f9-c4e28959ff7f",
   "metadata": {},
   "source": [
    "Ok, now we have a randomized version of the netwokr, let's see how different my empirical network and the random one is. Let's look for example at the basic building blocks in directed networks, network motifs!\n"
   ]
  },
  {
   "cell_type": "code",
   "execution_count": null,
   "id": "eac0139b-43df-45da-ba96-40bded8b1152",
   "metadata": {},
   "outputs": [],
   "source": [
    "motifs = {\n",
    "    'S1': nx.DiGraph([(1,2),(2,3)]),\n",
    "    'S2': nx.DiGraph([(1,2),(1,3),(2,3)]),\n",
    "    'S3': nx.DiGraph([(1,2),(2,3),(3,1)]),\n",
    "    'S4': nx.DiGraph([(1,2),(3,2)]),\n",
    "    'S5': nx.DiGraph([(1,2),(1,3)])\n",
    " }\n",
    "Motifs=pd.Series(mcounter_py3(FW,motifs),name=\"EMP\")\n",
    "Motifs_R1=pd.Series(mcounter_py3(FW_R1,motifs), name=\"RND_1\")"
   ]
  },
  {
   "cell_type": "code",
   "execution_count": null,
   "id": "fb064384-b3ac-4264-9865-55d64d87b0f7",
   "metadata": {},
   "outputs": [],
   "source": [
    "#lets build a dataframe with both data, so we can compare better:\n",
    "Motif_df=pd.concat([Motifs, Motifs_R1], axis=1)\n",
    "Motif_df"
   ]
  },
  {
   "cell_type": "code",
   "execution_count": null,
   "id": "cef00b12-610a-460c-b2c0-e67ec1ef5f82",
   "metadata": {},
   "outputs": [],
   "source": [
    "Motif_df.plot(logy=False)\n"
   ]
  },
  {
   "cell_type": "markdown",
   "id": "5313993b-6b98-421f-856b-4757f67a9f06",
   "metadata": {},
   "source": [
    "And what about another relevant thing in trophic networks? The trophic level of species"
   ]
  },
  {
   "cell_type": "code",
   "execution_count": null,
   "id": "dab20e8a-b0aa-419a-9db1-769d2a0a2955",
   "metadata": {},
   "outputs": [],
   "source": [
    "#let's try measuring the distribution of trophic levels, and the mean chain length\n",
    "TL=pd.Series(nx.centrality.trophic_levels(FW))#get trophic level of node\n",
    "TL_R1=pd.Series(nx.centrality.trophic_levels(FW_R1))#get trophic level of node "
   ]
  },
  {
   "cell_type": "code",
   "execution_count": null,
   "id": "01c84457-34b4-4c18-b464-239822f35cbb",
   "metadata": {},
   "outputs": [],
   "source": [
    "#create histograms: lesson2A.24 \n",
    "bins = np.arange(min(TL.min(),TL_R1.min()), max(TL.max(),TL_R1.max()) + 2, 1)#fix width of bin to 1 \n",
    "#This above can raise an error if the trophic levels are not well defined in the random version!!\n",
    "hist, bin_edges = np.histogram(TL, bins=bins)\n",
    "histr, bin_edges = np.histogram(TL_R1, bins=bins)\n",
    "\n",
    "plt.plot(bin_edges[:-1],histr,'o-',color=\"k\",alpha=0.3,label=\"GNM random\")\n",
    "plt.plot(bin_edges[:-1],hist,'o-',color=\"r\",alpha=0.3,label=\"Empirical\")\n",
    "plt.title(\"Trophic level distribution\")\n",
    "plt.xlabel(\"Trophic level of node (l)\")\n",
    "plt.legend()\n",
    "plt.ylabel(\"Number of nodes with trophic level (l)\")\n",
    "plt.show()"
   ]
  },
  {
   "cell_type": "code",
   "execution_count": null,
   "id": "30550c8c-b505-41da-bb4f-d6476f0030c6",
   "metadata": {},
   "outputs": [],
   "source": [
    "TL_R1"
   ]
  },
  {
   "cell_type": "markdown",
   "id": "80a19e5d-53c1-4a12-9856-167fb8a4a545",
   "metadata": {},
   "source": [
    "Ok, so maybe they are too diferent even to try to compare, let's take a look at both matrices to have a better idea"
   ]
  },
  {
   "cell_type": "code",
   "execution_count": null,
   "id": "7b055d72-3489-4435-b14f-ee57b117db14",
   "metadata": {},
   "outputs": [],
   "source": [
    "# Create a figure with two subplots\n",
    "fig, (ax1, ax2) = plt.subplots(1, 2, figsize=(12, 6))\n",
    "\n",
    "#plotting the network\n",
    "#We can visualize the amtrix like this (see lesson01A\n",
    "adj_matrix1=nx.to_pandas_adjacency(FW)\n",
    "#order species by increasin kin\n",
    "ordered_species=list(adj_matrix1.sum(axis=0).sort_values(ascending=True).index)\n",
    "adj_matrix1_ordered=adj_matrix1.loc[ordered_species,ordered_species]\n",
    "ax1.imshow(adj_matrix1_ordered, cmap='Greys', interpolation='none')\n",
    "ax1.set_title('Empirical')\n",
    "ax1.set_ylabel(\"Prey\")\n",
    "ax1.set_xlabel(\"Pred.\")\n",
    "#We can visualize the amtrix like this\n",
    "adj_matrix2 = nx.to_pandas_adjacency(FW_R1) #create the adjacency matrix (we can use this because is unipartite and undirected, see Lesson01A for other cases\n",
    "ax2.imshow(adj_matrix2, cmap='Greys', interpolation='none')\n",
    "ax2.set_title('Randomization')\n",
    "ax1.set_ylabel(\"Prey\")\n",
    "ax1.set_xlabel(\"Pred.\")\n",
    "plt.show()"
   ]
  },
  {
   "cell_type": "markdown",
   "id": "65416289-bcc4-4a18-8241-ba990f312218",
   "metadata": {
    "jp-MarkdownHeadingCollapsed": true,
    "tags": []
   },
   "source": [
    "We will see how to build a more refined model next, but before, let's work with bipartite networks too."
   ]
  },
  {
   "cell_type": "markdown",
   "id": "35ee40cc-80d2-465c-aa39-7b32ce9401ae",
   "metadata": {
    "tags": []
   },
   "source": [
    "## Random Graph of bipartite networks\n",
    "For bipartite networks we need to use the bipartite algorithms! For the random network with fixed link probabiltiy we have `bipartite.random.graph(top_nodes, lower_nodes)`. Let's see how it works"
   ]
  },
  {
   "cell_type": "code",
   "execution_count": null,
   "id": "d93a461b-3fda-47d7-b0b3-eb74c8a99110",
   "metadata": {},
   "outputs": [],
   "source": [
    "#random bipartite graph with link probability\n",
    "Na=4\n",
    "Nb=3\n",
    "p=0.7\n",
    "#create the random graph in networkx\n",
    "B=bipartite.random_graph(Na,Nb,p, directed=False)#create the random network\n",
    "top_nodes = {n for n, d in B.nodes(data=True) if d[\"bipartite\"] == 0}#get nodes with bipartite==0\n",
    "bottom_nodes = set(B) - top_nodes\n",
    "pos=nx.bipartite_layout(B, top_nodes)#get position of nodes\n",
    "L=B.number_of_edges()\n",
    "#create incidence matrix from bipartite network (see lesson01A)\n",
    "incidence_matrix = nx.to_pandas_adjacency(B).loc[list(top_nodes), list(bottom_nodes)]\n",
    "\n",
    "# Create a figure with two subplots\n",
    "fig, (ax1, ax2) = plt.subplots(1, 2, figsize=(12, 6))\n",
    "nx.draw(B, pos, with_labels=True, ax=ax1) #plot the network in axis1 (ax=ax1)\n",
    "ax1.set_title('Network Representation')\n",
    "#We can visualize the amtrix like this\n",
    "incidence_matrix = nx.to_pandas_adjacency(B).loc[list(top_nodes), list(bottom_nodes)]\n",
    "#inc_matrix = bipartite.biadjacency_matrix(B, row_order=list(top_nodes), column_order=list(bottom_nodes)).toarray()\n",
    "ax2.imshow(incidence_matrix, cmap='Greys', interpolation='none')\n",
    "ax2.set_title('Incidence Matrix')\n",
    "# Set the tick labels for rows and columns\n",
    "plt.yticks(ticks=np.arange(len(list(top_nodes))), labels=list(top_nodes), rotation=0)\n",
    "plt.xticks(ticks=np.arange(len(list(bottom_nodes))), labels=list(bottom_nodes))\n",
    "\n",
    "plt.show()\n",
    "print(\"The graph has %s edges\" % L) #try running this code more than once ans see what happens"
   ]
  },
  {
   "cell_type": "markdown",
   "id": "d59bf68c-62af-4467-944d-082f33ec760f",
   "metadata": {},
   "source": [
    "<div class=\"alert alert-block alert-success\"><b>Up to you: </b>\n",
    "<h4> Exercise 19</h4>\n",
    "    \n",
    "Let's explore how are the random version of real world networks.     \n",
    " - 1. Create the random version of a bipartite network of pollination in Doñana (filename provided) that keeps **fixed the number of links** and **the number of nodes** (`bipartite.gnmk_random_graph(top_nodes, bottom_nodes`)). \n",
    "    \n",
    "    \n",
    "- 2. Once you have it plot the degree distribution of the original network and of the randomized version. \n",
    "    \n",
    "- 3. Finally plot also the cumulatice degree ditribution of both networks\n",
    "    \n",
    "</div>"
   ]
  },
  {
   "cell_type": "code",
   "execution_count": null,
   "id": "47a8b928-17ee-4dfe-9c56-017e6944a495",
   "metadata": {},
   "outputs": [],
   "source": [
    "#the network is stored in matrix form in this file\n",
    "filename=\"./data/pollination/Herrera_Donana.csv\"\n",
    "##1.A Read the matrix and create the bipartite Network #Lesson01_A\n",
    "##1.B Get the number of nodes and number of links, #lesson01_B\n",
    "##1.C Create the random version of the network using the NL null model\n",
    "#   B_NL=bipartite.gnmk_random_graph(N,L)\n",
    "##2.A Retrieve the pollinator degree sequence of the networks # hint:take into consideration that while in the real network species have names, \n",
    "# in the randomized version they have only numbers. Remember that you can retrieve the nodes in one set by looking at their bipartite attribute. #Lesson02A  \n",
    "##2.B build the histogram of degree of both networks from the series of node degree #Lesson02A\n",
    "##3.A build the cumulative degree distribution of both networks #Lesson02A"
   ]
  },
  {
   "cell_type": "code",
   "execution_count": null,
   "id": "21f8ba6c-cad1-43c5-ab04-62bcda9d1a51",
   "metadata": {},
   "outputs": [],
   "source": [
    "# %load ./snippets/ex19a.py\n"
   ]
  },
  {
   "cell_type": "code",
   "execution_count": null,
   "id": "8099d363-5e54-424d-9148-1ad7a4fdca85",
   "metadata": {},
   "outputs": [],
   "source": [
    "# %load ./snippets/ex19b.py\n"
   ]
  },
  {
   "cell_type": "markdown",
   "id": "39b6a66b-00ee-4670-b2f3-dd4a0d73d0fd",
   "metadata": {},
   "source": [
    "As we see, some propoerties like the size of the network, or the number of links, are the same in the random version of the network, while others like the degree distribution, are not. "
   ]
  },
  {
   "cell_type": "markdown",
   "id": "ab97f7b6-8d9e-47a5-8e58-d02ea961f0b6",
   "metadata": {},
   "source": [
    "## Configuration model \n",
    "\n",
    "As we have seen already, the degree distribution of the network is very relevant and can detemrine many other features of the networks. The configuration model take this into condieration when generating a null model. The configuration model generates a random graph with a given degree distribution. For that we need to provide the degree sequence (a list of the degree of each node) and the number of nodes in the graph. Networkx already has an implemented algorithm `nx.configuration_model(degree_sequence)`"
   ]
  },
  {
   "cell_type": "code",
   "execution_count": null,
   "id": "a8a484a2-740b-483a-9b0c-750a4586f0cb",
   "metadata": {},
   "outputs": [],
   "source": [
    "# Parameters for the graph\n",
    "N = 100  # Number of nodes\n",
    "p = 0.025# Probability for the binomial distribution (adjust as needed)\n",
    "\n",
    "degree_sequence = np.random.binomial(N - 1, p, size=N)\n",
    "\n",
    "# Ensure the sum of degrees is even, since it's required for the configuration model as you need to connect all nodes' stubs!!\n",
    "if sum(degree_sequence) % 2 != 0:\n",
    "    # If the sum is odd, add 1 to a random element to make it even\n",
    "    degree_sequence[np.random.randint(0, N)] += 1\n",
    "\n",
    "G = nx.configuration_model(degree_sequence, create_using=nx.Graph()) #avoid multiple edges problem\n",
    "pos=nx.spring_layout(G)\n",
    "nx.draw(G,pos,node_size=50)\n",
    "print(G.number_of_edges())\n"
   ]
  },
  {
   "cell_type": "code",
   "execution_count": null,
   "id": "7380dfee-d22c-4500-9fc5-6039731f9bd2",
   "metadata": {},
   "outputs": [],
   "source": [
    "#now lets change the degree distribution!\n",
    "exponent = 2.1  # Power-law exponent (commonly between 2 and 3 for scale-free networks)\n",
    "# Generate a degree sequence from a power-law distribution\n",
    "# The formula for a scale-free degree sequence: x = k_min * (1 - r)^(1/(1 - alpha))\n",
    "degree_sequence = np.random.zipf(a=exponent, size=N)\n",
    "# Ensure that the degree sequence is appropriate for the configuration model\n",
    "# Adjust the degrees if they exceed the possible maximum for N-1 neighbors\n",
    "degree_sequence = np.clip(degree_sequence, 1, N - 1)\n",
    "# Ensure the sum of degrees is even, which is required for the Configuration Model\n",
    "if sum(degree_sequence) % 2 != 0:\n",
    "    # If the sum is odd, add 1 to a random element to make it even\n",
    "    degree_sequence[np.random.randint(0, N)] += 1\n",
    "# Create a graph using the configuration model\n",
    "G = nx.configuration_model(degree_sequence, create_using=nx.Graph())\n",
    "\n",
    "pos=nx.spring_layout(G)\n",
    "nx.draw(G,pos, node_size=50)\n",
    "print(G.number_of_edges())"
   ]
  },
  {
   "cell_type": "markdown",
   "id": "7e5525b6-28fc-4d1e-a10e-db0a570bb17c",
   "metadata": {},
   "source": [
    "We can use the **configuration model** to generate a randomized version of an empirical network. Let's create a random version of the St Marks food-web using the configuration model."
   ]
  },
  {
   "cell_type": "code",
   "execution_count": null,
   "id": "7ca57ed4-0c7f-43d2-a58d-181eb68a1915",
   "metadata": {},
   "outputs": [],
   "source": [
    "#Get the In and OUT degree sequences, that we are going to use to create \n",
    "Kin=pd.Series(dict(FW.in_degree()))\n",
    "Kout=pd.Series(dict(FW.out_degree()))\n",
    "\n",
    "#create the randomized version\n",
    "FW_R2 = nx.directed_configuration_model(Kin, Kout, create_using=nx.DiGraph())"
   ]
  },
  {
   "cell_type": "code",
   "execution_count": null,
   "id": "73054ec8-29f5-47be-8ce6-e940fb3f0b1a",
   "metadata": {},
   "outputs": [],
   "source": [
    "# Create a figure with two subplots\n",
    "fig, (ax1, ax2) = plt.subplots(1, 2, figsize=(12, 6))\n",
    "\n",
    "#plotting the network\n",
    "#We can visualize the amtrix like this (see lesson01A\n",
    "adj_matrix1=nx.to_pandas_adjacency(FW)\n",
    "#order species by increasin kin\n",
    "ordered_species=list(adj_matrix1.sum(axis=0).sort_values(ascending=True).index)\n",
    "adj_matrix1_ordered=adj_matrix1.loc[ordered_species,ordered_species]\n",
    "ax1.imshow(adj_matrix1_ordered, cmap='Greys', interpolation='none')\n",
    "ax1.set_title('Empirical')\n",
    "ax1.set_ylabel(\"Prey\")\n",
    "ax1.set_xlabel(\"Pred.\")\n",
    "#We can visualize the amtrix like this\n",
    "adj_matrix2 = nx.to_pandas_adjacency(FW_R2) #create the adjacency matrix (we can use this because is unipartite and undirected, see Lesson01A for other cases\n",
    "ax2.imshow(adj_matrix2, cmap='Greys', interpolation='none')\n",
    "ax2.set_title('Randomization')\n",
    "ax1.set_ylabel(\"Prey\")\n",
    "ax1.set_xlabel(\"Pred.\")\n",
    "plt.show()"
   ]
  },
  {
   "cell_type": "markdown",
   "id": "069da150-95f7-4669-9f5a-510365be6eb3",
   "metadata": {},
   "source": [
    "Looks like they are more similar! However, even if more things remain similar in the empirical and the randomization, there are still structures that looks different in boht of them. For example how species are distributed in trophic levels! (but at least now we could get trophic levels)"
   ]
  },
  {
   "cell_type": "code",
   "execution_count": null,
   "id": "da1d3b95-92ba-4a67-b5b1-a10d807d709d",
   "metadata": {},
   "outputs": [],
   "source": [
    "#let's try measuring the distribution of trophic levels, and the mean chain length\n",
    "TL=pd.Series(nx.centrality.trophic_levels(FW))#get trophic level of node\n",
    "TL_R2=pd.Series(nx.centrality.trophic_levels(FW_R2))#get trophic level of node\n",
    "\n",
    "#create histograms: lesson2A.24\n",
    "bins = np.arange(min(TL.min(),TL_R2.min()), max( TL.max(),TL_R2.max()) + 2, 1)#fix width of bin to 1\n",
    "hist, bin_edges = np.histogram(TL, bins=bins)\n",
    "histr, bin_edges = np.histogram(TL_R2, bins=bins)\n",
    "\n",
    "plt.plot(bin_edges[:-1],histr,'o-',color=\"k\",alpha=0.3,label=\"Random\")\n",
    "plt.plot(bin_edges[:-1],hist,'o-',color=\"r\",alpha=0.3,label=\"Empirical\")\n",
    "plt.title(\"Trophic level distribution\")\n",
    "plt.xlabel(\"Trophic level of node (l)\")\n",
    "plt.legend()\n",
    "plt.ylabel(\"Number of nodes with trophic level (l)\")\n",
    "plt.show()"
   ]
  },
  {
   "cell_type": "markdown",
   "id": "603688ac-3f9b-4316-b839-f086a1e513e8",
   "metadata": {},
   "source": [
    "And if we look at the motifs again we see that the randomized version is not much better"
   ]
  },
  {
   "cell_type": "code",
   "execution_count": null,
   "id": "007fe19a-2907-4f97-bf6c-427fcec06594",
   "metadata": {},
   "outputs": [],
   "source": [
    "Motifs_R2=pd.Series(mcounter_py3(FW_R2,motifs), name=\"RND_2\")"
   ]
  },
  {
   "cell_type": "code",
   "execution_count": null,
   "id": "04149ae8-4ba8-4e91-a1aa-27bc13ed85cf",
   "metadata": {},
   "outputs": [],
   "source": [
    "Motif_df=pd.concat([Motif_df,Motifs_R2], axis=1)"
   ]
  },
  {
   "cell_type": "code",
   "execution_count": null,
   "id": "aff3ddbe-61c4-4f94-82d0-30f85a7d1088",
   "metadata": {},
   "outputs": [],
   "source": [
    "Motif_df.plot(logy=False)\n",
    "plt.show()"
   ]
  },
  {
   "cell_type": "code",
   "execution_count": null,
   "id": "38a8703f-1340-425d-ad6c-0dd95626a98c",
   "metadata": {},
   "outputs": [],
   "source": [
    "#let's compute the \"diameter\", that is the maximum of the minimum shortests paths. In directed networks like this one sometimes we cannot measure directly the diameter \n",
    "#as they are not strongly connected. In these cases we can compute the excentricity of each node and get the maximum\n",
    "# Compute the eccentricity for each node in the original foodweb\n",
    "eccentricities = {}\n",
    "for node in FW.nodes:\n",
    "    lengths = nx.single_source_shortest_path_length(FW, node)\n",
    "    if lengths:\n",
    "        eccentricities[node] = max(lengths.values())\n",
    "\n",
    "# The pseudo-diameter is the maximum eccentricity\n",
    "pseudo_diameter = max(eccentricities.values())\n",
    "\n",
    "# Compute the eccentricity for each node in the randomized foodweb\n",
    "eccentricitiesrnd = {}\n",
    "for node in FW_R2.nodes:\n",
    "    lengths = nx.single_source_shortest_path_length(FW_R2, node)\n",
    "    if lengths:\n",
    "        eccentricitiesrnd[node] = max(lengths.values())\n",
    "\n",
    "# The pseudo-diameter is the maximum eccentricity\n",
    "pseudo_diameterrnd = max(eccentricitiesrnd.values())\n",
    "\n",
    "print(\"The diameter of the foodweb is %s and of a randomized version %s\" %(pseudo_diameter,pseudo_diameterrnd))"
   ]
  },
  {
   "cell_type": "markdown",
   "id": "876edd48-c1ab-4e3d-a1d9-c1e76a0ecddb",
   "metadata": {},
   "source": [
    "## Configuration model of bipartite graphs\n",
    "\n",
    "To generate a bipartite network in the configuration model we will use the function `bipartite.configuration_model(aseq,bseq))`, that takes as vaiables the degree sequences of the top and bottom nodes. As before, we ned to create the two degree sequences (either reading them from a real network, or by sampling numbers from a given distribution)."
   ]
  },
  {
   "cell_type": "markdown",
   "id": "45801d73-6459-4cf8-b574-9c1dc74f0e60",
   "metadata": {},
   "source": [
    "<div class=\"alert alert-block alert-success\"><b>Up to you: </b>\n",
    "<h4> Exercise 20</h4>\n",
    "    \n",
    "- 1. Create a random version of the pollination network we loaded keeping fized the number of nodes (**N**), and the degree dsitributions (**$P(K_a)$** and **$P(K_p)$**). \n",
    "\n",
    "- 2. Repeat what you did in exercise 19: plot the degree distribution and the cumulative degree distribution togheter with the empirical one, and the one from the random model\n",
    "    \n",
    "Hint:remember you need the degree sequence of both plants and pollinators\n",
    "    \n",
    "</div>"
   ]
  },
  {
   "cell_type": "code",
   "execution_count": null,
   "id": "2d300390-a260-427d-9a9e-8dc4de5e736b",
   "metadata": {},
   "outputs": [],
   "source": [
    "#yourcode here \n",
    "# name the new random network B_R2\n"
   ]
  },
  {
   "cell_type": "code",
   "execution_count": null,
   "id": "0949fda6-e6bd-4975-ac08-24fbafdc8fbf",
   "metadata": {},
   "outputs": [],
   "source": [
    "# %load ./snippets/ex20a.py\n"
   ]
  },
  {
   "cell_type": "code",
   "execution_count": null,
   "id": "23916426-34a4-4d52-92ae-cbaf9a2a9279",
   "metadata": {},
   "outputs": [],
   "source": [
    "# %load ./snippets/ex20b.py\n"
   ]
  },
  {
   "cell_type": "markdown",
   "id": "6406f44f-48be-4043-84a4-fb50805f025a",
   "metadata": {},
   "source": [
    "Let's try measuring other global level metrics that are relevant in bipartite networks, nestedness for example (as in lesson 2B)"
   ]
  },
  {
   "cell_type": "code",
   "execution_count": null,
   "id": "b10097c9-34ba-4c02-8256-fedde44616b6",
   "metadata": {},
   "outputs": [],
   "source": [
    "bottom_nodes = {n for n, d in B.nodes(data=True) if d[\"bipartite\"] == \"plant\"}#get nodes with bipartite==0\n",
    "eta_emp=nestedness_bipartite(B,bottom_nodes)\n",
    "print(eta_emp)"
   ]
  },
  {
   "cell_type": "code",
   "execution_count": null,
   "id": "5b208a80-77ae-410c-a2e4-0fd331a5bebe",
   "metadata": {},
   "outputs": [],
   "source": [
    "bottom_nodesR = {n for n, d in B_R1.nodes(data=True) if d[\"bipartite\"] == \"plant\"}#get nodes with bipartite==0\n",
    "eta_R1=nestedness_bipartite(B_R1,bottom_nodesR)\n",
    "print(eta_R1)"
   ]
  },
  {
   "cell_type": "code",
   "execution_count": null,
   "id": "cfd024cc-7546-4683-a825-793e314edd56",
   "metadata": {},
   "outputs": [],
   "source": [
    "bottom_nodesR = {n for n, d in B_R2.nodes(data=True) if d[\"bipartite\"] == \"plant\"}#get nodes with bipartite==0\n",
    "eta_R2=nestedness_bipartite(B_R2,bottom_nodesR)\n",
    "print(eta_R2)"
   ]
  },
  {
   "cell_type": "markdown",
   "id": "e4c895e3-3262-4f5b-a7ec-9afcd72a859c",
   "metadata": {},
   "source": [
    "## Random graphs that keep the degree sequence\n",
    "\n",
    "In some cases you may want to keep exactly the degree sequence of interest. In this case the left possibility is to swap the interaction between different nodes, but keeping the number of connections each. USe the function  `rewire_constant_Kseq` to generate a new network with the same degree sequence."
   ]
  },
  {
   "cell_type": "code",
   "execution_count": null,
   "id": "16b61ff1-cf36-4da1-8dc9-c96917176b03",
   "metadata": {},
   "outputs": [],
   "source": [
    "FW_R3=randomization_constant_Kseq(FW, directed=True)"
   ]
  },
  {
   "cell_type": "code",
   "execution_count": null,
   "id": "76506513-5812-4ee7-81f2-5bb1ceb142cb",
   "metadata": {},
   "outputs": [],
   "source": [
    "# Create a figure with two subplots\n",
    "fig, (ax1, ax2) = plt.subplots(1, 2, figsize=(12, 6))\n",
    "\n",
    "#plotting the network\n",
    "#We can visualize the amtrix like this (see lesson01A\n",
    "adj_matrix1=nx.to_pandas_adjacency(FW)\n",
    "#order species by increasin kin\n",
    "ordered_species=list(adj_matrix1.sum(axis=0).sort_values(ascending=True).index)\n",
    "adj_matrix1_ordered=adj_matrix1.loc[ordered_species,ordered_species]\n",
    "ax1.imshow(adj_matrix1, cmap='Greys', interpolation='none')\n",
    "ax1.set_title('Empirical')\n",
    "ax1.set_ylabel(\"Prey\")\n",
    "ax1.set_xlabel(\"Pred.\")\n",
    "#We can visualize the amtrix like this\n",
    "adj_matrix3 = nx.to_pandas_adjacency(FW_R3) #create the adjacency matrix (we can use this because is unipartite and undirected, see Lesson01A for other cases\n",
    "ax2.imshow(adj_matrix3, cmap='Greys', interpolation='none')\n",
    "ax2.set_title('Randomization')\n",
    "ax1.set_ylabel(\"Prey\")\n",
    "ax1.set_xlabel(\"Pred.\")\n",
    "plt.show()"
   ]
  },
  {
   "cell_type": "markdown",
   "id": "5263602e-6b1f-435d-888f-3f013a37813e",
   "metadata": {},
   "source": [
    "Let's see the type of motifs in this randomized network"
   ]
  },
  {
   "cell_type": "code",
   "execution_count": null,
   "id": "dcc1288e-c4b7-48b2-972f-44f8d63b539f",
   "metadata": {},
   "outputs": [],
   "source": [
    "Motifs_R3=pd.Series(mcounter_py3(FW_R3,motifs), name=\"RND_3\")"
   ]
  },
  {
   "cell_type": "code",
   "execution_count": null,
   "id": "38acaddc-269d-4883-b00c-a0afd07641db",
   "metadata": {},
   "outputs": [],
   "source": [
    "Motif_df=pd.concat([Motif_df,Motifs_R3], axis=1)"
   ]
  },
  {
   "cell_type": "code",
   "execution_count": null,
   "id": "a686bb57-e10c-4fc3-aae2-43f9b7662f76",
   "metadata": {},
   "outputs": [],
   "source": [
    "Motif_df"
   ]
  },
  {
   "cell_type": "code",
   "execution_count": null,
   "id": "3ac4a647-f331-4d69-9dac-0033399857bc",
   "metadata": {},
   "outputs": [],
   "source": [
    "Motif_df.plot(logy=False)\n",
    "plt.show()"
   ]
  },
  {
   "cell_type": "markdown",
   "id": "19235065-b1f2-4d79-a07b-3ca18224b999",
   "metadata": {},
   "source": [
    "<div class=\"alert alert-block alert-success\"><b>Up to you: </b>\n",
    "<h4> Exercise 21</h4>\n",
    "    \n",
    "- 1. Create the random version of the pollination network keeping fixed the number of nodes (*$N$*), number of links (*$L$*), and exact degree sequences (*$K_a$*, *$K_p$*).\n",
    "For bipartite networks use `B_R3=randomization_constant_Kseq_bipart(B,bottom_nodes,top_nodes)`\n",
    "\n",
    "- 2. Compute its nestedness\n",
    "    \n",
    "</div>"
   ]
  },
  {
   "cell_type": "code",
   "execution_count": null,
   "id": "134f7cd8-eaec-4929-8b59-dd363ee44e00",
   "metadata": {},
   "outputs": [],
   "source": [
    "#your code here.\n",
    "#please name you new random network B_R3\n"
   ]
  },
  {
   "cell_type": "code",
   "execution_count": null,
   "id": "71a99b56-d301-4309-8a06-8ad942a88074",
   "metadata": {},
   "outputs": [],
   "source": [
    "# %load ./snippets/ex21.py\n"
   ]
  },
  {
   "cell_type": "code",
   "execution_count": null,
   "id": "4a698b07-0e45-4fc3-8993-9fb3263ebd61",
   "metadata": {},
   "outputs": [],
   "source": [
    "# Create a figure with two subplots\n",
    "fig, (ax1, ax2) = plt.subplots(1, 2, figsize=(12, 6))\n",
    "\n",
    "#plotting the network\n",
    "#We can visualize the amtrix like this (see lesson01A\n",
    "I_matrix1=nx.to_pandas_adjacency(B).loc[list(bottom_nodes), list(top_nodes)]\n",
    "#order species by increasin kin\n",
    "#ordered_species=list(I_matrix1.sum(axis=0).sort_values(ascending=True).index)\n",
    "#I_matrix1_ordered=I_matrix1.loc[ordered_species,ordered_species]\n",
    "ax1.imshow(I_matrix1, cmap='Greys', interpolation='none')\n",
    "ax1.set_title('Empirical')\n",
    "ax1.set_ylabel(\"Pol\")\n",
    "ax1.set_xlabel(\"Plant.\")\n",
    "#We can visualize the amtrix like this\n",
    "I_matrix3 = nx.to_pandas_adjacency(B_R3).loc[list(bottom_nodesR), list(top_nodesR)]#create the adjacency matrix (we can use this because is unipartite and undirected, see Lesson01A for other cases\n",
    "ax2.imshow(I_matrix3, cmap='Greys', interpolation='none')\n",
    "ax2.set_title('Randomization')\n",
    "ax1.set_ylabel(\"Pol\")\n",
    "ax1.set_xlabel(\"Plant.\")\n",
    "plt.show()"
   ]
  },
  {
   "cell_type": "markdown",
   "id": "15459ef0-f498-400d-aaec-6723786286d6",
   "metadata": {},
   "source": [
    "So it seems that we can get somewhat \"closer\" to some of these empirical patterns,but still remains the question of how can I know if what I am seeing in an empirical network is significantly different from what could be expected given the null model assumptions? "
   ]
  },
  {
   "cell_type": "markdown",
   "id": "df31e404-33b8-417b-a9f8-f8eb28c9a330",
   "metadata": {
    "tags": []
   },
   "source": [
    "## Small world model (Watts-Strogatz)\n",
    "\n",
    "The algorithm for generating a small-world network is as such:\n",
    "\n",
    "1. Begin with a ring of $N$ nodes\n",
    "2. Connect each node to its $k$ nearest neighbors (or $k-1$ if k is odd).\n",
    "3. For each edge $(u, v)$, with probability $p$, replace edge $(u, v)$ with $(u, w)$ where $w$ is not a neighbor of $u$.\n"
   ]
  },
  {
   "cell_type": "code",
   "execution_count": null,
   "id": "34e61424-39a1-46a9-a856-14878d6f7a8e",
   "metadata": {},
   "outputs": [],
   "source": [
    "N=12\n",
    "p=0.1\n",
    "k=4\n",
    "WS=nx.watts_strogatz_graph(N,k,p)\n",
    "pos=nx.circular_layout(WS)\n",
    "nx.draw(WS, pos,with_labels=True) #Try again and see what happens"
   ]
  },
  {
   "cell_type": "markdown",
   "id": "50726e62-b298-4943-8ec9-0197e21aeb69",
   "metadata": {},
   "source": [
    "This graph has two properties that where found in real world networks: small average distances and high clustering.\n",
    "Let's see it in action by looking at a network of physicians, that captures innovation spread among 246 physicians in for towns in Illinois, meaning that the physicians share a link if they trust each other and recommend their practices."
   ]
  },
  {
   "cell_type": "code",
   "execution_count": null,
   "id": "9725b7cf-57bb-4af1-a523-e164bd882441",
   "metadata": {},
   "outputs": [],
   "source": [
    "fb=read_graph_facebook()\n",
    "from networkx.algorithms.approximation import average_clustering\n",
    "c_emp = average_clustering(fb)\n",
    "print(c_emp)\n",
    "l_emp = estimate_path_length(fb)\n",
    "print(l_emp)\n",
    "N=fb.number_of_nodes()\n",
    "print(N)\n",
    "L=fb.number_of_edges()\n",
    "print(L)\n",
    "k=L/N\n",
    "print(k)"
   ]
  },
  {
   "cell_type": "code",
   "execution_count": null,
   "id": "502a117c-5df4-4550-941c-d9d36aaaf9b2",
   "metadata": {},
   "outputs": [],
   "source": [
    "#N=fb.number_of_nodes()\n",
    "#k=8\n",
    "p=0.0\n",
    "WS=nx.newman_watts_strogatz_graph(N,int(k),p)"
   ]
  },
  {
   "cell_type": "code",
   "execution_count": null,
   "id": "9ca00eb2-ecaa-4346-80b4-40d1b189dd21",
   "metadata": {},
   "outputs": [],
   "source": [
    "c_0=average_clustering(WS)\n",
    "l_0=estimate_path_length(WS)\n",
    "print(c_0,l_0)"
   ]
  },
  {
   "cell_type": "code",
   "execution_count": null,
   "id": "b9cbe486-0582-45e1-9bcc-9d5e4157d5b5",
   "metadata": {},
   "outputs": [],
   "source": [
    "p_values = np.arange(0, 0.99, 0.01)\n",
    "C_ws=[]\n",
    "L_ws=[]\n",
    "for p in p_values:\n",
    "    print(p,end='\\r')\n",
    "    WS=nx.newman_watts_strogatz_graph(N,int(k),p)\n",
    "    C_ws.append(average_clustering(WS))\n",
    "    L_ws.append(estimate_path_length(WS))"
   ]
  },
  {
   "cell_type": "code",
   "execution_count": null,
   "id": "e8ba3d3f-ad91-4bfb-9ca1-cec285b38a04",
   "metadata": {},
   "outputs": [],
   "source": [
    "# Create a figure with two subplots\n",
    "fig, (ax1,ax2) = plt.subplots(1, 2, figsize=(12, 6))\n",
    "ax1.plot(p_values,C_ws,'o')\n",
    "ax1.axhline(y = c_emp/1, color = 'k', linestyle = '-') \n",
    "ax1.set_xlabel('p')\n",
    "ax1.set_ylabel('clustering (C)')\n",
    "ax2.plot(p_values,L_ws,'o')\n",
    "ax2.axhline(y = l_emp/1, color = 'k', linestyle = '-') \n",
    "ax2.set_xlabel('p')\n",
    "ax2.set_ylabel('av. Length (l)')\n",
    "ax2.set_yscale('log')"
   ]
  },
  {
   "cell_type": "markdown",
   "id": "3a393e83-e674-4ed4-9a3e-05f9e0534129",
   "metadata": {},
   "source": [
    "However, while the average degree, and the small wolrd properties seem to be ok, let's look a little more in detail the degree distribution of the empirical network compared to the model one."
   ]
  },
  {
   "cell_type": "code",
   "execution_count": null,
   "id": "3e77d739-48e3-46af-a70d-99ffb9b021cf",
   "metadata": {},
   "outputs": [],
   "source": [
    "K=pd.Series(dict(fb.degree()))\n",
    "print(K.mean())\n",
    "print(K.std())"
   ]
  },
  {
   "cell_type": "code",
   "execution_count": null,
   "id": "89a161ce-806d-476c-9ad6-4619b0ce7cde",
   "metadata": {},
   "outputs": [],
   "source": [
    "Kws=pd.Series(dict(WS.degree()))\n",
    "print(Kws.mean())\n",
    "print(Kws.std())"
   ]
  },
  {
   "cell_type": "code",
   "execution_count": null,
   "id": "c3400257-2237-48c3-856b-79a9e129f452",
   "metadata": {},
   "outputs": [],
   "source": [
    "K_emp=pd.Series(dict(fb.degree()))\n",
    "K_ws =pd.Series(dict(WS.degree()))\n",
    "#2.B build the histograms - lesson2A.24\n",
    "bins = np.arange(min(K_emp.min(),K_ws.min()), max( K_emp.max(),K_ws.max()) + 2, 1)#fix width of bin to 1\n",
    "hist, bin_edges = np.histogram(K_emp, bins=bins)\n",
    "hist_ws, bin_edges = np.histogram(K_ws, bins=bins)\n",
    "\n",
    "plt.plot(bin_edges[:-1],hist_ws,'o-',color=\"r\",alpha=0.3,label=\"WS\")\n",
    "plt.plot(bin_edges[:-1],hist,'o-',color=\"k\",alpha=0.3,label=\"Empirical\")\n",
    "plt.plot(bin_edges[:-1], PL(bin_edges[:-1], *[5587,1.3]), label='PL', color=\"grey\", linestyle='dashed',lw=2) #fixig the exponent by eye\n",
    "plt.title(\"Degree distribution\")\n",
    "plt.xlabel(\"Degree of node (K)\")\n",
    "plt.ylabel(\"Number of nodes with degree K\")\n",
    "plt.xscale(\"log\")\n",
    "plt.yscale(\"log\")\n",
    "plt.legend()\n",
    "plt.show()"
   ]
  },
  {
   "cell_type": "markdown",
   "id": "f73d7354-dde7-43a4-aaa8-f70026784525",
   "metadata": {
    "tags": []
   },
   "source": [
    "## Preferential attachment (Barabasi-Albert)\n",
    "\n",
    "The Barabási-Albert preferential attachment model has two parameters: the number of nodes $N$, and the number of links added at each step $m$. Given these parameters, the algorithm is as follows:\n",
    "\n",
    "1. Start with a clique of $m + 1$ nodes.\n",
    "2. Select $m$ different nodes at random, weighted by their degree.\n",
    "3. Add a new node $i$ and link it with the $m$ nodes from the previous step.\n",
    "4. Repeat 2-3 until there are N nodes in the graph.\n",
    "\n",
    "In networkX it is already implemented in `barabasi_albert_graph()`"
   ]
  },
  {
   "cell_type": "code",
   "execution_count": null,
   "id": "dd68522f-da97-4e4d-bc62-28a9b19cbe21",
   "metadata": {},
   "outputs": [],
   "source": [
    "N=50\n",
    "L=1\n",
    "BA=nx.barabasi_albert_graph(N,L)\n",
    "pos=nx.kamada_kawai_layout(BA)\n",
    "nx.draw(BA)"
   ]
  },
  {
   "cell_type": "markdown",
   "id": "82fb8b5b-d656-478a-b218-feb4336eaf6b",
   "metadata": {},
   "source": [
    "This model sastisfy the heterogeneous degree distributions that are found in the real world networks. Let's try to build a model of our network"
   ]
  },
  {
   "cell_type": "code",
   "execution_count": null,
   "id": "ab3ba29d-24a2-4107-9348-ce75d9f3095e",
   "metadata": {},
   "outputs": [],
   "source": [
    "BA = nx.barabasi_albert_graph(4039, 22)\n",
    "print(BA.number_of_nodes(),2*BA.number_of_edges()/BA.number_of_nodes())"
   ]
  },
  {
   "cell_type": "code",
   "execution_count": null,
   "id": "5bfb6bc3-d8de-42cc-a013-fb8c6c42e50a",
   "metadata": {},
   "outputs": [],
   "source": [
    "K_ba =pd.Series(dict(BA.degree()))\n",
    "#2.B build the histograms - lesson2A.24\n",
    "bins = np.arange(min(K_emp.min(),K_ws.min(),K_ba.min()), max( K_emp.max(),K_ws.max(),K_ba.max()) + 2, 1)#fix width of bin to 1\n",
    "hist, bin_edges = np.histogram(K_emp, bins=bins)\n",
    "hist_ws, bin_edges = np.histogram(K_ws, bins=bins)\n",
    "hist_ba, bin_edges = np.histogram(K_ba, bins=bins)\n",
    "\n",
    "plt.plot(bin_edges[:-1],hist_ws,'o-',color=\"r\",alpha=0.3,label=\"WS\")\n",
    "plt.plot(bin_edges[:-1],hist,'o-',color=\"k\",alpha=0.3,label=\"Empirical\")\n",
    "plt.plot(bin_edges[:-1],hist_ba,'o-',color=\"b\",alpha=0.3,label=\"BA\")\n",
    "plt.plot(bin_edges[:-1], PL(bin_edges[:-1], *[5587,1.3]), label='PL', color=\"grey\", linestyle='dashed',lw=2) #fixig the exponent by eye\n",
    "plt.title(\"Degree distribution\")\n",
    "plt.xlabel(\"Degree of node (K)\")\n",
    "plt.ylabel(\"Number of nodes with degree K\")\n",
    "plt.xscale(\"log\")\n",
    "plt.yscale(\"log\")\n",
    "plt.legend()\n",
    "plt.show()"
   ]
  },
  {
   "cell_type": "code",
   "execution_count": null,
   "id": "be87ee0e-4db7-4298-8ccd-db547931814a",
   "metadata": {},
   "outputs": [],
   "source": [
    "c_ba=average_clustering(BA)\n",
    "l_ba=estimate_path_length(BA)\n",
    "print(c_ba,l_ba)"
   ]
  },
  {
   "cell_type": "markdown",
   "id": "e2a86cb1-968b-42dc-bcf4-74a367059efa",
   "metadata": {},
   "source": [
    "## Stochastic Block Models (SBMs)\n",
    "\n",
    "Networkx has a function to generate a SBM `nx.stochastic_block_model(size, probs, seed=seed)` where you need to provide a list with the sizes of the nodes in each communities and  the deges probabilites between (and inside) the community. Let's see an example af an assortative mixing: similar nodes connect to similar nodes"
   ]
  },
  {
   "cell_type": "code",
   "execution_count": null,
   "id": "27f9ff29-20e2-498f-9a1b-eea537c6f185",
   "metadata": {},
   "outputs": [],
   "source": [
    "# Set size of each community\n",
    "community_sizes = [10, 10, 10]\n",
    "# Edge probabilities between each community\n",
    "community_probs = [[0.5, 0.01, 0.02], \n",
    "                   [0.01, 0.5, 0.05], \n",
    "                   [0.02, 0.05, 0.5]]\n",
    "\n",
    "\n",
    "G_sbm = nx.stochastic_block_model(community_sizes, community_probs)\n",
    "\n"
   ]
  },
  {
   "cell_type": "code",
   "execution_count": null,
   "id": "3b6dc593-ba2c-43d9-8a0f-0651ca1a3afd",
   "metadata": {},
   "outputs": [],
   "source": [
    "#fin best communities with louvain\n",
    "partition = nx.community.louvain_communities(G_sbm)\n",
    "\n",
    "best_partition_map = create_partition_map(partition)\n",
    "node_colors = [best_partition_map[n] for n in G_sbm.nodes()]\n",
    "nx.draw(G_sbm,with_labels=True, node_color=node_colors)"
   ]
  },
  {
   "cell_type": "markdown",
   "id": "9f586318-69f5-4252-9770-5c249087d6b5",
   "metadata": {},
   "source": [
    "It is possible also to create a **disasortative** mixing configuration, where nodes tend to connect more strongly with nodes in different \"compartments\"."
   ]
  },
  {
   "cell_type": "code",
   "execution_count": null,
   "id": "9f20248d-9d4f-47eb-b40d-74f79370d44d",
   "metadata": {},
   "outputs": [],
   "source": [
    "# Set size of each community\n",
    "community_sizes = [10, 10, 10]\n",
    "# Edge probabilities between each community\n",
    "community_probs = [[0.05, 0.30, 0.50], \n",
    "                   [0.30, 0.05, 0.70], \n",
    "                   [0.50, 0.70, 0.05]]\n",
    "\n",
    "\n",
    "G_sbm = nx.stochastic_block_model(community_sizes, community_probs)"
   ]
  },
  {
   "cell_type": "code",
   "execution_count": null,
   "id": "6740fae4-b8c9-453e-bf92-302201d2439c",
   "metadata": {},
   "outputs": [],
   "source": [
    "partition = nx.community.louvain_communities(G_sbm)\n",
    "\n",
    "best_partition_map = create_partition_map(partition)\n",
    "node_colors = [best_partition_map[n] for n in G_sbm.nodes()]\n",
    "nx.draw(G_sbm,with_labels=True, node_color=node_colors)"
   ]
  },
  {
   "cell_type": "code",
   "execution_count": null,
   "id": "02746e79-7f1a-491c-8f24-bebc04e20ad3",
   "metadata": {},
   "outputs": [],
   "source": []
  },
  {
   "cell_type": "code",
   "execution_count": null,
   "id": "04ec88d5-11d1-455f-85eb-9cdf95cd1ff1",
   "metadata": {},
   "outputs": [],
   "source": []
  }
 ],
 "metadata": {
  "kernelspec": {
   "display_name": "net-course",
   "language": "python",
   "name": "net-course"
  },
  "language_info": {
   "codemirror_mode": {
    "name": "ipython",
    "version": 3
   },
   "file_extension": ".py",
   "mimetype": "text/x-python",
   "name": "python",
   "nbconvert_exporter": "python",
   "pygments_lexer": "ipython3",
   "version": "3.12.5"
  }
 },
 "nbformat": 4,
 "nbformat_minor": 5
}
