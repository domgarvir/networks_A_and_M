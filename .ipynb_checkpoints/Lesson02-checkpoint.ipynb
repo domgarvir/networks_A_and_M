{
 "cells": [
  {
   "cell_type": "markdown",
   "id": "952a37ad-8bb1-4b0f-be71-6fd945d4f457",
   "metadata": {},
   "source": [
    "# Lesson 2 Notebook"
   ]
  },
  {
   "cell_type": "markdown",
   "id": "71f03638-bd8c-44d4-89ac-8de240c9b5bf",
   "metadata": {
    "tags": []
   },
   "source": [
    "## Graphs Methods and NetwokX functions\n",
    "Once we have information stored in the for of graphs, we want to access that information. There are two different ways to do that: methods included in the Graph, and functions from the NetworkX module that we apply to Graphs.\n",
    "\n",
    "### Graph Methods\n",
    "The graph object has some properties and methods giving data about the whole graph. We can access this information using **methods**. \n",
    "This data are available via graph *methods*, *i.e.* they are called from the graph object:\n",
    "\n",
    "    G.<method_name>(<arguments>)\n",
    "\n",
    "#### Obtaining nodes and edges in the network\n",
    "\n",
    "#### Checking for existence of nodes and links"
   ]
  },
  {
   "cell_type": "markdown",
   "id": "48822ac1-b8f9-44fc-b668-5aad61704e54",
   "metadata": {
    "tags": []
   },
   "source": [
    "### Networkx functions"
   ]
  },
  {
   "cell_type": "code",
   "execution_count": null,
   "id": "bab5317c-4e07-4004-a3f6-343eccd0ed2c",
   "metadata": {},
   "outputs": [],
   "source": []
  },
  {
   "cell_type": "markdown",
   "id": "e1fce49f-bda2-464a-afae-bdcc147ce245",
   "metadata": {
    "tags": []
   },
   "source": [
    "## Functions"
   ]
  },
  {
   "cell_type": "code",
   "execution_count": 89,
   "id": "a98d455f-34ce-4db9-ad6d-faef22b6ef82",
   "metadata": {
    "tags": []
   },
   "outputs": [
    {
     "data": {
      "text/plain": [
       "NodeView(('A', 'B', 'C', 'E', 'D', 'F'))"
      ]
     },
     "execution_count": 89,
     "metadata": {},
     "output_type": "execute_result"
    }
   ],
   "source": [
    "# List all of the nodes\n",
    "G.nodes()"
   ]
  },
  {
   "cell_type": "code",
   "execution_count": null,
   "id": "30769c3f-fe58-406c-a587-e56414cfb7a5",
   "metadata": {},
   "outputs": [
    {
     "data": {
      "text/plain": [
       "EdgeView([('A', 'B'), ('A', 'C'), ('B', 'C'), ('B', 'E'), ('B', 'D'), ('C', 'D'), ('E', 'F'), ('E', 'D'), ('D', 'F')])"
      ]
     },
     "execution_count": 90,
     "metadata": {},
     "output_type": "execute_result"
    }
   ],
   "source": [
    "# List all of the edges\n",
    "G.edges()"
   ]
  },
  {
   "cell_type": "code",
   "execution_count": 91,
   "id": "3632abfd-0f44-4c15-8935-71089779c406",
   "metadata": {},
   "outputs": [
    {
     "name": "stdout",
     "output_type": "stream",
     "text": [
      "A\n",
      "B\n",
      "C\n",
      "E\n",
      "D\n",
      "F\n"
     ]
    }
   ],
   "source": [
    "#we can iterate over all the nodes in the network\n",
    "for node in G.nodes:\n",
    "    print(node)"
   ]
  },
  {
   "cell_type": "code",
   "execution_count": 92,
   "id": "6934c8cc-7eea-499c-bc11-d62bab156bfd",
   "metadata": {},
   "outputs": [
    {
     "name": "stdout",
     "output_type": "stream",
     "text": [
      "('A', 'B')\n",
      "('A', 'C')\n",
      "('B', 'C')\n",
      "('B', 'E')\n",
      "('B', 'D')\n",
      "('C', 'D')\n",
      "('E', 'F')\n",
      "('E', 'D')\n",
      "('D', 'F')\n"
     ]
    }
   ],
   "source": [
    "#or iterate ver all edges. The edge is represented by a TUPPLE: This type of \"container\" ->() \n",
    "for edge in G.edges:\n",
    "    print(edge)"
   ]
  },
  {
   "cell_type": "markdown",
   "id": "9d900052-f76f-4604-b7da-328d17e7a74a",
   "metadata": {},
   "source": [
    "Note that the edges are given as 2-tuples, the same way we entered them.\n",
    "\n",
    "We can get the **number of nodes and edges in a graph** using the `number_of_` methods."
   ]
  },
  {
   "cell_type": "code",
   "execution_count": 93,
   "id": "b5c3c41a-b8de-4505-9232-62e767b7ee7c",
   "metadata": {},
   "outputs": [
    {
     "data": {
      "text/plain": [
       "6"
      ]
     },
     "execution_count": 93,
     "metadata": {},
     "output_type": "execute_result"
    }
   ],
   "source": [
    "G.number_of_nodes()"
   ]
  },
  {
   "cell_type": "code",
   "execution_count": 94,
   "id": "0eb75353-459f-496c-a6b0-d315ff398d54",
   "metadata": {},
   "outputs": [
    {
     "data": {
      "text/plain": [
       "9"
      ]
     },
     "execution_count": 94,
     "metadata": {},
     "output_type": "execute_result"
    }
   ],
   "source": [
    "G.number_of_edges()"
   ]
  },
  {
   "cell_type": "markdown",
   "id": "6bbf171a-a6b4-4072-a734-6f79ae6b2274",
   "metadata": {},
   "source": [
    "#### Node and edge existence\n",
    "\n",
    "To **check if a node is present** in a graph, you can use the `has_node()` method:"
   ]
  },
  {
   "cell_type": "code",
   "execution_count": 95,
   "id": "fe9002ef-e01e-466d-8ef6-85959fd5d445",
   "metadata": {},
   "outputs": [
    {
     "data": {
      "text/plain": [
       "False"
      ]
     },
     "execution_count": 95,
     "metadata": {},
     "output_type": "execute_result"
    }
   ],
   "source": [
    "G.has_node('a')"
   ]
  },
  {
   "cell_type": "code",
   "execution_count": 96,
   "id": "0c04837e-b427-4326-9698-3aac71a35503",
   "metadata": {},
   "outputs": [
    {
     "data": {
      "text/plain": [
       "True"
      ]
     },
     "execution_count": 96,
     "metadata": {},
     "output_type": "execute_result"
    }
   ],
   "source": [
    "G.has_node('A')"
   ]
  },
  {
   "cell_type": "markdown",
   "id": "d2284934-6b2b-411b-99bf-a972323f2648",
   "metadata": {},
   "source": [
    "weighted_Additionally, the loop syntax used above: `for n in G.nodes` suggests another way we can check if a node is in a graph:"
   ]
  },
  {
   "cell_type": "code",
   "execution_count": 97,
   "id": "ecf0d36f-b178-4718-9528-7698a6cc0388",
   "metadata": {},
   "outputs": [
    {
     "data": {
      "text/plain": [
       "True"
      ]
     },
     "execution_count": 97,
     "metadata": {},
     "output_type": "execute_result"
    }
   ],
   "source": [
    "'D' in G.nodes"
   ]
  },
  {
   "cell_type": "markdown",
   "id": "bd3598a5-3ae5-43cb-80db-9125fffc09df",
   "metadata": {},
   "source": [
    "Likewise we can **check if two nodes are connected by an edge** using `has_edge`:"
   ]
  },
  {
   "cell_type": "code",
   "execution_count": 98,
   "id": "ca44c1cc-2757-46e1-a62a-c89be34d49b3",
   "metadata": {},
   "outputs": [
    {
     "data": {
      "text/plain": [
       "True"
      ]
     },
     "execution_count": 98,
     "metadata": {},
     "output_type": "execute_result"
    }
   ],
   "source": [
    "G.has_edge('A', 'B')"
   ]
  },
  {
   "cell_type": "code",
   "execution_count": 99,
   "id": "05d1b817-b291-48ca-ba39-c7247c60e0da",
   "metadata": {},
   "outputs": [
    {
     "data": {
      "text/plain": [
       "False"
      ]
     },
     "execution_count": 99,
     "metadata": {},
     "output_type": "execute_result"
    }
   ],
   "source": [
    "G.has_edge('A', 'E')"
   ]
  },
  {
   "cell_type": "code",
   "execution_count": 100,
   "id": "1b5c0c06-7505-4834-9b80-6e655aebed52",
   "metadata": {},
   "outputs": [
    {
     "data": {
      "text/plain": [
       "True"
      ]
     },
     "execution_count": 100,
     "metadata": {},
     "output_type": "execute_result"
    }
   ],
   "source": [
    "('C', 'D') in G.edges"
   ]
  },
  {
   "cell_type": "markdown",
   "id": "587befd1-a0e8-48d5-8e0d-22b5ec071b8f",
   "metadata": {},
   "source": [
    "#### Node level methods\n",
    "Some graph methods take an edge or node as argument. These provide the graph properties of the given edge or node. For example, the `.neighbors()` method gives the nodes linked to the given node:"
   ]
  },
  {
   "cell_type": "code",
   "execution_count": 101,
   "id": "5c209576-20fb-4d18-ab63-4a9c08cfe38d",
   "metadata": {},
   "outputs": [
    {
     "data": {
      "text/plain": [
       "<dict_keyiterator at 0x707fe3bab720>"
      ]
     },
     "execution_count": 101,
     "metadata": {},
     "output_type": "execute_result"
    }
   ],
   "source": [
    "# list of neighbors of node 'b'\n",
    "G.neighbors('B')"
   ]
  },
  {
   "cell_type": "markdown",
   "id": "80c04087-424b-48cb-a525-70ab1cddda30",
   "metadata": {},
   "source": [
    "For performance reasons, many graph methods return iterators instead of lists. They are convenient to loop over:"
   ]
  },
  {
   "cell_type": "code",
   "execution_count": 102,
   "id": "2b9988b9-0ab3-4c9a-9fbb-795e675e4d95",
   "metadata": {},
   "outputs": [
    {
     "name": "stdout",
     "output_type": "stream",
     "text": [
      "A\n",
      "C\n",
      "E\n",
      "D\n"
     ]
    }
   ],
   "source": [
    "for neighbor in G.neighbors('B'):\n",
    "    print(neighbor)"
   ]
  },
  {
   "cell_type": "markdown",
   "id": "3cca1585-d5db-4a7b-8c99-055856b4a85e",
   "metadata": {},
   "source": [
    "and you can always use the `list` constructor to make a list from an iterator:"
   ]
  },
  {
   "cell_type": "code",
   "execution_count": 103,
   "id": "6fe16c85-1d7c-4038-a8e6-2a96327aff75",
   "metadata": {},
   "outputs": [
    {
     "data": {
      "text/plain": [
       "['A', 'C', 'E', 'D']"
      ]
     },
     "execution_count": 103,
     "metadata": {},
     "output_type": "execute_result"
    }
   ],
   "source": [
    "list(G.neighbors('B'))"
   ]
  },
  {
   "cell_type": "markdown",
   "id": "1a9ca735-cf2b-4fbb-b531-481c3e2e2df8",
   "metadata": {},
   "source": [
    "##### **Node degree**\n",
    "\n",
    "One of the most important questions we can ask about a node in a graph is how many other nodes it connects to. Using the `.neighbors()` method from above, we could formulate this question as so:"
   ]
  },
  {
   "cell_type": "code",
   "execution_count": null,
   "id": "3ee75221-02c0-4ab0-87c3-8a0c06e1e52d",
   "metadata": {},
   "outputs": [
    {
     "data": {
      "text/plain": [
       "2"
      ]
     },
     "execution_count": 104,
     "metadata": {},
     "output_type": "execute_result"
    }
   ],
   "source": [
    "len(list(G.neighbors('A')))"
   ]
  },
  {
   "cell_type": "markdown",
   "id": "97b8252d-297f-4ecf-bef0-e222b7632c8f",
   "metadata": {},
   "source": [
    "but this is such a common task that NetworkX provides us a graph method to do this in a much clearer way:"
   ]
  },
  {
   "cell_type": "code",
   "execution_count": 105,
   "id": "62989d4a-a73e-4cb2-afa1-ab319b029024",
   "metadata": {},
   "outputs": [
    {
     "data": {
      "text/plain": [
       "2"
      ]
     },
     "execution_count": 105,
     "metadata": {},
     "output_type": "execute_result"
    }
   ],
   "source": [
    "G.degree('A')"
   ]
  },
  {
   "cell_type": "markdown",
   "id": "3cfb754b-76b7-4ae5-b694-9b0342c5ea6c",
   "metadata": {},
   "source": [
    "### NetworkX functions\n",
    "While several of the most-used NetworkX functions are provided as methods, many more of them are module functions and are called like this:\n",
    "\n",
    "    nx.<function_name>(G, <arguments>)\n",
    "\n",
    "that is, with the graph provided as the first, and maybe only, argument. Here are a couple of examples of NetworkX module functions that provide information about a graph:"
   ]
  },
  {
   "cell_type": "code",
   "execution_count": 106,
   "id": "e0ba4621-8484-434e-8a26-2c4d103708da",
   "metadata": {},
   "outputs": [
    {
     "data": {
      "text/plain": [
       "True"
      ]
     },
     "execution_count": 106,
     "metadata": {},
     "output_type": "execute_result"
    }
   ],
   "source": [
    "nx.is_connected(G)"
   ]
  }
 ],
 "metadata": {
  "kernelspec": {
   "display_name": "Python 3 (ipykernel)",
   "language": "python",
   "name": "python3"
  },
  "language_info": {
   "codemirror_mode": {
    "name": "ipython",
    "version": 3
   },
   "file_extension": ".py",
   "mimetype": "text/x-python",
   "name": "python",
   "nbconvert_exporter": "python",
   "pygments_lexer": "ipython3",
   "version": "3.9.13"
  }
 },
 "nbformat": 4,
 "nbformat_minor": 5
}
