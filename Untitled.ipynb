{
 "cells": [
  {
   "cell_type": "code",
   "execution_count": 2,
   "id": "90b1fd1c-88bb-4ab7-ad5e-53fa7c5fdab9",
   "metadata": {},
   "outputs": [],
   "source": [
    "import pandas as pd #module to work with dataframes\n",
    "import networkx as nx #module to work with networks\n",
    "import numpy as np"
   ]
  },
  {
   "cell_type": "markdown",
   "id": "ab53cc0f-b680-4ab4-b0cb-066c4f0b2285",
   "metadata": {},
   "source": [
    "<div class=\"alert alert-block alert-success\"><b>Up to you: </b>\n",
    "<h3> Exercise 1</h3>\n",
    "Create the undirected graph corresponding to this simple network\n",
    "\n",
    "![title](./images/figure1.png)\n",
    "</div>"
   ]
  },
  {
   "cell_type": "code",
   "execution_count": null,
   "id": "7abdfb10-ab71-40b2-b742-c2296c364e4c",
   "metadata": {},
   "outputs": [],
   "source": []
  }
 ],
 "metadata": {
  "kernelspec": {
   "display_name": "net-course",
   "language": "python",
   "name": "net-course"
  },
  "language_info": {
   "codemirror_mode": {
    "name": "ipython",
    "version": 3
   },
   "file_extension": ".py",
   "mimetype": "text/x-python",
   "name": "python",
   "nbconvert_exporter": "python",
   "pygments_lexer": "ipython3",
   "version": "3.12.4"
  }
 },
 "nbformat": 4,
 "nbformat_minor": 5
}
